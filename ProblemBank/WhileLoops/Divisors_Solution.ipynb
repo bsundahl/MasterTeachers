{
 "cells": [
  {
   "cell_type": "markdown",
   "metadata": {},
   "source": [
    "# Divisors"
   ]
  },
  {
   "cell_type": "markdown",
   "metadata": {},
   "source": [
    "Write some code to print out each pair of divisors of a number."
   ]
  },
  {
   "cell_type": "code",
   "execution_count": 1,
   "metadata": {
    "collapsed": false
   },
   "outputs": [
    {
     "name": "stdout",
     "output_type": "stream",
     "text": [
      "1 * 100 = 100\n",
      "2 * 50 = 100\n",
      "4 * 25 = 100\n",
      "5 * 20 = 100\n",
      "10 * 10 = 100\n",
      "20 * 5 = 100\n",
      "25 * 4 = 100\n"
     ]
    }
   ],
   "source": [
    "the_number = 100\n",
    "i = 1\n",
    "while i < the_number/2:\n",
    "    if the_number % i == 0:\n",
    "        print i, \"*\", the_number / i, \"=\", the_number\n",
    "    i = i + 1"
   ]
  }
 ],
 "metadata": {
  "kernelspec": {
   "display_name": "Python 2",
   "language": "python",
   "name": "python2"
  },
  "language_info": {
   "codemirror_mode": {
    "name": "ipython",
    "version": 2
   },
   "file_extension": ".py",
   "mimetype": "text/x-python",
   "name": "python",
   "nbconvert_exporter": "python",
   "pygments_lexer": "ipython2",
   "version": "2.7.11"
  }
 },
 "nbformat": 4,
 "nbformat_minor": 0
}
