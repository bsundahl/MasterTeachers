{
 "cells": [
  {
   "cell_type": "markdown",
   "metadata": {
    "collapsed": true
   },
   "source": [
    "# General Functions "
   ]
  },
  {
   "cell_type": "markdown",
   "metadata": {},
   "source": [
    "Write a function that will print the first n numbers."
   ]
  },
  {
   "cell_type": "code",
   "execution_count": 5,
   "metadata": {
    "collapsed": true
   },
   "outputs": [],
   "source": [
    "def numbers(n):\n",
    "    \n",
    "    # Iteration variable\n",
    "    i = 1\n",
    "    \n",
    "    # The loop\n",
    "    while i <= n:\n",
    "\n",
    "        # Print the value\n",
    "        print i\n",
    "        \n",
    "        # Update i (no infinite loops here)\n",
    "        i = i + 1"
   ]
  },
  {
   "cell_type": "code",
   "execution_count": 6,
   "metadata": {
    "collapsed": false,
    "scrolled": false
   },
   "outputs": [
    {
     "name": "stdout",
     "output_type": "stream",
     "text": [
      "1\n",
      "2\n",
      "3\n",
      "4\n",
      "5\n",
      "6\n",
      "7\n",
      "8\n",
      "9\n",
      "10\n"
     ]
    }
   ],
   "source": [
    "numbers(10)"
   ]
  },
  {
   "cell_type": "markdown",
   "metadata": {},
   "source": [
    "Write a function to generate n evenly spaces numbers between a and b. Name this function linspace."
   ]
  },
  {
   "cell_type": "code",
   "execution_count": 9,
   "metadata": {
    "collapsed": true
   },
   "outputs": [],
   "source": [
    "def linspace(a,b,n):\n",
    "    \n",
    "    # Make sure everything is correct type\n",
    "    a = float(a)\n",
    "    b = float(b)\n",
    "    n = int(n)\n",
    "    \n",
    "    # The size of each step\n",
    "    dx = (b-a)/(n-1)\n",
    "    \n",
    "    # The answer to return\n",
    "    answer = []\n",
    "    \n",
    "    # Our loop\n",
    "    for i in range(n):\n",
    "        \n",
    "        # Append correct answer to the list\n",
    "        answer.append(a + dx * i)\n",
    "        \n",
    "    # Return our answer\n",
    "    return answer"
   ]
  },
  {
   "cell_type": "code",
   "execution_count": 10,
   "metadata": {
    "collapsed": false
   },
   "outputs": [
    {
     "data": {
      "text/plain": [
       "[0.0,\n",
       " 0.1111111111111111,\n",
       " 0.2222222222222222,\n",
       " 0.3333333333333333,\n",
       " 0.4444444444444444,\n",
       " 0.5555555555555556,\n",
       " 0.6666666666666666,\n",
       " 0.7777777777777777,\n",
       " 0.8888888888888888,\n",
       " 1.0]"
      ]
     },
     "execution_count": 10,
     "metadata": {},
     "output_type": "execute_result"
    }
   ],
   "source": [
    "linspace(0,1,10)"
   ]
  },
  {
   "cell_type": "markdown",
   "metadata": {},
   "source": [
    "Re-write the linspace() function you just wrote to also include checks on the user provided inputs to make sure they make sense. Specifically:\n",
    "    - Make sure that a < b\n",
    "    - Make sure that n > 1"
   ]
  },
  {
   "cell_type": "code",
   "execution_count": 18,
   "metadata": {
    "collapsed": true
   },
   "outputs": [],
   "source": [
    "def linspace(a,b,n):\n",
    "    \n",
    "    # Check n > 1\n",
    "    if n <= 1:\n",
    "        print \"n needs to be > 1\"\n",
    "        return []\n",
    "    \n",
    "    # Check a < b\n",
    "    if b < a:\n",
    "        print \"a needs to be < b\"\n",
    "        return []\n",
    "    \n",
    "    # Make sure everything is correct type\n",
    "    a = float(a)\n",
    "    b = float(b)\n",
    "    n = int(n)\n",
    "    \n",
    "    # The size of each step\n",
    "    dx = (b-a)/(n-1)\n",
    "    \n",
    "    # The answer to return\n",
    "    answer = []\n",
    "    \n",
    "    # Our loop\n",
    "    for i in range(n):\n",
    "        \n",
    "        # Append correct answer to the list\n",
    "        answer.append(a + dx * i)\n",
    "        \n",
    "    # Return our answer\n",
    "    return answer"
   ]
  },
  {
   "cell_type": "code",
   "execution_count": 19,
   "metadata": {
    "collapsed": false
   },
   "outputs": [
    {
     "name": "stdout",
     "output_type": "stream",
     "text": [
      "a needs to be < b\n"
     ]
    },
    {
     "data": {
      "text/plain": [
       "[]"
      ]
     },
     "execution_count": 19,
     "metadata": {},
     "output_type": "execute_result"
    }
   ],
   "source": [
    "linspace(10,1,10)"
   ]
  },
  {
   "cell_type": "code",
   "execution_count": 20,
   "metadata": {
    "collapsed": false
   },
   "outputs": [
    {
     "name": "stdout",
     "output_type": "stream",
     "text": [
      "n needs to be > 1\n"
     ]
    },
    {
     "data": {
      "text/plain": [
       "[]"
      ]
     },
     "execution_count": 20,
     "metadata": {},
     "output_type": "execute_result"
    }
   ],
   "source": [
    "linspace(1,10,0)"
   ]
  },
  {
   "cell_type": "code",
   "execution_count": 21,
   "metadata": {
    "collapsed": false
   },
   "outputs": [
    {
     "name": "stdout",
     "output_type": "stream",
     "text": [
      "n needs to be > 1\n"
     ]
    },
    {
     "data": {
      "text/plain": [
       "[]"
      ]
     },
     "execution_count": 21,
     "metadata": {},
     "output_type": "execute_result"
    }
   ],
   "source": [
    "linspace(1,10,1)"
   ]
  },
  {
   "cell_type": "code",
   "execution_count": null,
   "metadata": {
    "collapsed": true
   },
   "outputs": [],
   "source": []
  },
  {
   "cell_type": "code",
   "execution_count": null,
   "metadata": {
    "collapsed": true
   },
   "outputs": [],
   "source": []
  }
 ],
 "metadata": {
  "kernelspec": {
   "display_name": "Python 2",
   "language": "python",
   "name": "python2"
  },
  "language_info": {
   "codemirror_mode": {
    "name": "ipython",
    "version": 2
   },
   "file_extension": ".py",
   "mimetype": "text/x-python",
   "name": "python",
   "nbconvert_exporter": "python",
   "pygments_lexer": "ipython2",
   "version": "2.7.11"
  }
 },
 "nbformat": 4,
 "nbformat_minor": 0
}
