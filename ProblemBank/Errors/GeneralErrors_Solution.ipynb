{
 "cells": [
  {
   "cell_type": "markdown",
   "metadata": {
    "collapsed": true
   },
   "source": [
    "# General Errors "
   ]
  },
  {
   "cell_type": "markdown",
   "metadata": {},
   "source": [
    "Find what is generating these error message(s) and fix them. Also write a brief description of what was causing the error. Note: You don't necessarily have to know what the code is doing to fix the error(s)."
   ]
  },
  {
   "cell_type": "code",
   "execution_count": 1,
   "metadata": {
    "collapsed": false
   },
   "outputs": [
    {
     "name": "stdout",
     "output_type": "stream",
     "text": [
      "0\n",
      "1\n",
      "2\n",
      "3\n",
      "4\n",
      "5\n",
      "6\n",
      "7\n",
      "8\n",
      "9\n"
     ]
    }
   ],
   "source": [
    "for i in range(10):\n",
    "    print i"
   ]
  },
  {
   "cell_type": "markdown",
   "metadata": {},
   "source": [
    "The above simply forgot the colon (:) at the end of the for loop."
   ]
  },
  {
   "cell_type": "code",
   "execution_count": 2,
   "metadata": {
    "collapsed": false
   },
   "outputs": [
    {
     "name": "stdout",
     "output_type": "stream",
     "text": [
      "1\n",
      "4\n",
      "9\n",
      "16\n",
      "25\n",
      "36\n",
      "49\n",
      "64\n",
      "81\n",
      "100\n"
     ]
    }
   ],
   "source": [
    "i = 0\n",
    "while i < 10:\n",
    "    i += 1\n",
    "    print i**2"
   ]
  },
  {
   "cell_type": "markdown",
   "metadata": {},
   "source": [
    "There were 2 things wrong with this. The first is that the variable i is used before it is created. The second is that i is not updated inside the while loop, which would lead to an infinite loop if executed without the update."
   ]
  },
  {
   "cell_type": "code",
   "execution_count": 3,
   "metadata": {
    "collapsed": false
   },
   "outputs": [
    {
     "name": "stdout",
     "output_type": "stream",
     "text": [
      "Enter an integer5\n",
      "Enter another integer10\n",
      "5 * 10 = 50\n"
     ]
    }
   ],
   "source": [
    "integer1 = int(raw_input(\"Enter an integer\"))\n",
    "integer2 = int(raw_input(\"Enter another integer\"))\n",
    "print \"%d * %d = %d\" % (integer1, integer2, integer1*integer2)"
   ]
  },
  {
   "cell_type": "markdown",
   "metadata": {},
   "source": [
    "The error here comes from input from the user is always saved as a string, and string * string doesn't make sense to Python. To fix, we need to cast the inputs as strings."
   ]
  },
  {
   "cell_type": "code",
   "execution_count": 5,
   "metadata": {
    "collapsed": false
   },
   "outputs": [
    {
     "name": "stdout",
     "output_type": "stream",
     "text": [
      "120\n"
     ]
    }
   ],
   "source": [
    "def factorial(n):\n",
    "    '''\n",
    "        Recursive factorial function\n",
    "    '''\n",
    "    if n == 1:\n",
    "        return 1\n",
    "    \n",
    "    return n * factorial(n-1)\n",
    "    \n",
    "print factorial(5)"
   ]
  },
  {
   "cell_type": "markdown",
   "metadata": {},
   "source": [
    "The error here arises because there is no base case for the recursion. We need to add the line \"if n == 1: return 1\" to make it work."
   ]
  },
  {
   "cell_type": "code",
   "execution_count": 7,
   "metadata": {
    "collapsed": false
   },
   "outputs": [
    {
     "name": "stdout",
     "output_type": "stream",
     "text": [
      "Integral of x**2 from 0 to 1 is ~ 0.3384\n"
     ]
    }
   ],
   "source": [
    "import numpy as np\n",
    "\n",
    "integrals = 0\n",
    "npts = 100\n",
    "x_values = np.linspace(0,1,npts)\n",
    "dx = x_values[1] - x_values[0]\n",
    "z = lambda x : x**2\n",
    "\n",
    "for i in range(npts):\n",
    "    integrals += z(x_values[i])\n",
    "integrals *= dx    \n",
    "\n",
    "print \"Integral of x**2 from 0 to 1 is ~ %2.4f\" % integrals"
   ]
  },
  {
   "cell_type": "markdown",
   "metadata": {},
   "source": [
    "The error here is a simple typo. The variable \"integrals\" has been defined, but not the variable \"integral\". To fix, simply add the \"s\"."
   ]
  }
 ],
 "metadata": {
  "kernelspec": {
   "display_name": "Python 2",
   "language": "python",
   "name": "python2"
  },
  "language_info": {
   "codemirror_mode": {
    "name": "ipython",
    "version": 2
   },
   "file_extension": ".py",
   "mimetype": "text/x-python",
   "name": "python",
   "nbconvert_exporter": "python",
   "pygments_lexer": "ipython2",
   "version": "2.7.11"
  }
 },
 "nbformat": 4,
 "nbformat_minor": 0
}
