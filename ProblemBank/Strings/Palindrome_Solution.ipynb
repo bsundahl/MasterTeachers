{
 "cells": [
  {
   "cell_type": "markdown",
   "metadata": {},
   "source": [
    "# Palindromes "
   ]
  },
  {
   "cell_type": "markdown",
   "metadata": {},
   "source": [
    "From Wikipedia(https://en.wikipedia.org/wiki/Palindrome):\n",
    "    \n",
    "   A palindrome is a word, phrase, number, or other sequence of characters which reads the same backward or forward. Allowances may be made for adjustments to capital letters, punctuation, and word dividers. Examples in English include \"A man, a plan, a canal, Panama!\", \"Amor, Roma\", \"race car\", \"stack cats\", \"step on no pets\", \"taco cat\", \"put it up\", \"Was it a car or a cat I saw?\" and \"No 'x' in Nixon\"."
   ]
  },
  {
   "cell_type": "markdown",
   "metadata": {},
   "source": [
    "Write a function that dertermines if a function is a palindrome."
   ]
  },
  {
   "cell_type": "code",
   "execution_count": 22,
   "metadata": {
    "collapsed": true
   },
   "outputs": [],
   "source": [
    "def palindrome(the_string):\n",
    "    \n",
    "    # Need to pull whitespace out of the the_string\n",
    "    the_string = the_string.replace(\" \", \"\")\n",
    "    \n",
    "    # Create the counters\n",
    "    i = 0\n",
    "    j = len(the_string) - 1\n",
    "    \n",
    "    # Loop until we've checked everything\n",
    "    while i < j:\n",
    "        \n",
    "        # Check if letters match\n",
    "        if the_string[i] != the_string[j]:\n",
    "            # They don't, so we're done\n",
    "            return False\n",
    "\n",
    "        # Update counters\n",
    "        i = i + 1\n",
    "        j = j - 1\n",
    "    \n",
    "    # If we get here, we checked everything\n",
    "    # and found nothing wrong. So it is a\n",
    "    # palindrome!\n",
    "    return True"
   ]
  },
  {
   "cell_type": "code",
   "execution_count": 21,
   "metadata": {
    "collapsed": false
   },
   "outputs": [
    {
     "data": {
      "text/plain": [
       "True"
      ]
     },
     "execution_count": 21,
     "metadata": {},
     "output_type": "execute_result"
    }
   ],
   "source": [
    "palindrome('11011')"
   ]
  },
  {
   "cell_type": "code",
   "execution_count": null,
   "metadata": {
    "collapsed": true
   },
   "outputs": [],
   "source": [
    "palindrome('race car')"
   ]
  }
 ],
 "metadata": {
  "kernelspec": {
   "display_name": "Python 2",
   "language": "python",
   "name": "python2"
  },
  "language_info": {
   "codemirror_mode": {
    "name": "ipython",
    "version": 2
   },
   "file_extension": ".py",
   "mimetype": "text/x-python",
   "name": "python",
   "nbconvert_exporter": "python",
   "pygments_lexer": "ipython2",
   "version": "2.7.11"
  }
 },
 "nbformat": 4,
 "nbformat_minor": 0
}
