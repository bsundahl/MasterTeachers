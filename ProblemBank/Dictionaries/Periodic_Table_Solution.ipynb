{
 "cells": [
  {
   "cell_type": "markdown",
   "metadata": {
    "collapsed": true
   },
   "source": [
    "Write a trio of periodic table dictionaries. Let the first have full names as keys and atomic symbols for values. Let the second have atomic symbols as keys and atomic numbers as values. Let the third have atomic symbols for keys and atomic masses for keys."
   ]
  },
  {
   "cell_type": "code",
   "execution_count": 1,
   "metadata": {
    "collapsed": true
   },
   "outputs": [],
   "source": [
    "# Lets make small periodic table using dictionaries \n",
    "elements = {\n",
    "    'Hydrogen': 'H',\n",
    "    'Helium': 'He',\n",
    "    'Lithium': 'Li',\n",
    "    'Berllium': 'Be',\n",
    "    'Boron': 'B',\n",
    "    'Carbon': 'C',\n",
    "    'Nitrogen': 'N',\n",
    "    'Oxygen': 'O',\n",
    "    'Flourine': 'F',\n",
    "    'Neon': 'Ne'\n",
    "}\n",
    "\n",
    "# create a dictionary of atomic numbers, using abbreviations as keys\n",
    "atomic_numbers = {\n",
    "    'H':  1,\n",
    "    'He': 2,\n",
    "    'Li': 3,\n",
    "    'Be': 4,\n",
    "    'B':  5,\n",
    "    'C':  6,\n",
    "    'N':  7,\n",
    "    'O':  8,\n",
    "    'F':  9,\n",
    "    'Ne': 10\n",
    "}\n",
    "\n",
    "# create a dictionary of atomic masses, using abbreviations as keys\n",
    "atomic_masses = {\n",
    "    'H':  1.008,\n",
    "    'He': 4.002602,\n",
    "    'Li': 6.94,\n",
    "    'Be': 9.01218,\n",
    "    'B':  10.81,\n",
    "    'C':  12.011,\n",
    "    'N':  14.007,\n",
    "    'O':  15.999,\n",
    "    'F':  18.9984,\n",
    "    'Ne': 20.1797\n",
    "}"
   ]
  },
  {
   "cell_type": "markdown",
   "metadata": {},
   "source": [
    "Then make a sufficient number of print statements to make sure your periodic table works."
   ]
  },
  {
   "cell_type": "code",
   "execution_count": 2,
   "metadata": {
    "collapsed": false
   },
   "outputs": [
    {
     "name": "stdout",
     "output_type": "stream",
     "text": [
      "Neon has atomic symbol Ne\n",
      "Berllium has atomic symbol Be\n",
      "Oxygen has atomic symbol O\n",
      "Nitrogen has atomic symbol N\n",
      "Boron has atomic symbol B\n",
      "Helium has atomic symbol He\n",
      "Flourine has atomic symbol F\n",
      "Lithium has atomic symbol Li\n",
      "Hydrogen has atomic symbol H\n",
      "Carbon has atomic symbol C\n"
     ]
    }
   ],
   "source": [
    "# Prints out all abbreviations we are using\n",
    "for full_name, abbreviation in elements.items():\n",
    "    print \"%s has atomic symbol %s\" % (full_name, abbreviation)"
   ]
  },
  {
   "cell_type": "code",
   "execution_count": 3,
   "metadata": {
    "collapsed": false
   },
   "outputs": [
    {
     "name": "stdout",
     "output_type": "stream",
     "text": [
      "Neon weighs 20.1797 grams per mole\n",
      "Berllium weighs 9.01218 grams per mole\n",
      "Oxygen weighs 15.999 grams per mole\n",
      "Nitrogen weighs 14.007 grams per mole\n",
      "Boron weighs 10.81 grams per mole\n",
      "Helium weighs 4.002602 grams per mole\n",
      "Flourine weighs 18.9984 grams per mole\n",
      "Lithium weighs 6.94 grams per mole\n",
      "Hydrogen weighs 1.008 grams per mole\n",
      "Carbon weighs 12.011 grams per mole\n"
     ]
    }
   ],
   "source": [
    "# Prints ot the atomic symbol and atomic number\n",
    "for name, abbr in elements.items():\n",
    "    print \"%s weighs %s grams per mole\" % (name, atomic_masses[abbr])"
   ]
  },
  {
   "cell_type": "code",
   "execution_count": null,
   "metadata": {
    "collapsed": true
   },
   "outputs": [],
   "source": []
  }
 ],
 "metadata": {
  "kernelspec": {
   "display_name": "Python 2",
   "language": "python",
   "name": "python2"
  },
  "language_info": {
   "codemirror_mode": {
    "name": "ipython",
    "version": 2
   },
   "file_extension": ".py",
   "mimetype": "text/x-python",
   "name": "python",
   "nbconvert_exporter": "python",
   "pygments_lexer": "ipython2",
   "version": "2.7.11"
  }
 },
 "nbformat": 4,
 "nbformat_minor": 0
}
