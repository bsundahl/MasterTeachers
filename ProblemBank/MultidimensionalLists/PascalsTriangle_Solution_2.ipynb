{
 "cells": [
  {
   "cell_type": "markdown",
   "metadata": {
    "collapsed": true
   },
   "source": [
    "# Pascal's Triangle "
   ]
  },
  {
   "cell_type": "markdown",
   "metadata": {},
   "source": [
    "From Wikipedia (https://en.wikipedia.org/wiki/Pascal%27s_triangle):\n",
    "\n",
    "In mathematics, Pascal's triangle is a triangular array of the binomial coefficients. In the Western world, it is named after French mathematician Blaise Pascal, although other mathematicians studied it centuries before him in India, Persia (Iran), China, Germany, and Italy.\n",
    "\n",
    "The rows of Pascal's triangle (sequence A007318 in OEIS) are conventionally enumerated starting with row n = 0 at the top (the 0th row). The entries in each row are numbered from the left beginning with k = 0 and are usually staggered relative to the numbers in the adjacent rows. Having the indices of both rows and columns start at zero makes it possible to state that the binomial coefficient {\\displaystyle {\\tbinom {n}{k}}}  appears in the nth row and kth column of Pascal's triangle. A simple construction of the triangle proceeds in the following manner: In row 0, the topmost row, the entry is {\\displaystyle {\\tbinom {0}{0}}=1}  (the entry is in the zeroth row and zeroth column). Then, to construct the elements of the following rows, add the number above and to the left with the number above and to the right of a given position to find the new value to place in that position. If either the number to the right or left is not present, substitute a zero in its place. For example, the initial number in the first (or any other) row is 1 (the sum of 0 and 1), whereas the numbers 1 and 3 in the third row are added to produce the number 4 in the fourth row."
   ]
  },
  {
   "cell_type": "markdown",
   "metadata": {},
   "source": [
    "Write a program that will print out (in fancy string formating) the first n levels of Pascal's Triangle."
   ]
  },
  {
   "cell_type": "code",
   "execution_count": 41,
   "metadata": {
    "collapsed": false
   },
   "outputs": [],
   "source": [
    "def pascal(n):\n",
    "    '''\n",
    "        Function to print out Pascal's Triangle's first n levels.\n",
    "        Input parameters are:\n",
    "           n - number of levels to print\n",
    "    '''\n",
    "    # Create the empty list that will hold our answer\n",
    "    triangle = []\n",
    "    \n",
    "    # Now to calculate the next n-1 rows\n",
    "    for i in range(1,n+1):\n",
    "        \n",
    "        # Add a new list to our triangle list of lists.\n",
    "        # The list we add is of length i\n",
    "        triangle.append([0]*(i)) #could also use a loop here rather than list multiplication\n",
    "        \n",
    "        # Fill in first and last entry of new list with 1\n",
    "        # since we know those explicitly every time\n",
    "        triangle[i-1][0]  = 1\n",
    "        triangle[i-1][-1] = 1\n",
    "        \n",
    "        # Now loop over the rest of the of the new loop and \n",
    "        # add the appropriate 2 entries from the previous list\n",
    "        for j in range(1,i-1):\n",
    "            triangle[i-1][j] = triangle[i-2][j-1] + triangle[i-2][j]\n",
    "            \n",
    "    # Now to print it out in a nice pyramid\n",
    "    for i in range(1,n+1):\n",
    "        \n",
    "        # String we will print\n",
    "        next_line = \"\"\n",
    "        \n",
    "        #pad the line with spaces (the higher i is, the fewer spaces we need)\n",
    "        next_line = next_line + \" \"*(n-i)\n",
    "        \n",
    "        # Calculate the next line\n",
    "        for j in range(0,i):\n",
    "            next_line = next_line + \" \" + str(triangle[i-1][j]) + \" \"\n",
    "        \n",
    "        # Now print the line\n",
    "        print next_line"
   ]
  },
  {
   "cell_type": "code",
   "execution_count": 42,
   "metadata": {
    "collapsed": false
   },
   "outputs": [
    {
     "name": "stdout",
     "output_type": "stream",
     "text": [
      " 1 \n"
     ]
    }
   ],
   "source": [
    "pascal(1)"
   ]
  },
  {
   "cell_type": "code",
   "execution_count": 43,
   "metadata": {
    "collapsed": false
   },
   "outputs": [
    {
     "name": "stdout",
     "output_type": "stream",
     "text": [
      "  1 \n",
      " 1  1 \n"
     ]
    }
   ],
   "source": [
    "pascal(2)"
   ]
  },
  {
   "cell_type": "code",
   "execution_count": 44,
   "metadata": {
    "collapsed": false
   },
   "outputs": [
    {
     "name": "stdout",
     "output_type": "stream",
     "text": [
      "   1 \n",
      "  1  1 \n",
      " 1  2  1 \n"
     ]
    }
   ],
   "source": [
    "pascal(3)"
   ]
  },
  {
   "cell_type": "code",
   "execution_count": 45,
   "metadata": {
    "collapsed": false
   },
   "outputs": [
    {
     "name": "stdout",
     "output_type": "stream",
     "text": [
      "    1 \n",
      "   1  1 \n",
      "  1  2  1 \n",
      " 1  3  3  1 \n"
     ]
    }
   ],
   "source": [
    "pascal(4)"
   ]
  },
  {
   "cell_type": "code",
   "execution_count": 46,
   "metadata": {
    "collapsed": false
   },
   "outputs": [
    {
     "name": "stdout",
     "output_type": "stream",
     "text": [
      "          1 \n",
      "         1  1 \n",
      "        1  2  1 \n",
      "       1  3  3  1 \n",
      "      1  4  6  4  1 \n",
      "     1  5  10  10  5  1 \n",
      "    1  6  15  20  15  6  1 \n",
      "   1  7  21  35  35  21  7  1 \n",
      "  1  8  28  56  70  56  28  8  1 \n",
      " 1  9  36  84  126  126  84  36  9  1 \n"
     ]
    }
   ],
   "source": [
    "pascal(10)"
   ]
  },
  {
   "cell_type": "code",
   "execution_count": null,
   "metadata": {
    "collapsed": true
   },
   "outputs": [],
   "source": []
  }
 ],
 "metadata": {
  "kernelspec": {
   "display_name": "Python 2",
   "language": "python",
   "name": "python2"
  },
  "language_info": {
   "codemirror_mode": {
    "name": "ipython",
    "version": 2
   },
   "file_extension": ".py",
   "mimetype": "text/x-python",
   "name": "python",
   "nbconvert_exporter": "python",
   "pygments_lexer": "ipython2",
   "version": "2.7.11"
  }
 },
 "nbformat": 4,
 "nbformat_minor": 0
}
