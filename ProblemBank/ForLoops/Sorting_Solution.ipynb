{
 "cells": [
  {
   "cell_type": "markdown",
   "metadata": {},
   "source": [
    "Write a function that takes a list of numbers and outputs a list of the same numbers arranged in increasing order. Test your function on a bunch of different lists that test different situations. You may want to write multiple functions, breaking down the problem into pieces and tackling each individually."
   ]
  },
  {
   "cell_type": "code",
   "execution_count": 7,
   "metadata": {
    "collapsed": true
   },
   "outputs": [],
   "source": [
    "def findmin(mylist):\n",
    "    #outputs the index of the most negative element in the list. If there are multiple occurences of the same number in the list, outputs the first occurrence.\n",
    "    min_index = 0 #assumes the list is non-empty, which may be a problem\n",
    "    for i in range(1,len(mylist)):\n",
    "        if mylist[i] < mylist[min_index]:\n",
    "            min_index = i\n",
    "    return min_index\n",
    "\n",
    "def mysort(mylist):\n",
    "    newlist = []\n",
    "    n = len(mylist)\n",
    "    i = 0\n",
    "    while i < n: #This will fix the empty-list problem in findmin\n",
    "        j = findmin(mylist)\n",
    "        newlist.append(mylist[j])\n",
    "        mylist = mylist[:j] + mylist[j+1:]\n",
    "        i = i + 1\n",
    "    return newlist"
   ]
  },
  {
   "cell_type": "code",
   "execution_count": 8,
   "metadata": {
    "collapsed": false
   },
   "outputs": [
    {
     "data": {
      "text/plain": [
       "[-5, 0, 1, 2, 3, 3, 4, 5, 5, 5, 6, 6, 6, 7, 8, 8, 9]"
      ]
     },
     "execution_count": 8,
     "metadata": {},
     "output_type": "execute_result"
    }
   ],
   "source": [
    "mysort([6,6,5,4,7,8,3,5,2,9,8,6,0,3,5,1,-5])"
   ]
  },
  {
   "cell_type": "code",
   "execution_count": 9,
   "metadata": {
    "collapsed": false
   },
   "outputs": [
    {
     "data": {
      "text/plain": [
       "[1, 2, 3]"
      ]
     },
     "execution_count": 9,
     "metadata": {},
     "output_type": "execute_result"
    }
   ],
   "source": [
    "mysort([1,2,3])"
   ]
  },
  {
   "cell_type": "code",
   "execution_count": 10,
   "metadata": {
    "collapsed": false
   },
   "outputs": [
    {
     "data": {
      "text/plain": [
       "[1, 1, 1]"
      ]
     },
     "execution_count": 10,
     "metadata": {},
     "output_type": "execute_result"
    }
   ],
   "source": [
    "mysort([1,1,1])"
   ]
  },
  {
   "cell_type": "code",
   "execution_count": 11,
   "metadata": {
    "collapsed": false
   },
   "outputs": [
    {
     "data": {
      "text/plain": [
       "[]"
      ]
     },
     "execution_count": 11,
     "metadata": {},
     "output_type": "execute_result"
    }
   ],
   "source": [
    "mysort([])"
   ]
  },
  {
   "cell_type": "markdown",
   "metadata": {
    "collapsed": true
   },
   "source": [
    "If you finish early, or want to work on this more, try this variation:\n",
    "\n",
    "You probably used a comparison operator (like > or <) in your solution above. Now, write a function called compare_string(string1, string2) that returns True if string1 comes alphabetically before string2, and False otherwise. Now use this function and your previous solution to write a function that sorts strings alphabetically."
   ]
  },
  {
   "cell_type": "code",
   "execution_count": 12,
   "metadata": {
    "collapsed": true
   },
   "outputs": [],
   "source": [
    "def compare_string(string1,string2):\n",
    "    if not string1:\n",
    "        return True\n",
    "    if not string2:\n",
    "        return False\n",
    "    lowercase = 'abcdefghijklmnopqrstuvwxyz'\n",
    "    a = string1.lower()\n",
    "    b = string2.lower()\n",
    "    length = min(len(a),len(b))\n",
    "    i = 0\n",
    "    while i < length:\n",
    "        aindex = lowercase.find(a[i])\n",
    "        bindex = lowercase.find(b[i])\n",
    "        if aindex == -1 or bindex == -1:\n",
    "            return None\n",
    "        if aindex < bindex:\n",
    "            return True\n",
    "        elif bindex < aindex:\n",
    "            return False\n",
    "        i = i + 1\n",
    "    return True\n",
    "    "
   ]
  },
  {
   "cell_type": "code",
   "execution_count": 13,
   "metadata": {
    "collapsed": true
   },
   "outputs": [],
   "source": [
    "def findmin_string(mylist):\n",
    "    #outputs the index of the most negative element in the list. If there are multiple occurences of the same number in the list, outputs the first occurrence.\n",
    "    min_index = 0 #assumes the list is non-empty, which may be a problem\n",
    "    for i in range(1,len(mylist)):\n",
    "        if compare_string(mylist[i],mylist[min_index]):\n",
    "            min_index = i\n",
    "    return min_index\n",
    "\n",
    "def mysort_string(mylist):\n",
    "    newlist = []\n",
    "    n = len(mylist)\n",
    "    i = 0\n",
    "    while i < n: #This will fix the empty-list problem in findmin\n",
    "        j = findmin_string(mylist)\n",
    "        newlist.append(mylist[j])\n",
    "        mylist = mylist[:j] + mylist[j+1:]\n",
    "        i = i + 1\n",
    "    return newlist"
   ]
  },
  {
   "cell_type": "code",
   "execution_count": 14,
   "metadata": {
    "collapsed": false
   },
   "outputs": [
    {
     "data": {
      "text/plain": [
       "['Andrew', 'Bob', 'Cathy', 'Jake', 'Xavier']"
      ]
     },
     "execution_count": 14,
     "metadata": {},
     "output_type": "execute_result"
    }
   ],
   "source": [
    "testlist = [\"Cathy\",\"Bob\",\"Jake\",\"Andrew\",\"Xavier\"]\n",
    "mysort_string(testlist)"
   ]
  },
  {
   "cell_type": "code",
   "execution_count": 15,
   "metadata": {
    "collapsed": false
   },
   "outputs": [
    {
     "data": {
      "text/plain": [
       "[]"
      ]
     },
     "execution_count": 15,
     "metadata": {},
     "output_type": "execute_result"
    }
   ],
   "source": [
    "testlist = []\n",
    "mysort_string(testlist)"
   ]
  },
  {
   "cell_type": "code",
   "execution_count": 16,
   "metadata": {
    "collapsed": false
   },
   "outputs": [
    {
     "data": {
      "text/plain": [
       "['Bob', 'Bob', 'Bob']"
      ]
     },
     "execution_count": 16,
     "metadata": {},
     "output_type": "execute_result"
    }
   ],
   "source": [
    "testlist = [\"Bob\",\"Bob\",\"Bob\"]\n",
    "mysort_string(testlist)"
   ]
  },
  {
   "cell_type": "code",
   "execution_count": null,
   "metadata": {
    "collapsed": true
   },
   "outputs": [],
   "source": []
  }
 ],
 "metadata": {
  "kernelspec": {
   "display_name": "Python 2",
   "language": "python",
   "name": "python2"
  },
  "language_info": {
   "codemirror_mode": {
    "name": "ipython",
    "version": 2
   },
   "file_extension": ".py",
   "mimetype": "text/x-python",
   "name": "python",
   "nbconvert_exporter": "python",
   "pygments_lexer": "ipython2",
   "version": "2.7.11"
  }
 },
 "nbformat": 4,
 "nbformat_minor": 0
}
