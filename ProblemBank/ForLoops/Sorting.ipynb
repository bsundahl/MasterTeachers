{
 "cells": [
  {
   "cell_type": "markdown",
   "metadata": {},
   "source": [
    "Write a function that takes a list of numbers and outputs a list of the same numbers arranged in increasing order. Test your function on a bunch of different lists that test different situations. You may want to write multiple functions, breaking down the problem into pieces and tackling each individually."
   ]
  },
  {
   "cell_type": "markdown",
   "metadata": {
    "collapsed": true
   },
   "source": [
    "If you finish early, or want to work on this more, try this variation:\n",
    "\n",
    "You probably used a comparison operator (like > or <) in your solution above. Now, write a function called compare_string(string1, string2) that returns True if string1 comes alphabetically before string2, and False otherwise. Now use this function and your previous solution to write a function that sorts strings alphabetically."
   ]
  },
  {
   "cell_type": "code",
   "execution_count": null,
   "metadata": {
    "collapsed": true
   },
   "outputs": [],
   "source": []
  }
 ],
 "metadata": {
  "kernelspec": {
   "display_name": "Python 2",
   "language": "python",
   "name": "python2"
  },
  "language_info": {
   "codemirror_mode": {
    "name": "ipython",
    "version": 2
   },
   "file_extension": ".py",
   "mimetype": "text/x-python",
   "name": "python",
   "nbconvert_exporter": "python",
   "pygments_lexer": "ipython2",
   "version": "2.7.11"
  }
 },
 "nbformat": 4,
 "nbformat_minor": 0
}
