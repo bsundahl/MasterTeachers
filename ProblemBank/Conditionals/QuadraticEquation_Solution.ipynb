{
 "cells": [
  {
   "cell_type": "markdown",
   "metadata": {},
   "source": [
    "# Quadratic Equation"
   ]
  },
  {
   "cell_type": "markdown",
   "metadata": {},
   "source": [
    "Write a cell that checks for the kind of solution a given quadratic will have (2 real solutions? 1 solution? no real solutions?). Print the solutions if there are any, and print an error message if there are no real solutions. If there is only one solution, print that solution only once. Try it on a handful of different quadratics to make sure each case works appropriately."
   ]
  },
  {
   "cell_type": "code",
   "execution_count": 4,
   "metadata": {
    "collapsed": false
   },
   "outputs": [
    {
     "name": "stdout",
     "output_type": "stream",
     "text": [
      "-1.0\n"
     ]
    }
   ],
   "source": [
    "import math\n",
    "\n",
    "a = 1\n",
    "b = 2\n",
    "c = 1\n",
    "\n",
    "d = b**2-4*a*c #the discriminant, which lets us know how many solutions there will be.\n",
    "\n",
    "if d == 0:\n",
    "    x = -(b/2.0)/a\n",
    "    print x\n",
    "elif d > 0:\n",
    "    x1 = (-b + math.sqrt(d))/(2.0*a)\n",
    "    x2 = (-b - math.sqrt(d))/(2.0*a)\n",
    "    print x1,x2\n",
    "else:\n",
    "    print(\"No real solutions\")"
   ]
  },
  {
   "cell_type": "code",
   "execution_count": null,
   "metadata": {
    "collapsed": true
   },
   "outputs": [],
   "source": []
  }
 ],
 "metadata": {
  "kernelspec": {
   "display_name": "Python 2",
   "language": "python",
   "name": "python2"
  },
  "language_info": {
   "codemirror_mode": {
    "name": "ipython",
    "version": 2
   },
   "file_extension": ".py",
   "mimetype": "text/x-python",
   "name": "python",
   "nbconvert_exporter": "python",
   "pygments_lexer": "ipython2",
   "version": "2.7.11"
  }
 },
 "nbformat": 4,
 "nbformat_minor": 0
}
