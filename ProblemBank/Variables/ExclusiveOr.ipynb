{
 "cells": [
  {
   "cell_type": "markdown",
   "metadata": {},
   "source": [
    "# Exclusive Or "
   ]
  },
  {
   "cell_type": "markdown",
   "metadata": {},
   "source": [
    "Write a notebook cell that has thwo variables A and B (booleans). Write a prin tstatement that returns the \"exclusive or\" for these two variables.\n",
    "\n",
    "An \"exclusive or\" returns true if only one of A and B is true, and false if A and B are either both true and both false. The following table summarizes this.\n",
    "\n",
    "$$\n",
    "\\begin{array}{c | c | c}\n",
    "   A & B & Answer \\\\\n",
    "   \\hline\n",
    "   T & T & F \\\\\n",
    "   T & F & T \\\\\n",
    "   F & T & T \\\\\n",
    "   F & F & F\n",
    "\\end{array}\n",
    "$$"
   ]
  },
  {
   "cell_type": "code",
   "execution_count": null,
   "metadata": {
    "collapsed": true
   },
   "outputs": [],
   "source": []
  }
 ],
 "metadata": {
  "kernelspec": {
   "display_name": "Python 2",
   "language": "python",
   "name": "python2"
  },
  "language_info": {
   "codemirror_mode": {
    "name": "ipython",
    "version": 2
   },
   "file_extension": ".py",
   "mimetype": "text/x-python",
   "name": "python",
   "nbconvert_exporter": "python",
   "pygments_lexer": "ipython2",
   "version": "2.7.11"
  }
 },
 "nbformat": 4,
 "nbformat_minor": 0
}
