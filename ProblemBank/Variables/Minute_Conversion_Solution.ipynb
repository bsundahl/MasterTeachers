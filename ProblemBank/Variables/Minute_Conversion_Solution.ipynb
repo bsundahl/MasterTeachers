{
 "cells": [
  {
   "cell_type": "markdown",
   "metadata": {},
   "source": [
    "# Minute Conversion"
   ]
  },
  {
   "cell_type": "markdown",
   "metadata": {},
   "source": [
    "Write a cell that saves a number to a variable num_minutes. Then convert that number to be read in days:hours:minutes and print this to the screen. The following table gives you some inputs with the correct outputs so you can test your code's accuracy.\n",
    "\n",
    "$$\n",
    "\\begin{array}{c | c}\n",
    "   Input & Answer \\\\\n",
    "   \\hline\n",
    "   43 & 0 : 0 : 43 \\\\\n",
    "   432 & 0 : 7 : 12 \\\\\n",
    "   4321 & 3 : 0 : 1 \\\\\n",
    "   43219 & 30 : 0 : 19\n",
    "\\end{array}\n",
    "$$"
   ]
  },
  {
   "cell_type": "code",
   "execution_count": 4,
   "metadata": {
    "collapsed": false
   },
   "outputs": [
    {
     "name": "stdout",
     "output_type": "stream",
     "text": [
      "30 : 0 : 19\n"
     ]
    }
   ],
   "source": [
    "num_minutes = 43219\n",
    "\n",
    "#create variables to hold the number of days and hours\n",
    "#leftover minutes will be contained in num_minutes at the end of this\n",
    "#so there's no need for a minutes variable\n",
    "days = 0\n",
    "hours = 0\n",
    "\n",
    "\n",
    "days = num_minutes/(60*24) #find out how many days it is\n",
    "num_minutes = num_minutes % (60*24) #find out how many minutes remain\n",
    "\n",
    "hours = num_minutes/(60)\n",
    "num_minutes = num_minutes % 60\n",
    "    \n",
    "print days, \":\", hours , \":\" , num_minutes"
   ]
  },
  {
   "cell_type": "code",
   "execution_count": null,
   "metadata": {
    "collapsed": true
   },
   "outputs": [],
   "source": []
  }
 ],
 "metadata": {
  "kernelspec": {
   "display_name": "Python 2",
   "language": "python",
   "name": "python2"
  },
  "language_info": {
   "codemirror_mode": {
    "name": "ipython",
    "version": 2
   },
   "file_extension": ".py",
   "mimetype": "text/x-python",
   "name": "python",
   "nbconvert_exporter": "python",
   "pygments_lexer": "ipython2",
   "version": "2.7.11"
  }
 },
 "nbformat": 4,
 "nbformat_minor": 0
}
