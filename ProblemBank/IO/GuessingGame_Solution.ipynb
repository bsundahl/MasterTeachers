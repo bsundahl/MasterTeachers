{
 "cells": [
  {
   "cell_type": "markdown",
   "metadata": {},
   "source": [
    "### Exercise\n",
    "Write a guessing game function that picks a random integer between 1 and 100, and then has the user continue to guess until the user guesses the correct number. Each time the user is wrong, the function should tell the user if they were too high or too low."
   ]
  },
  {
   "cell_type": "code",
   "execution_count": 3,
   "metadata": {
    "collapsed": true
   },
   "outputs": [],
   "source": [
    "import random\n",
    "\n",
    "\n",
    "def guessing_game():\n",
    "    \n",
    "    # Generate the number\n",
    "    the_number = random.randint(1,100)\n",
    "    \n",
    "    # We need a variable for the guess,\n",
    "    # make it negative so there's no way\n",
    "    # the_number = the_guess before the \n",
    "    # game starts\n",
    "    the_guess = -1\n",
    "    \n",
    "    # Greet the user\n",
    "    print \"Hello and welcome to my guessing game!\"\n",
    "    print \"\"\n",
    "    print \"I have picked a random integer between 1 and 100, try and guess it!\\n\"\n",
    "    \n",
    "    # While loop to keep game going until they guess\n",
    "    while the_number != the_guess:\n",
    "        \n",
    "        # Prompt the user for a guess and save it\n",
    "        inpt = raw_input(\"Please enter your guess (or -1 to exit):\")\n",
    "        \n",
    "        # Lets make sure the user input something we can work with\n",
    "        try:\n",
    "            inpt = int(inpt)\n",
    "        except ValueError:\n",
    "            print \"You entered a non-integer. I can't work with that.\"\n",
    "            return 0\n",
    "        \n",
    "        # Ok, they have entered an intger, but is it -1?\n",
    "        if inpt == -1:\n",
    "            print \"Good bye\"\n",
    "            return 0\n",
    "        \n",
    "        # Ok, they have entered an intger, but is it in range?\n",
    "        if inpt < 1 or inpt > 100:\n",
    "            print \"You entered an integer outside the range of 1 to 100. I can't work with that.\"\n",
    "            return 0\n",
    "        \n",
    "        # If we make it to this part of the code, the input is good. \n",
    "        # So lets use it.\n",
    "        the_guess = int(inpt)\n",
    "        \n",
    "        # Now to tell the user if too high or too low\n",
    "        if the_guess > the_number:\n",
    "            print \"Your guess was too high.\"\n",
    "            \n",
    "        elif the_guess < the_number:\n",
    "            print \"Your guess was too low.\"\n",
    "            \n",
    "    # If we make it to this point, the user guessed the number! \n",
    "    print \"You got it! My number was %d!\" % the_number\n",
    "        "
   ]
  },
  {
   "cell_type": "code",
   "execution_count": 5,
   "metadata": {
    "collapsed": false
   },
   "outputs": [
    {
     "name": "stdout",
     "output_type": "stream",
     "text": [
      "Hello and welcome to my guessing game!\n",
      "\n",
      "I have picked a random integer between 1 and 100, try and guess it!\n",
      "\n",
      "Please enter your guess (or -1 to exit):50\n",
      "Your guess was too low.\n",
      "Please enter your guess (or -1 to exit):75\n",
      "Your guess was too high.\n",
      "Please enter your guess (or -1 to exit):62\n",
      "Your guess was too low.\n",
      "Please enter your guess (or -1 to exit):69\n",
      "Your guess was too low.\n",
      "Please enter your guess (or -1 to exit):72\n",
      "Your guess was too high.\n",
      "Please enter your guess (or -1 to exit):71\n",
      "Your guess was too high.\n",
      "Please enter your guess (or -1 to exit):70\n",
      "You got it! My number was 70!\n"
     ]
    }
   ],
   "source": [
    "guessing_game()"
   ]
  },
  {
   "cell_type": "code",
   "execution_count": null,
   "metadata": {
    "collapsed": true
   },
   "outputs": [],
   "source": []
  }
 ],
 "metadata": {
  "kernelspec": {
   "display_name": "Python 2",
   "language": "python",
   "name": "python2"
  },
  "language_info": {
   "codemirror_mode": {
    "name": "ipython",
    "version": 2
   },
   "file_extension": ".py",
   "mimetype": "text/x-python",
   "name": "python",
   "nbconvert_exporter": "python",
   "pygments_lexer": "ipython2",
   "version": "2.7.11"
  }
 },
 "nbformat": 4,
 "nbformat_minor": 0
}
