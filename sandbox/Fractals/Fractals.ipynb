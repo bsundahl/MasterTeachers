{
 "cells": [
  {
   "cell_type": "markdown",
   "metadata": {},
   "source": [
    "#Fractals"
   ]
  },
  {
   "cell_type": "markdown",
   "metadata": {},
   "source": [
    "From Wikipedia, https://en.wikipedia.org/wiki/Fractal: \n",
    "\n",
    "    A fractal is a natural phenomenon or a mathematical set that exhibits a repeating pattern that displays at every scale. \n",
    "    \n",
    "We will be generating fractals using the Newton-Raphson root finding algorithm. For more information on this algorithm, see https://en.wikipedia.org/wiki/Newton%27s_method."
   ]
  },
  {
   "cell_type": "markdown",
   "metadata": {},
   "source": [
    "Lets import all the needed libraries:"
   ]
  },
  {
   "cell_type": "code",
   "execution_count": 1,
   "metadata": {
    "collapsed": false
   },
   "outputs": [],
   "source": [
    "import numpy as np\n",
    "import pylab as plb\n",
    "import matplotlib.pyplot as plt\n",
    "from numpy import pi\n",
    "from colorsys import hls_to_rgb\n",
    "from textwrap import wrap"
   ]
  },
  {
   "cell_type": "markdown",
   "metadata": {},
   "source": [
    "The numpy library holds the matrices we will be using to generate the fractal. It also has the complex number type, which we will need.\n",
    "\n",
    "The pylab library has the tools to actually take the matrix from numpy and create an image to display on screen.\n",
    "\n",
    "The pyplot module of matplotlib has the tools to write save the fractal image into a .pdf file.\n",
    "\n",
    "From numpy, we also explicitly want to use the constant Pi.\n",
    "\n",
    "The hls_to_rgb function from the colorsys library will auto-magically generate colors for us.\n",
    "\n",
    "The textwrap library will let us write out the polynomial we are using to generate the fractal in a nice format."
   ]
  },
  {
   "cell_type": "markdown",
   "metadata": {},
   "source": [
    "We will be working with polynomials for this exercise. To efficiently store the polynomial function, we will only record the coefficients in descending powers of x. That is, if we have the polynomial\n",
    "\n",
    "    3x^2 + 2x + 7\n",
    "\n",
    "we would store this as the array\n",
    "\n",
    "    [3, 2, 7].\n",
    "    \n",
    "If we had the polynomial \n",
    "\n",
    "    5x^5 - 3x^3 + x\n",
    "    \n",
    "we would store this as the array\n",
    "\n",
    "    [5, 0, -3, 0, 1, 0]\n",
    "    \n",
    "The order is very important here."
   ]
  },
  {
   "cell_type": "markdown",
   "metadata": {},
   "source": [
    "Now lets start writing the functions we will need. First, lets write a function that will represent our polynomial. First, the function will take as input the point at which the function will be evaluated (the z in F(z)). Second, we will need to give it the array of coefficients."
   ]
  },
  {
   "cell_type": "code",
   "execution_count": 2,
   "metadata": {
    "collapsed": true
   },
   "outputs": [],
   "source": [
    "# The polynomial\n",
    "def f(z, coeff):\n",
    "    '''\n",
    "        Evaluates a polynomial represented by coeff at the point z.\n",
    "        Input parameters: \n",
    "                z     - the point at which the polynomial will be evaluated\n",
    "                coeff - the array holding the coefficients of the polynomial in descending powers of x\n",
    "        Output parameters:\n",
    "                value - the value of the polynomial at point z\n",
    "    '''\n",
    "    value = 0.0\n",
    "    for i in range(len(coeff)):\n",
    "        value += coeff[i]*z**(len(coeff)-i)\n",
    "    return value"
   ]
  },
  {
   "cell_type": "markdown",
   "metadata": {},
   "source": [
    "Next is a function to represent the derivative of the polynomial."
   ]
  },
  {
   "cell_type": "code",
   "execution_count": 3,
   "metadata": {
    "collapsed": false
   },
   "outputs": [],
   "source": [
    "# The derivative f'(z)\n",
    "def f_prime(z, coeff):\n",
    "    '''\n",
    "        Evaluates the derivative of a polynomial represented by coeff at the point z.\n",
    "        Input parameters: \n",
    "                z     - the point at which the polynomial will be evaluated\n",
    "                coeff - the array holding the coefficients of the polynomial in descending powers of x\n",
    "        Output parameters:\n",
    "                value - the value of the derivative of the polynomial at point z\n",
    "    '''\n",
    "    value = 0.0\n",
    "    for i in range(len(coeff)-1):\n",
    "        value += coeff[i]*(len(coeff)-i)*z**(len(coeff)-i-1)\n",
    "    return value"
   ]
  },
  {
   "cell_type": "markdown",
   "metadata": {},
   "source": [
    "The second derivative will also be needed periodically, so we will need a function for that. Its written here."
   ]
  },
  {
   "cell_type": "code",
   "execution_count": 4,
   "metadata": {
    "collapsed": true
   },
   "outputs": [],
   "source": [
    "# The second derivative f''(z)\n",
    "def f_doubleprime(z, coeff):\n",
    "    '''\n",
    "        Evaluates the second derivative of a polynomial represented by coeff at the point z.\n",
    "        Input parameters: \n",
    "                z     - the point at which the polynomial will be evaluated\n",
    "                coeff - the array holding the coefficients of the polynomial in descending powers of x\n",
    "        Output parameters:\n",
    "                value - the value of the second derivative of the polynomial at point z\n",
    "    '''\n",
    "    value = 0.0\n",
    "    for i in range(len(coeff)-2):\n",
    "        value += coeff[i]*(len(coeff)-i)*(len(coeff)-i-1)*z**(len(coeff)-i-2)\n",
    "    return value"
   ]
  },
  {
   "cell_type": "markdown",
   "metadata": {},
   "source": [
    "We will also need a function that implements the Newton-Raphson algorithm. It is written below."
   ]
  },
  {
   "cell_type": "code",
   "execution_count": 5,
   "metadata": {
    "collapsed": true
   },
   "outputs": [],
   "source": [
    "# Newton-Raphson Solver\n",
    "def newton(x,coeff):\n",
    "    '''\n",
    "        Finds a root of the polynomial represented by the array coeff.\n",
    "        Input parameters: \n",
    "                x     - the starting guess for the solver\n",
    "                coeff - the array holding the coefficients of the polynomial in descending powers of x\n",
    "        Output parameters:\n",
    "                x     - the calculated root value\n",
    "    '''\n",
    "    # Keep running until we are within 1e-12 of the real root\n",
    "    while abs(f(x,coeff)) >= 1e-12: #Tolerance value hardcoded\n",
    "        \n",
    "        # Update procedure if derivative is zero (this avoids dividing by zero)\n",
    "        if f_prime(x,coeff) == 0:\n",
    "            x = x - f(x)/(f_prime(x)**2-f(x)*f_doubleprime(x))\n",
    "\n",
    "        # Standard update procedure    \n",
    "        else:\n",
    "            x = x - f(x,coeff)/f_prime(x,coeff)           \n",
    "\n",
    "    # Return the root we found\n",
    "    return x"
   ]
  },
  {
   "cell_type": "markdown",
   "metadata": {},
   "source": [
    "The final piece of this puzzle is a function to provide all the colors we will need. It is given here."
   ]
  },
  {
   "cell_type": "code",
   "execution_count": 6,
   "metadata": {
    "collapsed": true
   },
   "outputs": [],
   "source": [
    "# Coloring complex valued things\n",
    "def colorize(z):\n",
    "    '''\n",
    "        Takes a complex number and turns it into a rgb color value\n",
    "        Input parameters: \n",
    "                z - the complex number to be colorized\n",
    "        Output parameters:\n",
    "                c - the rgb color value of the complex number z\n",
    "    '''\n",
    "    r = np.abs(z)\n",
    "    arg = np.angle(z) \n",
    "\n",
    "    h = (arg + pi)  / (2 * pi) + 0.5\n",
    "    l = 1.0 - 1.0/(1.0 + r**0.3)\n",
    "    s = 0.8\n",
    "\n",
    "    c = np.vectorize(hls_to_rgb) (h,l,s) # --> tuple\n",
    "    c = np.array(c)  # -->  array of (3,n,m) shape, but need (n,m,3)\n",
    "    c = c.swapaxes(0,2) \n",
    "    return c"
   ]
  },
  {
   "cell_type": "markdown",
   "metadata": {},
   "source": [
    "That is all the functions needed. Now lets prompt the user for a polynomial:"
   ]
  },
  {
   "cell_type": "code",
   "execution_count": 7,
   "metadata": {
    "collapsed": false
   },
   "outputs": [
    {
     "name": "stdout",
     "output_type": "stream",
     "text": [
      "Enter the coefficients of your polynomial (up to degree 10) seperated by spaces. \n",
      "For example the polynomial \n",
      "\n",
      "\tx^2 + 2x + 3\n",
      "\n",
      "would be entered as \"1 2 3\":\n",
      "9 4 7 2 1 6\n"
     ]
    }
   ],
   "source": [
    "print 'Enter the coefficients of your polynomial (up to degree 10) seperated by spaces. \\nFor example the polynomial \\n\\n\\tx^2 + 2x + 3\\n\\nwould be entered as \\\"1 2 3\\\":'\n",
    "coeff = raw_input().split()"
   ]
  },
  {
   "cell_type": "markdown",
   "metadata": {},
   "source": [
    "A few more constants are needed:"
   ]
  },
  {
   "cell_type": "code",
   "execution_count": 8,
   "metadata": {
    "collapsed": true
   },
   "outputs": [],
   "source": [
    "left_bc = -1000 # The left boundary for our domain\n",
    "right_bc = 1000 # The right boundary for our domain\n",
    "size = 300      # Number of pixels per side of image. !!!! <<<<CAUTION>>>> !!!! Making this larger will \n",
    "                # dramatically increase its runtime. You have been warned."
   ]
  },
  {
   "cell_type": "markdown",
   "metadata": {},
   "source": [
    "Now to use the input and variables to set up the algorithm:"
   ]
  },
  {
   "cell_type": "code",
   "execution_count": 9,
   "metadata": {
    "collapsed": true
   },
   "outputs": [],
   "source": [
    "# Cast the entries as floating point numbers\n",
    "coeff = [float(i) for i in coeff]\n",
    "\n",
    "# 2D array to hold data (initialized to zero)\n",
    "data = np.zeros((size,size), dtype = complex)\n",
    "\n",
    "# x and y values for image (each represents some number of pixels?)\n",
    "x = np.linspace(left_bc, right_bc, size)"
   ]
  },
  {
   "cell_type": "markdown",
   "metadata": {},
   "source": [
    "Everything is ready now. Time to use the Newton-Raphson algorithm (the slow part)."
   ]
  },
  {
   "cell_type": "code",
   "execution_count": 10,
   "metadata": {
    "collapsed": true
   },
   "outputs": [],
   "source": [
    "# Calculating roots\n",
    "for i in range(len(x)):\n",
    "    for j in range(len(x)):\n",
    "        data[i][j] = newton(complex(x[i]/float(size),x[j]/float(size)), coeff)"
   ]
  },
  {
   "cell_type": "markdown",
   "metadata": {},
   "source": [
    "Here we create a nicely formatted string to represent our polynomial."
   ]
  },
  {
   "cell_type": "code",
   "execution_count": 11,
   "metadata": {
    "collapsed": true
   },
   "outputs": [],
   "source": [
    "# Generating a string of the entered polynomial\n",
    "polynomial = \"\"\n",
    "for i in range(len(coeff)):\n",
    "    if i == 0:\n",
    "        polynomial += \"%d * x^%d \" % (coeff[i], len(coeff) - i)\n",
    "    else:\n",
    "        polynomial += \"+ %d * x^%d \" % (coeff[i], len(coeff) - i)"
   ]
  },
  {
   "cell_type": "markdown",
   "metadata": {},
   "source": [
    "Time to visualize our work!"
   ]
  },
  {
   "cell_type": "code",
   "execution_count": 12,
   "metadata": {
    "collapsed": true
   },
   "outputs": [],
   "source": [
    "#Plotting\n",
    "img = colorize(data)\n",
    "im = plb.imshow(img)\n",
    "im.axes.get_xaxis().set_visible(False)\n",
    "im.axes.get_yaxis().set_visible(False)\n",
    "plb.title(\"\\n\".join(wrap(polynomial)))\n",
    "plb.savefig('fractal.pdf', bbox_inches='tight')\n",
    "plt.show()"
   ]
  },
  {
   "cell_type": "code",
   "execution_count": null,
   "metadata": {
    "collapsed": true
   },
   "outputs": [],
   "source": []
  }
 ],
 "metadata": {
  "kernelspec": {
   "display_name": "Python 2",
   "language": "python",
   "name": "python2"
  },
  "language_info": {
   "codemirror_mode": {
    "name": "ipython",
    "version": 2
   },
   "file_extension": ".py",
   "mimetype": "text/x-python",
   "name": "python",
   "nbconvert_exporter": "python",
   "pygments_lexer": "ipython2",
   "version": "2.7.11"
  }
 },
 "nbformat": 4,
 "nbformat_minor": 0
}
