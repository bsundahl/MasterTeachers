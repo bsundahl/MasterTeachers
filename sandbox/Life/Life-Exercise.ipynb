{
 "cells": [
  {
   "cell_type": "markdown",
   "metadata": {},
   "source": [
    "#Conway's Game of Life"
   ]
  },
  {
   "cell_type": "markdown",
   "metadata": {},
   "source": [
    "From Wikipedia: https://en.wikipedia.org/wiki/Conway's_Game_of_Life\n",
    "\n",
    "The Game of Life, also known simply as Life, is a cellular automaton devised by the British mathematician John Horton Conway in 1970.\n",
    "\n",
    "The game is a zero-player game, meaning that its evolution is determined by its initial state, requiring no further input. One interacts with the Game of Life by creating an initial configuration and observing how it evolves or, for advanced players, by creating patterns with particular properties.\n",
    "\n",
    "The Rules of Life:\n",
    "\n",
    "The universe of the Game of Life is an infinite two-dimensional orthogonal grid of square cells, each of which is in one of two possible states, alive or dead. Every cell interacts with its eight neighbours, which are the cells that are horizontally, vertically, or diagonally adjacent. At each step in time, the following transitions occur:\n",
    "\n",
    "  1. Any live cell with fewer than two live neighbours dies, as if caused by under-population.\n",
    "  2. Any live cell with two or three live neighbours lives on to the next generation.\n",
    "  3. Any live cell with more than three live neighbours dies, as if by overcrowding.\n",
    "  4. Any dead cell with exactly three live neighbours becomes a live cell, as if by reproduction."
   ]
  },
  {
   "cell_type": "markdown",
   "metadata": {},
   "source": [
    "Lets import all the necessary libraries: "
   ]
  },
  {
   "cell_type": "code",
   "execution_count": 1,
   "metadata": {
    "collapsed": true
   },
   "outputs": [],
   "source": [
    "import numpy as np\n",
    "import matplotlib.pyplot as plt\n",
    "from random import randint"
   ]
  },
  {
   "cell_type": "markdown",
   "metadata": {},
   "source": [
    "We will use numpy to create a matrix to act as our game board.\n",
    "\n",
    "We will use matplotlib's pyplot to actually do the visualization.\n",
    "\n",
    "We will use random to generate random numbers for the starting conditions (randomness adds flavor)."
   ]
  },
  {
   "cell_type": "markdown",
   "metadata": {},
   "source": [
    "Now there are some variables the program will need:\n",
    "    1. Box size  (A small multiple of 100 will do)\n",
    "    2. Max number of steps (how long our program can run before terminating)\n",
    "    3. A step counter (to make sure the game will end)"
   ]
  },
  {
   "cell_type": "code",
   "execution_count": 2,
   "metadata": {
    "collapsed": true
   },
   "outputs": [],
   "source": [
    "# The game board will have size L x L\n",
    "L = 100\n",
    "\n",
    "# The maximum number of turns\n",
    "max_turns = 100000\n",
    "\n",
    "# Step counter\n",
    "n = 0"
   ]
  },
  {
   "cell_type": "markdown",
   "metadata": {},
   "source": [
    "We will also need our game board. We will create multiple boards:\n",
    "    - 2 previous (to test if the game has ended)\n",
    "    - 1 current  (to save the current turn)\n",
    "    - 1 future   (to calculate the next turn)"
   ]
  },
  {
   "cell_type": "code",
   "execution_count": 3,
   "metadata": {
    "collapsed": false
   },
   "outputs": [],
   "source": [
    "# The game board of turn n-2, n-1, n, and n+1\n",
    "previous1 = np.zeros((L,L))\n",
    "previous2 = np.zeros((L,L))\n",
    "current = np.zeros((L,L))\n",
    "future  = np.zeros((L,L))"
   ]
  },
  {
   "cell_type": "markdown",
   "metadata": {},
   "source": [
    "Now we need to initialize our game board with random starting positions. I have chosen (arbitrarily) to have 500 randomly placed starting \"alive\" pieces clustered in the center of the board. \"Alive\" pieces will hold a value of 1 on the gameboard and \"dead\" pieces will hold a value of 0. Note that the boards were created full of zeros (aka all \"dead\" pieces)."
   ]
  },
  {
   "cell_type": "code",
   "execution_count": 4,
   "metadata": {
    "collapsed": true
   },
   "outputs": [],
   "source": [
    "def initialize_board(L, current):\n",
    "    ''' \n",
    "        Initializes the gameboard with 500 randomly positioned alive pieces.\n",
    "        Input parameters:\n",
    "                L - box size (an integer)\n",
    "                current - current game board (a 2D numpy array)\n",
    "    '''\n",
    "    \n",
    "    # Write your function here"
   ]
  },
  {
   "cell_type": "markdown",
   "metadata": {},
   "source": [
    "Now lets write a function to set up the initial display using the matplotlib libraries pyplot commands:"
   ]
  },
  {
   "cell_type": "code",
   "execution_count": 5,
   "metadata": {
    "collapsed": true
   },
   "outputs": [],
   "source": [
    "def initialize_plot(current):\n",
    "    ''' \n",
    "        Displays initial game board.\n",
    "        Input parameters: \n",
    "                current - current game board (a 2D numpy array)\n",
    "        Return parameter:\n",
    "                im - a pyplot image object\n",
    "    '''   \n",
    "    im = plt.imshow(current, cmap = 'Greys', interpolation = 'nearest')\n",
    "    im.axes.get_xaxis().set_visible(False)\n",
    "    im.axes.get_yaxis().set_visible(False)\n",
    "    plt.ion()\n",
    "    plt.show()\n",
    "    \n",
    "    return im"
   ]
  },
  {
   "cell_type": "markdown",
   "metadata": {},
   "source": [
    "Now for the final part of the game, we need to write a function that will calculate the next step and update the display."
   ]
  },
  {
   "cell_type": "code",
   "execution_count": 6,
   "metadata": {
    "collapsed": false
   },
   "outputs": [],
   "source": [
    "def update_board(current):\n",
    "    ''' \n",
    "        Update the game board.\n",
    "        Input parameters: \n",
    "                current - current game board (a 2D numpy array)\n",
    "    '''  \n",
    "    # Calculate next step\n",
    "    # Clear old update\n",
    "\n",
    "    # Check each cell for its living neighbors to see if it lives in the next iteration\n",
    "    \n",
    "            # Living cell dies due to underpopulation\n",
    "            \n",
    "            # Living cell continues living \n",
    "\n",
    "            # Cell dies, as if by overcrowding\n",
    "\n",
    "            # Dead cell is now living, as if by reproduction\n",
    "\n",
    "\n",
    "    # Return the updated game board\n",
    "\n"
   ]
  },
  {
   "cell_type": "markdown",
   "metadata": {},
   "source": [
    "Lets play the game! Comments with no code immediately below them need code."
   ]
  },
  {
   "cell_type": "code",
   "execution_count": 7,
   "metadata": {
    "collapsed": false
   },
   "outputs": [],
   "source": [
    "# Initialize board\n",
    "\n",
    "\n",
    "# Initialize the plot\n",
    "\n",
    "\n",
    "# Variables needed for a quick pause\n",
    "props = dict(boxstyle='round', facecolor='wheat', alpha=0.5)\n",
    "box = plt.text(1,1, 'Initial Configuration. Click to start', fontsize=14, verticalalignment='top', bbox=props)\n",
    " \n",
    "# The quick pause\n",
    "plt.waitforbuttonpress() \n",
    "box.remove()\n",
    "\n",
    "# Start the game!\n",
    "while 1: # This is always true and hence is an \"infinite loop\" that will always execute. Be careful\n",
    "         # when using this.\n",
    "    \n",
    "    # Test if either of our end conditions have been reached:\n",
    "    #    1. steady state has been reached (Only works for period 2 and less oscillations) \n",
    "    #    2. max turns reached\n",
    "    if np.array_equal(current, previous1) or np.array_equal(current,previous2) or n > max_turns:\n",
    "\n",
    "        # Let user know we've reached steady state and are about to close\n",
    "        props = dict(boxstyle='round', facecolor='wheat', alpha=0.5)\n",
    "        plt.text(1,1, 'Final Configuration. Click to exit', fontsize=14, verticalalignment='top', bbox=props)\n",
    " \n",
    "        # Freeze image, and unfreeze on mouse click\n",
    "        plt.waitforbuttonpress() \n",
    "  \n",
    "        # Unfreezes on click and terminates the program\n",
    "        break\n",
    "    \n",
    "    # Update previous1 and previous2\n",
    "\n",
    "\n",
    "    # Count the number of steps\n",
    "\n",
    "\n",
    "    # Calculate next step\n",
    "\n",
    "    \n",
    "    # Update visualization of the board \n",
    "    im.set_data(current)\n",
    "    plt.draw()\n",
    "    plt.pause(0.01)\n",
    "               \n",
    "# Game is over, time to clean up\n",
    "plt.close(\"all\")"
   ]
  },
  {
   "cell_type": "code",
   "execution_count": null,
   "metadata": {
    "collapsed": true
   },
   "outputs": [],
   "source": []
  }
 ],
 "metadata": {
  "kernelspec": {
   "display_name": "Python 2",
   "language": "python",
   "name": "python2"
  },
  "language_info": {
   "codemirror_mode": {
    "name": "ipython",
    "version": 2
   },
   "file_extension": ".py",
   "mimetype": "text/x-python",
   "name": "python",
   "nbconvert_exporter": "python",
   "pygments_lexer": "ipython2",
   "version": "2.7.10"
  }
 },
 "nbformat": 4,
 "nbformat_minor": 0
}
