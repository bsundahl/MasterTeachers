{
 "cells": [
  {
   "cell_type": "markdown",
   "metadata": {},
   "source": [
    "# Twitter! "
   ]
  },
  {
   "cell_type": "markdown",
   "metadata": {},
   "source": [
    "This notebook will be divided into many sections. The first few are dedicated to getting you up and running with Twitter. The next few demonstrate some of the things you can do with this package. Then at the end there's an example of how you could use this to answer a simple research question of some sort."
   ]
  },
  {
   "cell_type": "markdown",
   "metadata": {},
   "source": [
    "## Getting twython"
   ]
  },
  {
   "cell_type": "markdown",
   "metadata": {},
   "source": [
    "The first step is acquiring twython on your computer. To do this, the first thing you need to do is get to a command prompt on your computer.\n",
    "\n",
    "On Windows, click the start button in the bottom left corner, then type \"command prompt.\" Windows will find the command prompt program for you. Click to open.\n",
    "\n",
    "On Mac, find the terminal program. This is usually in the tray at the bottom of the screen, but may also be in the Launchpad. Click on this (or, you may have to two-finger-click and then click \"New Window\"). This will open a command prompt.\n",
    "\n",
    "Once you have a command prompt open, type the following, then press enter:\n",
    "\n",
    "pip install twython\n",
    "\n",
    "Give the package installer a moment to install twython. If it succeeds, you can close the command prompt window.\n",
    "\n",
    "The code cell below imports the twython package so you can use it in this Jupyter notebook. Try running it (hit shift+enter). If you do not receive an error, then you have installed twython successfully!"
   ]
  },
  {
   "cell_type": "code",
   "execution_count": 2,
   "metadata": {
    "collapsed": true
   },
   "outputs": [],
   "source": [
    "import twython"
   ]
  },
  {
   "cell_type": "markdown",
   "metadata": {},
   "source": [
    "## Using twython to access Twitter "
   ]
  },
  {
   "cell_type": "markdown",
   "metadata": {},
   "source": [
    "In order to use twython to access Twitter, you need to have access to a Twitter account. We will then set up twython to use that account's credentials to access data on Twitter."
   ]
  },
  {
   "cell_type": "markdown",
   "metadata": {},
   "source": [
    "### Creating a Twitter account "
   ]
  },
  {
   "cell_type": "markdown",
   "metadata": {},
   "source": [
    "You can skip this step if you already have a Twitter account.\n",
    "\n",
    "Go to twitter.com and click the sign up button in the top right.\n",
    "\n",
    "Follow the prompts and fill in your information to create a Twitter account. FOr the next step of this process, you will need to have a valid phone number associated with your account."
   ]
  },
  {
   "cell_type": "markdown",
   "metadata": {},
   "source": [
    "### Creating a Twitter app and acquiring authentication keys"
   ]
  },
  {
   "cell_type": "markdown",
   "metadata": {},
   "source": [
    "To access Twitter with Python, we actually create an app, and access Twitter through that. Follow these steps to set it up:\n",
    "\n",
    "Go to dev.twitter.com\n",
    "\n",
    "Sign in if you are not already. You can do this by clicking \"Sign In\" in the top right corner.\n",
    "\n",
    "On dev.twitter.com, scroll down to the menus at the very bottom. Under \"Tools,\" click on \"Manage Your Apps\"\n",
    "\n",
    "You likely don't have any apps already created, so click on Create New App.\n",
    "\n",
    "Give you application a name. It doesn't have to be anything special. \"____'s First App\" will suffice, for example.\n",
    "\n",
    "Give it a description. It also doesn't matter what you write here, as long as it's more than 10 characters.\n",
    "\n",
    "Give your app a website. As long as it's a valid website, this also doesn't matter. If you want, you can use our website, which is http://iacs.stonybrook.edu\n",
    "\n",
    "Don't worry about the Callback URL.\n",
    "\n",
    "Check the box under the Developer Agreement, and then click Create your Twitter application.\n",
    "\n",
    "You'll be taken to the main information page for your app. Near the top of the page, you'll see a set of tabs you can click on. Click on Keys and Access Tokens. Near the top of the page are given your Consumer Key (API Key), and Consumer Secret (API Secret). You will need both of these codes. Scrolling down a bit, you will see a button that allows you to generate an Access Token and Access Token Secret. Click this button and both numbers will be displayed on the screen. You will need both of these codes as well. Below is an example of the four codes, stored as strings into 4 different variables. Replace the example codes with the codes you received, and run the cell."
   ]
  },
  {
   "cell_type": "code",
   "execution_count": 3,
   "metadata": {
    "collapsed": true
   },
   "outputs": [],
   "source": [
    "APP_KEY = \"RqYgqsCs7ydXXk6zjzmxdqDCZ\"                                   #Consumer Key (API Key)\n",
    "APP_SECRET = \"542TaoOTbH55tbNzDcRhnUsP3L9jWg9s6qC8IgN8j44TdC0W17\"       #Consumer Secret (API Secret)\n",
    "OAUTH_TOKEN = \"3342864747-JlhgCzSMkb4Y3P2Lwvk0vnzslC4jNiILTwvduVl\"      #Access Token\n",
    "OAUTH_TOKEN_SECRET = \"YnBha5ruAnBsGKhnx6l6UVMn42VmAPtj8XGA1EpSM2kIh\"    #Access Token Secret"
   ]
  },
  {
   "cell_type": "markdown",
   "metadata": {},
   "source": [
    "## Using Python to access Twitter "
   ]
  },
  {
   "cell_type": "markdown",
   "metadata": {},
   "source": [
    "Now we're ready to start mining Twitter for tweets. The first thing we need to do is create something called a Twython object. An object is essentially a custom data-type that someone else has created. Don't worry too much about it. This will be the only one we use in this notebook. The following cell creates the object and names it twitter."
   ]
  },
  {
   "cell_type": "code",
   "execution_count": 4,
   "metadata": {
    "collapsed": false
   },
   "outputs": [],
   "source": [
    "#Initialize the Twython object\n",
    "twitter = twython.Twython(APP_KEY, APP_SECRET, OAUTH_TOKEN, OAUTH_TOKEN_SECRET)"
   ]
  },
  {
   "cell_type": "markdown",
   "metadata": {},
   "source": [
    "Now we can search Twitter through our object, twitter. An efficient way to do this is through a hashtag. So let's make one, and then call a search function on twitter."
   ]
  },
  {
   "cell_type": "code",
   "execution_count": 9,
   "metadata": {
    "collapsed": false
   },
   "outputs": [],
   "source": [
    "myHashtag = \"#NYC\" #You can change this hashtag to be whatever you want\n",
    "\n",
    "matchedTweets = (twitter.search(q = myHashtag, count = 100))['statuses']\n",
    "#Description of the above line:\n",
    "#myHashtag is the same as the previous line\n",
    "#count is the number of tweets we want to extract\n",
    "#Because the search function returns a dictionary, we want the list that is under the key 'statuses'\n",
    "#So matchedTweets contains a list of tweets. Each tweet is itself a dictionary."
   ]
  },
  {
   "cell_type": "markdown",
   "metadata": {},
   "source": [
    "Since we're now running a lot of someone else's code, it's always helpful to know what we're dealing with. This is where the type function can come in handy."
   ]
  },
  {
   "cell_type": "code",
   "execution_count": 6,
   "metadata": {
    "collapsed": false
   },
   "outputs": [
    {
     "name": "stdout",
     "output_type": "stream",
     "text": [
      "<type 'list'>\n",
      "<type 'dict'>\n"
     ]
    }
   ],
   "source": [
    "print type(matchedTweets) #What is matchedTweets? (hopefully this is a list)\n",
    "print type(matchedTweets[0]) #Since matchedTweets is a list, what kind of things does it contain? Check the first element."
   ]
  },
  {
   "cell_type": "markdown",
   "metadata": {},
   "source": [
    "Ok, so we know we have a list of dictionaries. In order to access the data that's in the dictionary, we need to know the keys. (If each tweet were a list, we would access it with integers 0, 1, 2, etc. But since it's a dictionary, we need to know the strings to use to access the data). We can do this with the keys functions, like this:"
   ]
  },
  {
   "cell_type": "code",
   "execution_count": 7,
   "metadata": {
    "collapsed": false
   },
   "outputs": [
    {
     "data": {
      "text/plain": [
       "[u'contributors',\n",
       " u'truncated',\n",
       " u'text',\n",
       " u'is_quote_status',\n",
       " u'in_reply_to_status_id',\n",
       " u'id',\n",
       " u'favorite_count',\n",
       " u'entities',\n",
       " u'retweeted',\n",
       " u'coordinates',\n",
       " u'source',\n",
       " u'in_reply_to_screen_name',\n",
       " u'in_reply_to_user_id',\n",
       " u'retweet_count',\n",
       " u'id_str',\n",
       " u'favorited',\n",
       " u'retweeted_status',\n",
       " u'user',\n",
       " u'geo',\n",
       " u'in_reply_to_user_id_str',\n",
       " u'possibly_sensitive',\n",
       " u'lang',\n",
       " u'created_at',\n",
       " u'in_reply_to_status_id_str',\n",
       " u'place',\n",
       " u'extended_entities',\n",
       " u'metadata']"
      ]
     },
     "execution_count": 7,
     "metadata": {},
     "output_type": "execute_result"
    }
   ],
   "source": [
    "matchedTweets[0].keys()"
   ]
  },
  {
   "cell_type": "markdown",
   "metadata": {},
   "source": [
    "Knowing the keys, we can do a little bit of printing to see what's actually there. You can do this with either a for loop or a while loop. Now that we know what while loops are (or will, if you haven't done the homework yet), let's use one of those."
   ]
  },
  {
   "cell_type": "code",
   "execution_count": 11,
   "metadata": {
    "collapsed": false
   },
   "outputs": [
    {
     "name": "stdout",
     "output_type": "stream",
     "text": [
      "RT @odebarroso: Uma Diva em NYC 🇺🇸🗽#NandaKeulla #work  #nyc # fotos 💥💥💥 https://t.co/SylbPaqe52 \n",
      "Mon Sep 12 19:24:08 +0000 2016 \n",
      "\n",
      "À l'américaine. \n",
      "4 juillet 2014, Manhattan, New York. #manhattan #nyc #newyork #newyorkcity… https://t.co/c2MN4oCK9b \n",
      "Mon Sep 12 19:24:06 +0000 2016 \n",
      "\n",
      "FREE #Citizenship event with @NYSNewAmericans at @Door_NYC in #NYC this Saturday, 17th. Info https://t.co/HF4pCZIFQO https://t.co/cm3wGuIcQj \n",
      "Mon Sep 12 19:24:06 +0000 2016 \n",
      "\n",
      "RT @portoelis: Vamos às fotos let's go ✨\n",
      "#work  #nyc🗽🇺🇸 https://t.co/GXz2lHsbew \n",
      "Mon Sep 12 19:23:53 +0000 2016 \n",
      "\n",
      "RT @tiagoaparicio: \"Le Pont des Arts\", 1907 by Edward Popper (Whitney Museum of American Art, #NYC). #Paris #Seine #painting #Popper https:… \n",
      "Mon Sep 12 19:23:49 +0000 2016 \n",
      "\n",
      "RT @team_sharapova: @MariaSharapova Hello, it's me 😁📞🗽 #NYC #CharityDay https://t.co/PkvC3UOz6l \n",
      "Mon Sep 12 19:23:39 +0000 2016 \n",
      "\n",
      "RT @ImagineEquities: https://t.co/i7bi1QnPBC JetBlue Allegedly Tried To Pay Mom Off After Losing Her Son For Three Hours https://t.co/vJ9tt… \n",
      "Mon Sep 12 19:23:35 +0000 2016 \n",
      "\n",
      "🔴 9/11 - WHO 'STAGED' THE 9/11 DISASTER https://t.co/TbRUOafEDk #seattle #rochester #california #sanfrancisco #ny #nyc #newyork #texas #nwt \n",
      "Mon Sep 12 19:23:34 +0000 2016 \n",
      "\n",
      "In the city that never sleeps.....#NYC https://t.co/B8un8oRYQP \n",
      "Mon Sep 12 19:23:25 +0000 2016 \n",
      "\n",
      "RT @team_sharapova: @MariaSharapova Hello, it's me 😁📞🗽 #NYC #CharityDay https://t.co/PkvC3UOz6l \n",
      "Mon Sep 12 19:23:24 +0000 2016 \n",
      "\n",
      "‘High-Tech Advanced Manufacturing’ Makers Panel Discussion Tomorrow in Brooklyn #NYC #Manufacturi... https://t.co/7rLULMEM2v \n",
      "Mon Sep 12 19:23:23 +0000 2016 \n",
      "\n",
      "#Hope #NYC bad precedent defending #chokehold #FOIL denied #NYSCivilSeviceLaw50a-#Section75 #badapples pray still be fired @NYPDChiefofDept \n",
      "Mon Sep 12 19:23:21 +0000 2016 \n",
      "\n",
      "Personal size #vegan #glutenfreepizza on our #homemade chickpea #pizza #crust 💜https://t.co/1Fw5pS8y9G #nyc #yummy https://t.co/9Y6vpXtpVm \n",
      "Mon Sep 12 19:23:18 +0000 2016 \n",
      "\n",
      "#nyc #NYFashionWeek2016 #GV @ Manhattan, New York https://t.co/gBnmQR3RvX \n",
      "Mon Sep 12 19:23:16 +0000 2016 \n",
      "\n",
      "White Mondays #NYC #NewYork #Manhattan @ The Oculus at the World Trade Center https://t.co/YhjLEp2g4q \n",
      "Mon Sep 12 19:23:15 +0000 2016 \n",
      "\n",
      "RT @electric_rev: And for our first local artist, DREXX!! See you guys there!! #edm #music #NYC #brooklyn #house #electric #techno https://… \n",
      "Mon Sep 12 19:23:15 +0000 2016 \n",
      "\n",
      "Having a drink with The Big Fella at Dead Rabbit. And @epahogan is here, too. Slainte. #NYC… https://t.co/Q4WudlqgPm \n",
      "Mon Sep 12 19:23:14 +0000 2016 \n",
      "\n",
      ".KtownTheRapper - #LordKnows (Ft. K_Dreamz_) https://t.co/yZub0BFpia #TuneInListenNow #beastcoast #tristate #NYC #Jersey #Connecticut \n",
      "Mon Sep 12 19:23:13 +0000 2016 \n",
      "\n",
      ".Keelon_Nigguh - #Necklace Prod by YungChapoBeats/DjFrosty https://t.co/yZub0BFpia #TuneInListenNow #beastcoast #tristate #NYC #Jersey #Co… \n",
      "Mon Sep 12 19:23:12 +0000 2016 \n",
      "\n",
      ".Raxielsinz - #CantLoseYourLove ft MilyssaRose https://t.co/yZub0BFpia #TuneInListenNow #beastcoast #tristate #NYC #Jersey #Connecticut \n",
      "Mon Sep 12 19:23:12 +0000 2016 \n",
      "\n",
      "#NYC to Rome into February for $563-$594 R/T. https://t.co/Xn4OqlSu4T #travel https://t.co/Sy2yErIw7X \n",
      "Mon Sep 12 19:23:08 +0000 2016 \n",
      "\n",
      "Are outside counsels #reluctant to rely on #ADR? Debate is open at #GPCSeries #NYC #CardozoLawSchool \n",
      "Mon Sep 12 19:23:02 +0000 2016 \n",
      "\n",
      "RT @ScottEastwood: #NYC https://t.co/n8Yw7X6LMa \n",
      "Mon Sep 12 19:22:58 +0000 2016 \n",
      "\n",
      "RT @ScottEastwood: #NYC https://t.co/n8Yw7X6LMa \n",
      "Mon Sep 12 19:22:57 +0000 2016 \n",
      "\n",
      "#NYC to Rome into February for $563-$594 R/T. https://t.co/OnPWdRjleI #travel https://t.co/CCvYgr2gwL \n",
      "Mon Sep 12 19:22:55 +0000 2016 \n",
      "\n",
      "Learn how #Content leads the way to #digitaltransformation. Register for the 9/20 #IBMECM #FileNet workshop in #NYC: https://t.co/N9RYMF3I9b \n",
      "Mon Sep 12 19:22:55 +0000 2016 \n",
      "\n",
      "|| #ThrowBack to NYC adventures with my two boys @pauldmills and dleo25 || #friends #nyc 🍎🗽🍾 https://t.co/SGOJF5KZQl \n",
      "Mon Sep 12 19:22:54 +0000 2016 \n",
      "\n",
      "RT @materbi_usa: From waste to resources: #Milan meets #NYC https://t.co/7uBlxc7dEA #MilanoRecycleCity #zerowaste #circulareconomy https://… \n",
      "Mon Sep 12 19:22:52 +0000 2016 \n",
      "\n",
      "RT @people4dogs: LETICIA might BE KILLED TOMORROW! Please RT-SHARE-PLEDGE-FOSTER-ADOPT! #NYC #CATS\n",
      "\n",
      "https://t.co/IMpbvzZqCR https://t.co/xn… \n",
      "Mon Sep 12 19:22:45 +0000 2016 \n",
      "\n",
      "RT @techsuite1: Stay up to date by signing up for our email subscription! https://t.co/CkFTSviVeG \n",
      "#techsuite #subscribe #business #nyc \n",
      "Mon Sep 12 19:22:36 +0000 2016 \n",
      "\n",
      "Overheard in Chelsea Market: \"Williamsburg is actually fucking horrible.\" #nyc \n",
      "Mon Sep 12 19:22:35 +0000 2016 \n",
      "\n",
      "RT @TheRealDJDIGGA: #DJDIGGA #THEREALDJDIGGA #yadigg #Fleetdjs #NYFleetDJs #dj #SocialMedia #nyc #Party #events https://t.co/nK8Tzwteak \n",
      "Mon Sep 12 19:22:35 +0000 2016 \n",
      "\n",
      "RT @MMGYglobal: We're looking for a fall public relations intern in our #NYC office: https://t.co/MHzdE15NUK \n",
      "Mon Sep 12 19:22:33 +0000 2016 \n",
      "\n",
      "Last night was great!! 😃#NYC #rockwood @ Rockwood Music Hall, 185 Orchard Street., New York, NY… https://t.co/5omveudrT6 \n",
      "Mon Sep 12 19:22:28 +0000 2016 \n",
      "\n",
      "#Ramones #Queens #NYC https://t.co/SiLqJ9knqL \n",
      "Mon Sep 12 19:22:25 +0000 2016 \n",
      "\n",
      "Monday Morning Smiles! #FatherAndSon #TheYoungestYounger #fatherhood #parenthood #BlackMenSmile #blackout #NYC  https://t.co/tJzvwQ4zP4 \n",
      "Mon Sep 12 19:22:22 +0000 2016 \n",
      "\n",
      "https://t.co/i7bi1QnPBC JetBlue Allegedly Tried To Pay Mom Off After Losing Her Son For Three Hours https://t.co/vJ9ttSQAIx  #NYC \n",
      "Mon Sep 12 19:22:21 +0000 2016 \n",
      "\n",
      "It was a great time!\n",
      "US Open By The Numbers https://t.co/6qITSgeypK #USOpen #tennis #NYC \n",
      "Mon Sep 12 19:22:16 +0000 2016 \n",
      "\n",
      "RT @ScottEastwood: #NYC https://t.co/n8Yw7X6LMa \n",
      "Mon Sep 12 19:22:15 +0000 2016 \n",
      "\n",
      "Memories never die💫 #nyc #centralpark 🌼🌿 @ Central Park in NYC https://t.co/C9SmweYuTq \n",
      "Mon Sep 12 19:22:07 +0000 2016 \n",
      "\n",
      "There's nothing like NY interiors. #inspiration #nyc #design #realestate https://t.co/1h4alLWh7M \n",
      "Mon Sep 12 19:22:02 +0000 2016 \n",
      "\n",
      "JOIN https://t.co/1jRUYZLmJW https://t.co/bRfOYJVqbD  Jazzy Sambaiao #jazz #latinjazz #art #instrumental #nyc #composer \n",
      "Mon Sep 12 19:22:01 +0000 2016 \n",
      "\n",
      "Un hombre de Brooklyn se convierte en el primer caso de una persona con virus de Nilo Occidental en #NYC https://t.co/FNvbXZ5nkV @nycHealthy \n",
      "Mon Sep 12 19:21:59 +0000 2016 \n",
      "\n",
      "#NYC #News Upstate New York breweries to visit this fall: Prost! https://t.co/0O3wexlgcc \n",
      "Mon Sep 12 19:21:59 +0000 2016 \n",
      "\n",
      "#NYC #News Astoria affordable housing lottery open for six apartments, city announces: There will be a prefer... https://t.co/bGxNteZXgQ \n",
      "Mon Sep 12 19:21:59 +0000 2016 \n",
      "\n",
      "#NYC #News Experts: Prostate cancer, cardiac troubles emerge as WTC maladies: Health experts will present the... https://t.co/KY4wkcJEve \n",
      "Mon Sep 12 19:21:58 +0000 2016 \n",
      "\n",
      "What a rich nigga night richthekid x @djself #CLUBACES #NYC #fashionweek #QCDJS #richforever… https://t.co/KNXMMR72oW \n",
      "Mon Sep 12 19:21:56 +0000 2016 \n",
      "\n",
      "RT @SaraRamirez: #ThankYou @paulette49 @ParadeMagazine it was great speaking w/you! @TEDTalks #EducationRevolution #NYC #Latinx @PBS https:… \n",
      "Mon Sep 12 19:21:54 +0000 2016 \n",
      "\n",
      "RT @NYCDailyPics: Central Park by @rtsitegustaria #newyork #nyc https://t.co/ISMPfjGeHy \n",
      "Mon Sep 12 19:21:47 +0000 2016 \n",
      "\n",
      "RT @AdriaQuinones: Interested in supporting WOC?  If you're in #NYC hope to see you tonight.  https://t.co/9jAy9k57hH \n",
      "Mon Sep 12 19:21:47 +0000 2016 \n",
      "\n",
      "Oh my god! 😳😳🙃🙃😄😄 still can’t believe, that this is finally happening! Now the ticket for the #Knicks 😉 #Jets #NYC https://t.co/l7oJff1UAX \n",
      "Mon Sep 12 19:21:44 +0000 2016 \n",
      "\n",
      "RT @billboard: Send your pics using #LiveInFeria #NYC for a chance to win thanks to @LorealParisUSA! https://t.co/hA2qXg8xAY https://t.co/9… \n",
      "Mon Sep 12 19:21:42 +0000 2016 \n",
      "\n",
      "#BucketList #Book #Fund Click 2 #Donate: https://t.co/I014BAvcn6 #Fundraising #Life #Goals #Writers #NYC #DreamsComeTrue #InternetFriendDay \n",
      "Mon Sep 12 19:21:40 +0000 2016 \n",
      "\n",
      "Leaving Boston with my one way train ticket to Nyc! Tiff vs Fashion Week... This year, fashion week won! #Boston #nyc #fashionweek 👗 \n",
      "Mon Sep 12 19:21:35 +0000 2016 \n",
      "\n",
      "RT @follownewsnow1: #nyc #NewYork Ep. 188 - Hillary's Sick, the New York Times is Sicker \n",
      "Mon Sep 12 19:21:33 +0000 2016 \n",
      "\n",
      "“Remember, Remember, the Eleventh of September.” 🇺🇸 #September11th #911 #2001 #NeverForget #NewYorkCity #NYC @UofSC https://t.co/w67dGkSrV5 \n",
      "Mon Sep 12 19:21:33 +0000 2016 \n",
      "\n",
      "#trending  #musicvideo #music #electronic #siriussun #nyc #uncut #sweden #netherlands #germany #norway #paris #la  https://t.co/WpqR1ZQlH8 \n",
      "Mon Sep 12 19:21:23 +0000 2016 \n",
      "\n",
      "RT @drkoalz: look who tagged along 4 cloud analytics #NYC tour https://t.co/XOAABBeoVC #ElasticDW @SnowflakeDB @marcinzukowski https://t.co… \n",
      "Mon Sep 12 19:21:23 +0000 2016 \n",
      "\n",
      "UFCG IS SEEKING FASHION PR INTERNS TO START IMMEDIATELY (NYC) #Careers #Internships #NYC #… https://t.co/AYBkOSQTlE https://t.co/UyrEdKo2s2 \n",
      "Mon Sep 12 19:21:19 +0000 2016 \n",
      "\n",
      "@proenzaschouler one of my favorites in #NYC #spring2017 #nyfw #top #must #proenzaschouler #ps… https://t.co/v685nR6o5w \n",
      "Mon Sep 12 19:21:16 +0000 2016 \n",
      "\n",
      "RT @FashionistaJob: Womenswear Brand, @TOSIANYC Is Seeking Part Time Interns In #NewYork #NYC #Internships https://t.co/00HYY6WLJE https://… \n",
      "Mon Sep 12 19:21:15 +0000 2016 \n",
      "\n",
      "RT @corinnedubreuil: A pleasure to do this #photoshoot with a nice Man! Well done Mr @stanwawrinka Your rock! #USOpen #Rockefeller #NYC htt… \n",
      "Mon Sep 12 19:21:10 +0000 2016 \n",
      "\n",
      "RT @team_sharapova: @MariaSharapova Hello, it's me 😁📞🗽 #NYC #CharityDay https://t.co/PkvC3UOz6l \n",
      "Mon Sep 12 19:21:00 +0000 2016 \n",
      "\n",
      "RT @LilveronicaR: #NYC #timessquare #timessquarenyc 🌃🏙 @ Times Square, New York City https://t.co/jAdNBZYFcj \n",
      "Mon Sep 12 19:20:58 +0000 2016 \n",
      "\n",
      "Walking over Brooklyn Bridge. A must do #NYC https://t.co/PauR3fzUYF \n",
      "Mon Sep 12 19:20:57 +0000 2016 \n",
      "\n",
      "#helloamerica #tikiisland for the #dogs lol #dogbeach #restoration #prospectpark #brooklyn #nyc… https://t.co/BPWpFdn1fu \n",
      "Mon Sep 12 19:20:53 +0000 2016 \n",
      "\n",
      "RT @LilveronicaR: 🏙🌃 #NYC #TimesSquare https://t.co/jIzXWpROnD \n",
      "Mon Sep 12 19:20:45 +0000 2016 \n",
      "\n",
      "#NYC #timessquare #timessquarenyc 🌃🏙 @ Times Square, New York City https://t.co/jAdNBZYFcj \n",
      "Mon Sep 12 19:20:43 +0000 2016 \n",
      "\n",
      "Browns' Robert Griffin III to miss at least eight games with shoulder injury https://t.co/LgARLDpqPq #NY #NYC \n",
      "Mon Sep 12 19:20:36 +0000 2016 \n",
      "\n",
      "#ifyouseesomething #man #おとこ #versace #camouflage  #makingamericagreatagain #forreal  #nyc… https://t.co/tcEjdXBZiN \n",
      "Mon Sep 12 19:20:33 +0000 2016 \n",
      "\n",
      "RT @ifarmlife: Secret Life #ifarm #ifarmlife #toronto #Montreal #NYC #Love #pop #popculture #Chicago #song #poem #London #USA https://t.co/… \n",
      "Mon Sep 12 19:20:33 +0000 2016 \n",
      "\n",
      "Take a look at the Sep 17 #Accessibility #NYC Camp schedule https://t.co/SVinkPhird &amp; then register https://t.co/6xiyTPQZ3x #a11y \n",
      "Mon Sep 12 19:20:27 +0000 2016 \n",
      "\n",
      "Beta version 2 of the new song from James Britt, \"Washington Heights\" https://t.co/WMjLQ1udtd #dancenoise  #nyc #WashingtonHeights #Postpunk \n",
      "Mon Sep 12 19:20:23 +0000 2016 \n",
      "\n",
      "RT @ifarmlife: Mondo-Like-Babe @TeamLoveFriends #ifarm #ifarmlife #toronto #Montreal #NYC #Love #popculture #Chicago #London #USA https://t… \n",
      "Mon Sep 12 19:20:20 +0000 2016 \n",
      "\n",
      "RT @southernpride50: 🆘NOT SAFE🆘SUGAR SWT🆘TO DIE 9/12/16  #NYC.🆘LC🆘\n",
      "❤️PUP❤️\n",
      "\n",
      "HENNESSY-A1085464-F AM PIT MX 6 MOS\n",
      "\n",
      "https://t.co/7QejFOJu2U… h… \n",
      "Mon Sep 12 19:20:17 +0000 2016 \n",
      "\n",
      "NYC Subway Mosaic Glass Sign for Indoor/ Outdoor or Install - BLEECKER ST https://t.co/8SnONiVSu6 #NYC #Mosaic https://t.co/5ardcWY8tN \n",
      "Mon Sep 12 19:20:15 +0000 2016 \n",
      "\n",
      "Check out Brendan Fraser on @BGCCharityDay's trading floor #NYC.\n",
      "#BGCCharityDay https://t.co/R3P484Cfoi \n",
      "Mon Sep 12 19:20:09 +0000 2016 \n",
      "\n",
      "RT @AngeliqueKerber: Posing with my #USOpen trophy 🏆 #NYC #TeamAngie https://t.co/PCtsJFYxPg \n",
      "Mon Sep 12 19:20:06 +0000 2016 \n",
      "\n",
      "RT @motivesmira: Where to buy @motives #makeup New York City https://t.co/PxW3e5lE5B #makeuplover #makeupjunkie #bblogger #nyc \n",
      "Mon Sep 12 19:19:55 +0000 2016 \n",
      "\n",
      "#latenight #lastnight 💫 #NYC #NYFW ph. @alainamullin https://t.co/oLVpOCf90p \n",
      "Mon Sep 12 19:19:55 +0000 2016 \n",
      "\n",
      "What a tease... 🍵 #foodpuns #tea #ChelseaMarket #NYC #latergram https://t.co/LIYtBgvn46 https://t.co/GHHoTN8GYQ \n",
      "Mon Sep 12 19:19:50 +0000 2016 \n",
      "\n",
      "#BallOut #ShowOut #24 Go and lock that side of the field up @J_No24 Ya man in #NYC is #firedup for ur debut! #DOWORK https://t.co/ZCvK0GcMxD \n",
      "Mon Sep 12 19:19:50 +0000 2016 \n",
      "\n",
      "I can refer you to some hella, #NYC🍎 #DiamondDistrict owners.\n",
      "#BlingBling💍💎 https://t.co/ILI0djntzZ \n",
      "Mon Sep 12 19:19:49 +0000 2016 \n",
      "\n",
      "A subway car with no #manspreading. #subway #NYC https://t.co/OAtBCwRf13 \n",
      "Mon Sep 12 19:19:39 +0000 2016 \n",
      "\n",
      "Love #streetphotography #nyc #fujixt1 #fuji #fujifilm #newyorkcity #subway #underground… https://t.co/Hoy7CvFwMk \n",
      "Mon Sep 12 19:19:27 +0000 2016 \n",
      "\n",
      "He gone talk to you for me from now on... \n",
      "\n",
      "#nyc #subway… https://t.co/HKiJHZYW22 \n",
      "Mon Sep 12 19:19:17 +0000 2016 \n",
      "\n",
      "Looks like a semi #apocalyptic #NYC #travel #driving #roadtrip #adventure #NewYorkCity #trip… https://t.co/UBaPyG0n68 \n",
      "Mon Sep 12 19:19:09 +0000 2016 \n",
      "\n",
      "RT @FashionistaJob: Millennial Brands Is Seeking A Marketing Intern In #NewYork #NYC #Internships https://t.co/PmzWRMt3aj https://t.co/YEbT… \n",
      "Mon Sep 12 19:19:07 +0000 2016 \n",
      "\n",
      "RT @Villacajazz: #RoundMidnight https://t.co/OKPbBQ0b6s #jazz #piano #Madrid #NYC @AstorEterno @lolalolih @Juancar1957 @CafeBerlinMad https… \n",
      "Mon Sep 12 19:19:02 +0000 2016 \n",
      "\n",
      "RT @southernpride50: 🆘NOT SAFE🆘FULL OF LIFE🆘TO DIE 9/12/16. #NYC. NH. 🆘LC🆘\n",
      "\n",
      "RAYA-A1087667-F am pit ter 4 YRS\n",
      " \n",
      "https://t.co/nFGZHjBnyj http… \n",
      "Mon Sep 12 19:19:01 +0000 2016 \n",
      "\n",
      "RT @GSDDogLover: #NYC schools closed today in honor of Islam. \n",
      "\n",
      "Eid-Al-Adha Festival \"cake\" one day after 9/11. https://t.co/B4OwoirR8s \n",
      "Mon Sep 12 19:19:00 +0000 2016 \n",
      "\n",
      "RT @DonnieWahlberg: #NeverForget #September11 #NYPD #FDNY #NYC https://t.co/L23TJKzng2 \n",
      "Mon Sep 12 19:18:55 +0000 2016 \n",
      "\n",
      "The #art hustle is real in #nyc: Let's show @SUCKLORD the goddamn MONEY! https://t.co/1YD7GFXYbZ  #suckadelic https://t.co/04gjVUxxKE \n",
      "Mon Sep 12 19:18:54 +0000 2016 \n",
      "\n",
      "Today was spent chilling at pebble beach, Brooklyn. Not bad views as well #NYC https://t.co/5w4FPbg51U \n",
      "Mon Sep 12 19:18:48 +0000 2016 \n",
      "\n",
      "RT @GSDDogLover: #NYC schools closed today in honor of Islam. \n",
      "\n",
      "Eid-Al-Adha Festival \"cake\" one day after 9/11. https://t.co/B4OwoirR8s \n",
      "Mon Sep 12 19:18:34 +0000 2016 \n",
      "\n",
      "RT @GNaTSMusicUk: #NewMusic @GNaTSMusicUk #OneWayKid 4/10/16 @NYCFactoryFast #AStarIsBorn #MixCD #newmusicmonday #rock #London #NYC 😎🤘🏻http… \n",
      "Mon Sep 12 19:18:31 +0000 2016 \n",
      "\n",
      ".@saks in #nyc sheds department store label https://t.co/yFtyobeDwB via @nypost #retail \n",
      "Mon Sep 12 19:18:31 +0000 2016 \n",
      "\n",
      ".Where to Stay for $39 a Night in New York City? In a Yellow Cab https://t.co/fSebe7vk7N #yellowcab #nyc IS IT SANATARY? \n",
      "Mon Sep 12 19:18:31 +0000 2016 \n",
      "\n",
      "https://t.co/qSAReMdvSV 15 Pictures 15 Years Later: #NYC Remembers 9/11 \n",
      "Mon Sep 12 19:18:29 +0000 2016 \n",
      "\n"
     ]
    }
   ],
   "source": [
    "for tweet in matchedTweets:\n",
    "    print tweet['text'] , '\\n', tweet['created_at'], '\\n' # the '\\n' prints a new line"
   ]
  },
  {
   "cell_type": "code",
   "execution_count": null,
   "metadata": {
    "collapsed": true
   },
   "outputs": [],
   "source": []
  }
 ],
 "metadata": {
  "kernelspec": {
   "display_name": "Python 2",
   "language": "python",
   "name": "python2"
  },
  "language_info": {
   "codemirror_mode": {
    "name": "ipython",
    "version": 2
   },
   "file_extension": ".py",
   "mimetype": "text/x-python",
   "name": "python",
   "nbconvert_exporter": "python",
   "pygments_lexer": "ipython2",
   "version": "2.7.11"
  }
 },
 "nbformat": 4,
 "nbformat_minor": 0
}
