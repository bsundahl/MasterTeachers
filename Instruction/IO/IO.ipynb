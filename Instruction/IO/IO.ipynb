{
 "cells": [
  {
   "cell_type": "markdown",
   "metadata": {
    "collapsed": true
   },
   "source": [
    "# Input / Output "
   ]
  },
  {
   "cell_type": "markdown",
   "metadata": {},
   "source": [
    "### Interact with User"
   ]
  },
  {
   "cell_type": "markdown",
   "metadata": {},
   "source": [
    " One thing we haven't touched on is how to have our programs interact with anything outside our programs. Programs can easily read and write to files and take input from the user. We'll focus on input/output here.  \n",
    "  \n",
    "A very simple way to demonstrate how to interact with the user is to take input from them using the raw_input() function."
   ]
  },
  {
   "cell_type": "code",
   "execution_count": 1,
   "metadata": {
    "collapsed": false
   },
   "outputs": [
    {
     "name": "stdout",
     "output_type": "stream",
     "text": [
      "What is your name?bryan\n"
     ]
    },
    {
     "data": {
      "text/plain": [
       "'bryan'"
      ]
     },
     "execution_count": 1,
     "metadata": {},
     "output_type": "execute_result"
    }
   ],
   "source": [
    "raw_input(\"What is your name?\")"
   ]
  },
  {
   "cell_type": "markdown",
   "metadata": {},
   "source": [
    "You'll notice a few things from this line. First, python prints out what is inside the string that we passed to the raw_input() function. If we had passed nothing, we'd have gotten nothing but a prompt. That would look like this:"
   ]
  },
  {
   "cell_type": "code",
   "execution_count": 2,
   "metadata": {
    "collapsed": false
   },
   "outputs": [
    {
     "name": "stdout",
     "output_type": "stream",
     "text": [
      "\n"
     ]
    },
    {
     "data": {
      "text/plain": [
       "''"
      ]
     },
     "execution_count": 2,
     "metadata": {},
     "output_type": "execute_result"
    }
   ],
   "source": [
    "raw_input()"
   ]
  },
  {
   "cell_type": "markdown",
   "metadata": {},
   "source": [
    "Its not very informative when a program puts up an empty box and then idles, waiting for an uninformed user to do something. Its good practice to always provide a prompting string to raw_input(). The second thing you may notice is python outputs our input. What type is our output? Lets test."
   ]
  },
  {
   "cell_type": "code",
   "execution_count": 3,
   "metadata": {
    "collapsed": false
   },
   "outputs": [
    {
     "name": "stdout",
     "output_type": "stream",
     "text": [
      "Enter something:something\n"
     ]
    },
    {
     "data": {
      "text/plain": [
       "str"
      ]
     },
     "execution_count": 3,
     "metadata": {},
     "output_type": "execute_result"
    }
   ],
   "source": [
    "type(raw_input(\"Enter something:\"))"
   ]
  },
  {
   "cell_type": "markdown",
   "metadata": {},
   "source": [
    "So here I entered a number (the number 5) but python interpreted it as a string. Thats because everything entered into raw_input() gets stored as a string. It is up to the programmer to cast the input into the correct data type.  \n",
    "  \n",
    "We can save the input into a variable quite easily. This works exactly how you think it will."
   ]
  },
  {
   "cell_type": "code",
   "execution_count": 4,
   "metadata": {
    "collapsed": false
   },
   "outputs": [
    {
     "name": "stdout",
     "output_type": "stream",
     "text": [
      "Enter your name:bryan\n"
     ]
    }
   ],
   "source": [
    "my_name = raw_input(\"Enter your name:\")"
   ]
  },
  {
   "cell_type": "markdown",
   "metadata": {},
   "source": [
    "You'll notice no output was given here, as it was instead stored inside the variable \"my_name\". Lets see what is stored in \"my_name\"."
   ]
  },
  {
   "cell_type": "code",
   "execution_count": 5,
   "metadata": {
    "collapsed": false
   },
   "outputs": [
    {
     "name": "stdout",
     "output_type": "stream",
     "text": [
      "bryan\n"
     ]
    }
   ],
   "source": [
    "print my_name"
   ]
  },
  {
   "cell_type": "markdown",
   "metadata": {},
   "source": [
    "We can also use our 'fancy' string formating here."
   ]
  },
  {
   "cell_type": "code",
   "execution_count": 7,
   "metadata": {
    "collapsed": false
   },
   "outputs": [
    {
     "name": "stdout",
     "output_type": "stream",
     "text": [
      "The name you entered was: bryan\n"
     ]
    }
   ],
   "source": [
    "print \"The name you entered was: {}\".format(my_name)"
   ]
  },
  {
   "cell_type": "markdown",
   "metadata": {},
   "source": [
    "Lets try and get a number from the user now."
   ]
  },
  {
   "cell_type": "code",
   "execution_count": 9,
   "metadata": {
    "collapsed": false
   },
   "outputs": [
    {
     "name": "stdout",
     "output_type": "stream",
     "text": [
      "Enter an integer:5\n",
      "<type 'str'>\n",
      "You entered 5\n",
      "<type 'int'>\n",
      "You entered 5\n"
     ]
    }
   ],
   "source": [
    "my_int = raw_input(\"Enter an integer:\")\n",
    "print type(my_int)\n",
    "print \"You entered {}\".format(my_int)\n",
    "my_int = int(my_int)\n",
    "print type(my_int)\n",
    "print \"You entered {}\".format(my_int)"
   ]
  },
  {
   "cell_type": "markdown",
   "metadata": {},
   "source": [
    "So notice here that we took something that was a string and converted it to an integer. We could do it in one line by doing the following:"
   ]
  },
  {
   "cell_type": "code",
   "execution_count": 10,
   "metadata": {
    "collapsed": false
   },
   "outputs": [
    {
     "name": "stdout",
     "output_type": "stream",
     "text": [
      "Please enter an integer:5\n",
      "<type 'int'>\n",
      "You entered 5\n"
     ]
    }
   ],
   "source": [
    "my_int = int(raw_input(\"Please enter an integer:\"))\n",
    "print type(my_int)\n",
    "print \"You entered {}\".format(my_int)"
   ]
  },
  {
   "cell_type": "markdown",
   "metadata": {},
   "source": [
    "Now what would happen if you gave this program to your (hypothetical) younger sibling? Your program asks for an integer, and your younger sibling will give you anything but. Lets see how python handles that."
   ]
  },
  {
   "cell_type": "code",
   "execution_count": 12,
   "metadata": {
    "collapsed": false
   },
   "outputs": [
    {
     "name": "stdout",
     "output_type": "stream",
     "text": [
      "Please enter an integer:cow\n"
     ]
    },
    {
     "ename": "ValueError",
     "evalue": "invalid literal for int() with base 10: 'cow'",
     "output_type": "error",
     "traceback": [
      "\u001b[0;31m---------------------------------------------------------------------------\u001b[0m",
      "\u001b[0;31mValueError\u001b[0m                                Traceback (most recent call last)",
      "\u001b[0;32m<ipython-input-12-24b4e4689ce1>\u001b[0m in \u001b[0;36m<module>\u001b[0;34m()\u001b[0m\n\u001b[0;32m----> 1\u001b[0;31m \u001b[0mmy_int\u001b[0m \u001b[0;34m=\u001b[0m \u001b[0mint\u001b[0m\u001b[0;34m(\u001b[0m\u001b[0mraw_input\u001b[0m\u001b[0;34m(\u001b[0m\u001b[0;34m\"Please enter an integer:\"\u001b[0m\u001b[0;34m)\u001b[0m\u001b[0;34m)\u001b[0m\u001b[0;34m\u001b[0m\u001b[0m\n\u001b[0m",
      "\u001b[0;31mValueError\u001b[0m: invalid literal for int() with base 10: 'cow'"
     ]
    }
   ],
   "source": [
    "my_int = int(raw_input(\"Please enter an integer:\"))"
   ]
  },
  {
   "cell_type": "markdown",
   "metadata": {},
   "source": [
    "So we get a nasty error saying \"cow\" isn't an integer. But we knew that, right? So how would we handle this to make sure we're getting what we want (and we know we should do this because people are jerks)? We use whats known as a try in python. Those look like this:"
   ]
  },
  {
   "cell_type": "code",
   "execution_count": 14,
   "metadata": {
    "collapsed": false
   },
   "outputs": [
    {
     "name": "stdout",
     "output_type": "stream",
     "text": [
      "Please enter an integer:cow\n",
      "You entered a non-integer. I can't work with that.\n",
      "<type 'str'>\n"
     ]
    }
   ],
   "source": [
    "inpt = raw_input(\"Please enter an integer:\")\n",
    "        \n",
    "try:\n",
    "    inpt = int(inpt)\n",
    "except ValueError:\n",
    "    print \"You entered a non-integer. I can't work with that.\"\n",
    "        \n",
    "print type(inpt)\n"
   ]
  },
  {
   "cell_type": "markdown",
   "metadata": {},
   "source": [
    "So here, we have what we've come to expect from the raw_input() line of code. But then we have our try block. The first line of this new block we tell python what we want to try to do: we want to try to cast the input value as an integer. Then we tell python what to do if it can't do the conversion in the except block. Note: the conversion doesn't actually happen unless we save the variable."
   ]
  },
  {
   "cell_type": "markdown",
   "metadata": {},
   "source": [
    "### Read and Write to Files "
   ]
  },
  {
   "cell_type": "markdown",
   "metadata": {},
   "source": [
    "Python can also interact with files already saved on your hard drive or create a new file and write output to the new file. Both commands will require us to open and close a file. That is done as shown here:"
   ]
  },
  {
   "cell_type": "code",
   "execution_count": null,
   "metadata": {
    "collapsed": false
   },
   "outputs": [],
   "source": [
    "output_file = open('hello.txt','w')"
   ]
  },
  {
   "cell_type": "markdown",
   "metadata": {},
   "source": [
    "What did we just do? We have opened the file hello.txt in write mode (that is what the 'w' means). We could also have opened in read only mode ('r') or appending mode ('a').  \n",
    "  \n",
    "In write mode, the file we name (here its hello.txt) is created if it doesn't exist or it is emptied of all contents if it does exist. Everything written to this file will start at beginning and flow from there.\n",
    "  \n",
    "In append mode, the file named is created if it doesn't exist or opened if it does exist, and everything written to the file is added at the end (appended, if you will.)\n",
    "  \n",
    "In read only mode, the file is simply opened if it exists or an error is thrown if it doesn't exist.\n",
    "\n",
    "The file we just opened doesn't exist. So python has now created the file for us. Lets write something to our file now."
   ]
  },
  {
   "cell_type": "code",
   "execution_count": null,
   "metadata": {
    "collapsed": false
   },
   "outputs": [],
   "source": [
    "output_file.write(\"Hello, this is a line of text. Its rather boring, but its all I have.\")"
   ]
  },
  {
   "cell_type": "markdown",
   "metadata": {},
   "source": [
    "So no errors, thats always good. Lets close our file now that it contains something so we can open it up and look at its contents. We do this just like you'd imagine: using the close() function."
   ]
  },
  {
   "cell_type": "code",
   "execution_count": null,
   "metadata": {
    "collapsed": true
   },
   "outputs": [],
   "source": [
    "output_file.close()"
   ]
  },
  {
   "cell_type": "markdown",
   "metadata": {},
   "source": [
    "Now lets open it up as a read only file."
   ]
  },
  {
   "cell_type": "code",
   "execution_count": null,
   "metadata": {
    "collapsed": true
   },
   "outputs": [],
   "source": [
    "input_file = open('hello.txt','r')"
   ]
  },
  {
   "cell_type": "markdown",
   "metadata": {},
   "source": [
    "Ok, lets read a single line out of our file. We do this with the readline() command."
   ]
  },
  {
   "cell_type": "code",
   "execution_count": null,
   "metadata": {
    "collapsed": false
   },
   "outputs": [],
   "source": [
    "the_line = input_file.readline()\n",
    "print the_line"
   ]
  },
  {
   "cell_type": "markdown",
   "metadata": {},
   "source": [
    "Yay, the string we added is in our file. Can we read anymore? We didn't add anything else, but lets try."
   ]
  },
  {
   "cell_type": "code",
   "execution_count": null,
   "metadata": {
    "collapsed": false
   },
   "outputs": [],
   "source": [
    "the_second_line = input_file.readline()\n",
    "print the_second_line"
   ]
  },
  {
   "cell_type": "markdown",
   "metadata": {},
   "source": [
    "No errors, but nothing seems to have happened. Thats because the_second_line didn't contain anything (which we expected since we knew our file only had one line.)  \n",
    "  \n",
    "Lets close the file that is read only right now and open it in append and add another line."
   ]
  },
  {
   "cell_type": "code",
   "execution_count": null,
   "metadata": {
    "collapsed": true
   },
   "outputs": [],
   "source": [
    "input_file.close()\n",
    "\n",
    "the_file = open('hello.txt', 'a')\n",
    "\n",
    "the_file.write('This is a second line.')\n",
    "the_file.write('This is the third line.')\n",
    "\n",
    "the_file.close()"
   ]
  },
  {
   "cell_type": "markdown",
   "metadata": {},
   "source": [
    "Now lets open this file and read it line by line. We can do this quite easily using this next loop structure."
   ]
  },
  {
   "cell_type": "code",
   "execution_count": null,
   "metadata": {
    "collapsed": false
   },
   "outputs": [],
   "source": [
    "the_big_file = open('hello.txt','r')\n",
    "\n",
    "for line in the_big_file:\n",
    "    print line\n",
    "    \n",
    "the_big_file.close()"
   ]
  },
  {
   "cell_type": "markdown",
   "metadata": {},
   "source": [
    "So you'll notice that all the lines we printed were put on one single line. Why? We didn't use the newline special character, thats why. Remember what that was? Good. Now lets add some new lines to our file."
   ]
  },
  {
   "cell_type": "code",
   "execution_count": null,
   "metadata": {
    "collapsed": true
   },
   "outputs": [],
   "source": [
    "the_file2 = open('hello.txt', 'a')\n",
    "\n",
    "the_file2.write('\\nThis is a real new line.')\n",
    "the_file2.write('\\nThis is another real new line.')\n",
    "\n",
    "the_file2.close()"
   ]
  },
  {
   "cell_type": "markdown",
   "metadata": {},
   "source": [
    "Now lets print each line of our new file."
   ]
  },
  {
   "cell_type": "code",
   "execution_count": null,
   "metadata": {
    "collapsed": false
   },
   "outputs": [],
   "source": [
    "the_big_file = open('hello.txt','r')\n",
    "\n",
    "for line in the_big_file:\n",
    "    print line\n",
    "    \n",
    "the_big_file.close()"
   ]
  },
  {
   "cell_type": "markdown",
   "metadata": {},
   "source": [
    "Ok, yay. That did what we thought it would do. So thats a way to read line by line. What if we wanted to read the entire file at once? Can we do that? Yes. Yes we can."
   ]
  },
  {
   "cell_type": "code",
   "execution_count": null,
   "metadata": {
    "collapsed": false
   },
   "outputs": [],
   "source": [
    "the_whole_file = open('hello.txt', 'r')\n",
    "\n",
    "everything = the_whole_file.readlines()\n",
    "\n",
    "print everything\n",
    "\n",
    "the_whole_file.close()"
   ]
  },
  {
   "cell_type": "markdown",
   "metadata": {},
   "source": [
    "So here we got the whole file, stored in an list of length 3 (the number of non-empty lines in the file). You'll notice we have the special characters \"\\n\" explicitly written out here. If you don't believe me, check it."
   ]
  },
  {
   "cell_type": "code",
   "execution_count": null,
   "metadata": {
    "collapsed": false
   },
   "outputs": [],
   "source": [
    "print len(everything)\n",
    "print everything[0]\n",
    "print everything[1]\n",
    "print everything[2]"
   ]
  },
  {
   "cell_type": "code",
   "execution_count": null,
   "metadata": {
    "collapsed": true
   },
   "outputs": [],
   "source": []
  },
  {
   "cell_type": "markdown",
   "metadata": {},
   "source": [
    "Practice problems:  \n",
    "Guessing game  "
   ]
  },
  {
   "cell_type": "code",
   "execution_count": null,
   "metadata": {
    "collapsed": true
   },
   "outputs": [],
   "source": []
  }
 ],
 "metadata": {
  "kernelspec": {
   "display_name": "Python 2",
   "language": "python",
   "name": "python2"
  },
  "language_info": {
   "codemirror_mode": {
    "name": "ipython",
    "version": 2
   },
   "file_extension": ".py",
   "mimetype": "text/x-python",
   "name": "python",
   "nbconvert_exporter": "python",
   "pygments_lexer": "ipython2",
   "version": "2.7.11"
  }
 },
 "nbformat": 4,
 "nbformat_minor": 0
}
