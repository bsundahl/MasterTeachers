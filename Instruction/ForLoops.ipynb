{
 "cells": [
  {
   "cell_type": "markdown",
   "metadata": {},
   "source": [
    "# For Loops"
   ]
  },
  {
   "cell_type": "markdown",
   "metadata": {},
   "source": [
    "We've already talked about one kind of loop, the while loop. These common programming structures allow us to repeat the same instructions over and over again.\n",
    "\n",
    "Now that we've talked about lists, this is a good time to introduce for loops. In real coding situations, it doesn't matter whether you use a while loop or a for loop. Anything can be done using either one. However, depending on the case, it may be easier to use one over the other.\n",
    "\n",
    "Let's review the first while loops we did, which was to print the squares of a bunch of numbers:"
   ]
  },
  {
   "cell_type": "code",
   "execution_count": 1,
   "metadata": {
    "collapsed": false
   },
   "outputs": [
    {
     "name": "stdout",
     "output_type": "stream",
     "text": [
      "1\n",
      "4\n",
      "9\n",
      "16\n",
      "25\n",
      "36\n",
      "49\n",
      "64\n",
      "81\n"
     ]
    }
   ],
   "source": [
    "i = 1\n",
    "while i < 10:\n",
    "    print i**2\n",
    "    i = i + 1"
   ]
  },
  {
   "cell_type": "markdown",
   "metadata": {},
   "source": [
    "Now let's do the same thing using for loops. First, let's make a list of the numbers that we want to find the squares of."
   ]
  },
  {
   "cell_type": "code",
   "execution_count": 2,
   "metadata": {
    "collapsed": true
   },
   "outputs": [],
   "source": [
    "numlist = [1,2,3,4,5,6,7,8,9]"
   ]
  },
  {
   "cell_type": "markdown",
   "metadata": {},
   "source": [
    "Now, let's make the for loop:"
   ]
  },
  {
   "cell_type": "code",
   "execution_count": 3,
   "metadata": {
    "collapsed": false
   },
   "outputs": [
    {
     "name": "stdout",
     "output_type": "stream",
     "text": [
      "1\n",
      "4\n",
      "9\n",
      "16\n",
      "25\n",
      "36\n",
      "49\n",
      "64\n",
      "81\n"
     ]
    }
   ],
   "source": [
    "for number in numlist:\n",
    "    print number**2"
   ]
  },
  {
   "cell_type": "markdown",
   "metadata": {},
   "source": [
    "And we get the same result! Let's take a look at the syntax. When we write \"for number in numlist:\" we're creating a new variable called number, and inside number, we store the first value inside numlist. Then we move on to execute the code in the for loop. At the next iteration of the loop, the value inside number will be changed to be the next value inside numlist. And this will continue until there are no more elements left in numlist.\n",
    "\n",
    "In the code above, we made the list of numbers we wanted to square before we made the loop. We didn't have to do that. We could have done:"
   ]
  },
  {
   "cell_type": "code",
   "execution_count": 4,
   "metadata": {
    "collapsed": false
   },
   "outputs": [
    {
     "name": "stdout",
     "output_type": "stream",
     "text": [
      "1\n",
      "4\n",
      "9\n",
      "16\n",
      "25\n",
      "36\n",
      "49\n",
      "64\n",
      "81\n"
     ]
    }
   ],
   "source": [
    "for number in [1,2,3,4,5,6,7,8,9]:\n",
    "    print number**2"
   ]
  },
  {
   "cell_type": "markdown",
   "metadata": {},
   "source": [
    "Or, by using the handy range() function, we could write it like this:"
   ]
  },
  {
   "cell_type": "code",
   "execution_count": 10,
   "metadata": {
    "collapsed": false
   },
   "outputs": [
    {
     "name": "stdout",
     "output_type": "stream",
     "text": [
      "1\n",
      "4\n",
      "9\n",
      "16\n",
      "25\n",
      "36\n",
      "49\n",
      "64\n",
      "81\n"
     ]
    }
   ],
   "source": [
    "for number in range(1,10):\n",
    "    print (number)**2"
   ]
  },
  {
   "cell_type": "markdown",
   "metadata": {},
   "source": [
    "The range function is a very useful tool for making a quick list of integers. If I write range(n,m), the computer will give me a list of integers that starts with n and ends with m-1. If I write range(m), the computer will assume that I want to start at 0 and will give me a list of integers from 0 to m-1."
   ]
  },
  {
   "cell_type": "code",
   "execution_count": 11,
   "metadata": {
    "collapsed": false
   },
   "outputs": [
    {
     "name": "stdout",
     "output_type": "stream",
     "text": [
      "[3, 4, 5, 6, 7, 8, 9, 10, 11, 12, 13, 14, 15, 16, 17, 18, 19, 20, 21]\n"
     ]
    }
   ],
   "source": [
    "print range(3,22)"
   ]
  },
  {
   "cell_type": "code",
   "execution_count": 9,
   "metadata": {
    "collapsed": false
   },
   "outputs": [
    {
     "name": "stdout",
     "output_type": "stream",
     "text": [
      "[0, 1, 2, 3, 4, 5, 6, 7, 8, 9, 10, 11]\n"
     ]
    }
   ],
   "source": [
    "print range(12)"
   ]
  },
  {
   "cell_type": "markdown",
   "metadata": {},
   "source": [
    "Using the range function, you can see that printing our list of squares can be done quite easily using either while or for loops. But there are some cases when for loops are better. For example, what if we had the following list of numbers that we wanted to square:"
   ]
  },
  {
   "cell_type": "code",
   "execution_count": 1,
   "metadata": {
    "collapsed": true
   },
   "outputs": [],
   "source": [
    "numlist = [2,17,4,19,30,0,1,11,1,8]"
   ]
  },
  {
   "cell_type": "markdown",
   "metadata": {},
   "source": [
    "If we wanted to square all of these with a while loop, we could do it. We just need to know how long our list is."
   ]
  },
  {
   "cell_type": "code",
   "execution_count": 2,
   "metadata": {
    "collapsed": false
   },
   "outputs": [
    {
     "name": "stdout",
     "output_type": "stream",
     "text": [
      "4\n",
      "289\n",
      "16\n",
      "361\n",
      "900\n",
      "0\n",
      "1\n",
      "121\n",
      "1\n",
      "64\n"
     ]
    }
   ],
   "source": [
    "length = len(numlist)\n",
    "i = 0\n",
    "while i < length:\n",
    "    print numlist[i]**2\n",
    "    i = i+1"
   ]
  },
  {
   "cell_type": "markdown",
   "metadata": {},
   "source": [
    "Whereas with a for loop we can simply write:"
   ]
  },
  {
   "cell_type": "code",
   "execution_count": 3,
   "metadata": {
    "collapsed": false
   },
   "outputs": [
    {
     "name": "stdout",
     "output_type": "stream",
     "text": [
      "4\n",
      "289\n",
      "16\n",
      "361\n",
      "900\n",
      "0\n",
      "1\n",
      "121\n",
      "1\n",
      "64\n"
     ]
    }
   ],
   "source": [
    "for number in numlist:\n",
    "    print number**2"
   ]
  },
  {
   "cell_type": "markdown",
   "metadata": {},
   "source": [
    "Remarkably enough, this is the same code we wrote above! We didn't need to know the length of numlist at all! The computer took care of it all for us."
   ]
  },
  {
   "cell_type": "markdown",
   "metadata": {},
   "source": [
    "Practice:\n",
    "Write a cell that takes a string and prints each character in the string on an individual line"
   ]
  },
  {
   "cell_type": "markdown",
   "metadata": {},
   "source": [
    "## More Control Flow"
   ]
  },
  {
   "cell_type": "markdown",
   "metadata": {},
   "source": [
    "Sometimes you want to exit a loop before it's finished, or occasionally you want to skip one iteration (or part of an iteration) of the loop. These operations can both be handled with if statements, but especially in the first case, it would be nice if there were easier ways to do this. This is where the keywords break and continue come in.\n",
    "\n",
    "The break keyword stops the current iterating loop short. If you have a loop inside a loop, only the innermost loop is stopped. A simple example is below. This function finds the first instance of a letter inside a string:"
   ]
  },
  {
   "cell_type": "code",
   "execution_count": 5,
   "metadata": {
    "collapsed": true
   },
   "outputs": [],
   "source": [
    "def FirstIn(c, mystring):\n",
    "    #This function finds the first instance of the character c in the string mystring. Note c is a variable.\n",
    "    \n",
    "    answer = -1 #return -1 if the character is not in the string.\n",
    "    for i in range(len(mystring)):\n",
    "        if c == mystring[i]:\n",
    "            answer = i+1\n",
    "            break\n",
    "    return answer"
   ]
  },
  {
   "cell_type": "code",
   "execution_count": 6,
   "metadata": {
    "collapsed": false
   },
   "outputs": [
    {
     "data": {
      "text/plain": [
       "6"
      ]
     },
     "execution_count": 6,
     "metadata": {},
     "output_type": "execute_result"
    }
   ],
   "source": [
    "FirstIn(\"s\",\"narcissist\")"
   ]
  },
  {
   "cell_type": "markdown",
   "metadata": {},
   "source": [
    "In this case, once we've found the first instance of \"s\" in \"narcissist,\" the break statement prevents us from continuing to look through the string, which would waste time and possibly change the answer when we don't want it to.\n",
    "\n",
    "Below is the same function without a break statement. It's slightly more difficult to read."
   ]
  },
  {
   "cell_type": "code",
   "execution_count": 7,
   "metadata": {
    "collapsed": true
   },
   "outputs": [],
   "source": [
    "def FirstIn(c, mystring):\n",
    "    #This function finds the first instance of the character c in the string mystring. Note c is a variable.\n",
    "    \n",
    "    answer = -1 #return -1 if the character is not in the string.\n",
    "    \n",
    "    FoundAnswer = False #Have we found the answer yet?\n",
    "    \n",
    "    for i in range(len(mystring)):\n",
    "        if not FoundAnswer: #Only do this if we haven't found the answer yet\n",
    "            if c == mystring[i]:\n",
    "                answer = i+1\n",
    "                FoundAnswer = True #Yes, we found the answer\n",
    "    return answer"
   ]
  },
  {
   "cell_type": "code",
   "execution_count": 8,
   "metadata": {
    "collapsed": false
   },
   "outputs": [
    {
     "data": {
      "text/plain": [
       "6"
      ]
     },
     "execution_count": 8,
     "metadata": {},
     "output_type": "execute_result"
    }
   ],
   "source": [
    "FirstIn(\"s\",\"narcissist\")"
   ]
  },
  {
   "cell_type": "markdown",
   "metadata": {},
   "source": [
    "The other somewhat-common control flow statement is the continue keyword. This keyword tells the computer to stop the *current* iteration that it's in and move onto the next iteration of the loop. It does not completely break out of the loop, only the current iteration. The continue keyword is rarely used, since most of the problems it solves can be just as easily solved with an if statement. However, you may occasionally find it of use."
   ]
  },
  {
   "cell_type": "code",
   "execution_count": null,
   "metadata": {
    "collapsed": true
   },
   "outputs": [],
   "source": []
  },
  {
   "cell_type": "markdown",
   "metadata": {
    "collapsed": true
   },
   "source": [
    "Practice problems:  \n",
    "Count High  \n",
    "List sum  \n",
    "Palindromes again  \n",
    "Sorting  \n",
    "Angrams (painful)  "
   ]
  },
  {
   "cell_type": "code",
   "execution_count": null,
   "metadata": {
    "collapsed": true
   },
   "outputs": [],
   "source": []
  }
 ],
 "metadata": {
  "kernelspec": {
   "display_name": "Python 2",
   "language": "python",
   "name": "python2"
  },
  "language_info": {
   "codemirror_mode": {
    "name": "ipython",
    "version": 2
   },
   "file_extension": ".py",
   "mimetype": "text/x-python",
   "name": "python",
   "nbconvert_exporter": "python",
   "pygments_lexer": "ipython2",
   "version": "2.7.11"
  }
 },
 "nbformat": 4,
 "nbformat_minor": 0
}
