{
 "cells": [
  {
   "cell_type": "markdown",
   "metadata": {},
   "source": [
    "# Lists"
   ]
  },
  {
   "cell_type": "markdown",
   "metadata": {},
   "source": [
    "We've learned how to assign names to variables and store things in them like numbers or strings. But sometimes, it's avantageous to use the same name to refer to a bunch of numbers or strings. For example, let's say you want to calculate with a bunch of student test scores. Here's one way you could store those as variables:"
   ]
  },
  {
   "cell_type": "code",
   "execution_count": 1,
   "metadata": {
    "collapsed": true
   },
   "outputs": [],
   "source": [
    "score1 = 89\n",
    "score2 = 77\n",
    "score3 = 100\n",
    "score4 = 95\n",
    "score5 = 88"
   ]
  },
  {
   "cell_type": "markdown",
   "metadata": {},
   "source": [
    "This is only 5 test scores, and it took a lot of work to store them into variables. Can you imagine what it would be like with a class of 30 students? And then what if you wanted to calculate the average of these scores? It would take longer to do that than simply not using variables at all. Fortunately there is a way around this that affords us a lot of utility. We can use a single list to store multiple numbers under the same variable name like this:"
   ]
  },
  {
   "cell_type": "code",
   "execution_count": 2,
   "metadata": {
    "collapsed": true
   },
   "outputs": [],
   "source": [
    "scores = [89,77,100,95,88]"
   ]
  },
  {
   "cell_type": "markdown",
   "metadata": {},
   "source": [
    "Now, when we want to look at the scores, we can print all of them at once!"
   ]
  },
  {
   "cell_type": "code",
   "execution_count": 3,
   "metadata": {
    "collapsed": false
   },
   "outputs": [
    {
     "name": "stdout",
     "output_type": "stream",
     "text": [
      "[89, 77, 100, 95, 88]\n"
     ]
    }
   ],
   "source": [
    "print scores"
   ]
  },
  {
   "cell_type": "markdown",
   "metadata": {},
   "source": [
    "You can put any kind of variable in a list, such as strings:"
   ]
  },
  {
   "cell_type": "code",
   "execution_count": 4,
   "metadata": {
    "collapsed": false
   },
   "outputs": [
    {
     "name": "stdout",
     "output_type": "stream",
     "text": [
      "['Billy', 'Matthew', 'Shannon', 'Kristen', 'Taylor']\n"
     ]
    }
   ],
   "source": [
    "names = [\"Billy\",\"Matthew\",\"Shannon\",\"Kristen\",\"Taylor\"]\n",
    "print names"
   ]
  },
  {
   "cell_type": "code",
   "execution_count": 5,
   "metadata": {
    "collapsed": false
   },
   "outputs": [
    {
     "name": "stdout",
     "output_type": "stream",
     "text": [
      "[True, False, False, True, False]\n"
     ]
    }
   ],
   "source": [
    "key = [True, False, False, True ,False]\n",
    "print key"
   ]
  },
  {
   "cell_type": "markdown",
   "metadata": {},
   "source": [
    "\n",
    "Lists wouldn't be very useful if we couldn't access the individual components. To do this, we use the square brackets [ ]"
   ]
  },
  {
   "cell_type": "code",
   "execution_count": 6,
   "metadata": {
    "collapsed": false
   },
   "outputs": [
    {
     "name": "stdout",
     "output_type": "stream",
     "text": [
      "89\n",
      "77\n",
      "100\n",
      "95\n",
      "88\n"
     ]
    }
   ],
   "source": [
    "print scores[0]\n",
    "print scores[1]\n",
    "print scores[2]\n",
    "print scores[3]\n",
    "print scores[4]"
   ]
  },
  {
   "cell_type": "markdown",
   "metadata": {},
   "source": [
    "Once again, note that python starts counting at 0! The number used to access an element of a list (i.e. the number inside the square brackets) is called an index. So the first element of the list is indexed as the 0th element. What happens if we try to access scores with the index 5?"
   ]
  },
  {
   "cell_type": "code",
   "execution_count": 7,
   "metadata": {
    "collapsed": false
   },
   "outputs": [
    {
     "ename": "IndexError",
     "evalue": "list index out of range",
     "output_type": "error",
     "traceback": [
      "\u001b[0;31m---------------------------------------------------------------------------\u001b[0m",
      "\u001b[0;31mIndexError\u001b[0m                                Traceback (most recent call last)",
      "\u001b[0;32m<ipython-input-7-79d1535895ab>\u001b[0m in \u001b[0;36m<module>\u001b[0;34m()\u001b[0m\n\u001b[0;32m----> 1\u001b[0;31m \u001b[0;32mprint\u001b[0m \u001b[0mscores\u001b[0m\u001b[0;34m[\u001b[0m\u001b[0;36m5\u001b[0m\u001b[0;34m]\u001b[0m\u001b[0;34m\u001b[0m\u001b[0m\n\u001b[0m",
      "\u001b[0;31mIndexError\u001b[0m: list index out of range"
     ]
    }
   ],
   "source": [
    "print scores[5]"
   ]
  },
  {
   "cell_type": "markdown",
   "metadata": {},
   "source": [
    "The answer is: we get an error. This is because we're trying to access an element of a list when that element doesn't exist."
   ]
  },
  {
   "cell_type": "markdown",
   "metadata": {},
   "source": [
    "While we can't access scores[5], we *can* access scores[-1]. When python encounters a negative index, it starts counting from the *end* of the list and returns the value it finds. So the last element in the list can be accessed with an index of -1."
   ]
  },
  {
   "cell_type": "code",
   "execution_count": 8,
   "metadata": {
    "collapsed": false
   },
   "outputs": [
    {
     "data": {
      "text/plain": [
       "88"
      ]
     },
     "execution_count": 8,
     "metadata": {},
     "output_type": "execute_result"
    }
   ],
   "source": [
    "scores[-1]"
   ]
  },
  {
   "cell_type": "markdown",
   "metadata": {},
   "source": [
    "Note that this only works up until you reach the beginning of the list, so the most negative index that won't return an error is -(length of list). In our example, scores[-5] would return 89, the first entry of the list. Trying scores[-6] would give an error."
   ]
  },
  {
   "cell_type": "markdown",
   "metadata": {},
   "source": [
    "When we access an element of a list, it behaves just like the type that is stored in the list. For example, we can add two elements of a list (when that addition makes sense)."
   ]
  },
  {
   "cell_type": "code",
   "execution_count": 9,
   "metadata": {
    "collapsed": false
   },
   "outputs": [
    {
     "name": "stdout",
     "output_type": "stream",
     "text": [
      "166\n"
     ]
    }
   ],
   "source": [
    "print scores[0]+scores[1]"
   ]
  },
  {
   "cell_type": "code",
   "execution_count": 10,
   "metadata": {
    "collapsed": false
   },
   "outputs": [
    {
     "name": "stdout",
     "output_type": "stream",
     "text": [
      "Billy Matthew\n"
     ]
    }
   ],
   "source": [
    "print names[0],names[1]"
   ]
  },
  {
   "cell_type": "markdown",
   "metadata": {},
   "source": [
    "And we can make changes to a single element of a list. Let's say we made an error and need to change the third student's score to 79. We can do that like this:"
   ]
  },
  {
   "cell_type": "code",
   "execution_count": 11,
   "metadata": {
    "collapsed": false
   },
   "outputs": [
    {
     "name": "stdout",
     "output_type": "stream",
     "text": [
      "79\n"
     ]
    }
   ],
   "source": [
    "scores[2] = 79 #An index of 2 will give us the 3rd element of the list\n",
    "print scores[2]"
   ]
  },
  {
   "cell_type": "markdown",
   "metadata": {},
   "source": [
    "Though it's less commmon, the elements of a list don't even have to be the same type! It's possible for us to do something like this:"
   ]
  },
  {
   "cell_type": "code",
   "execution_count": 12,
   "metadata": {
    "collapsed": false
   },
   "outputs": [
    {
     "name": "stdout",
     "output_type": "stream",
     "text": [
      "['h', 67, True, 9, 'masonry', False, True]\n"
     ]
    }
   ],
   "source": [
    "randomlist = [\"h\",67,True,9,\"masonry\",False,True]\n",
    "print randomlist"
   ]
  },
  {
   "cell_type": "markdown",
   "metadata": {
    "collapsed": true
   },
   "source": [
    "## Some functions we can call on lists"
   ]
  },
  {
   "cell_type": "markdown",
   "metadata": {},
   "source": [
    "There are some useful functions we can call on lists to help us manipulate them. A function in Python is already-written code with a specific purpose. It can be used by invoking the name of the function in your code, and parentheses are used to give the function input.\n",
    "\n",
    "The len function (which stands for length) tells us how many items are in a list."
   ]
  },
  {
   "cell_type": "code",
   "execution_count": 13,
   "metadata": {
    "collapsed": false
   },
   "outputs": [
    {
     "data": {
      "text/plain": [
       "5"
      ]
     },
     "execution_count": 13,
     "metadata": {},
     "output_type": "execute_result"
    }
   ],
   "source": [
    "len(scores)"
   ]
  },
  {
   "cell_type": "markdown",
   "metadata": {},
   "source": [
    "This is useful if you want to use a while loop to perform the same action for a bunch of items in a list.\n",
    "\n",
    "Say we decided to add a curve of 5 points to the score of every student. We can do so like this:"
   ]
  },
  {
   "cell_type": "code",
   "execution_count": 14,
   "metadata": {
    "collapsed": false
   },
   "outputs": [
    {
     "name": "stdout",
     "output_type": "stream",
     "text": [
      "[89, 77, 79, 95, 88]\n"
     ]
    }
   ],
   "source": [
    "print scores"
   ]
  },
  {
   "cell_type": "code",
   "execution_count": 15,
   "metadata": {
    "collapsed": true
   },
   "outputs": [],
   "source": [
    "i = 0\n",
    "while i < len(scores):\n",
    "    scores[i] = scores[i] + 5\n",
    "    i +=1"
   ]
  },
  {
   "cell_type": "code",
   "execution_count": 16,
   "metadata": {
    "collapsed": false
   },
   "outputs": [
    {
     "name": "stdout",
     "output_type": "stream",
     "text": [
      "[94, 82, 84, 100, 93]\n"
     ]
    }
   ],
   "source": [
    "print scores"
   ]
  },
  {
   "cell_type": "markdown",
   "metadata": {},
   "source": [
    "A keyword is word Python has reserved to have a special meaning and purpose. You've seen keywords before, like \"print,\" \"and,\" \"if,\" and so on. All keywords in an iPython notebook will be colored green. We can use the \"in\" keyword to find out if a particular item is a member of a list."
   ]
  },
  {
   "cell_type": "code",
   "execution_count": 17,
   "metadata": {
    "collapsed": false
   },
   "outputs": [
    {
     "data": {
      "text/plain": [
       "True"
      ]
     },
     "execution_count": 17,
     "metadata": {},
     "output_type": "execute_result"
    }
   ],
   "source": [
    "82 in scores"
   ]
  },
  {
   "cell_type": "code",
   "execution_count": 18,
   "metadata": {
    "collapsed": false
   },
   "outputs": [
    {
     "data": {
      "text/plain": [
       "False"
      ]
     },
     "execution_count": 18,
     "metadata": {},
     "output_type": "execute_result"
    }
   ],
   "source": [
    "56 in scores"
   ]
  },
  {
   "cell_type": "markdown",
   "metadata": {},
   "source": [
    "We can use the append function to add another student's score to the list."
   ]
  },
  {
   "cell_type": "code",
   "execution_count": 19,
   "metadata": {
    "collapsed": false
   },
   "outputs": [
    {
     "name": "stdout",
     "output_type": "stream",
     "text": [
      "[94, 82, 84, 100, 93]\n",
      "[94, 82, 84, 100, 93, 85]\n"
     ]
    }
   ],
   "source": [
    "print scores\n",
    "scores.append(85) #This is a special function that uses a period to act on something. Note the syntax.\n",
    "print scores"
   ]
  },
  {
   "cell_type": "markdown",
   "metadata": {},
   "source": [
    "The append function is very useful for building up a list from scratch (e.g. inside a loop). One very useful technique is starting an empty list and appending to it later."
   ]
  },
  {
   "cell_type": "code",
   "execution_count": 20,
   "metadata": {
    "collapsed": true
   },
   "outputs": [],
   "source": [
    "mylist = []"
   ]
  },
  {
   "cell_type": "markdown",
   "metadata": {},
   "source": [
    "The code below will now put the first 8 even numbers into mylist."
   ]
  },
  {
   "cell_type": "code",
   "execution_count": 21,
   "metadata": {
    "collapsed": false
   },
   "outputs": [
    {
     "name": "stdout",
     "output_type": "stream",
     "text": [
      "[0, 2, 4, 6, 8, 10, 12, 14]\n"
     ]
    }
   ],
   "source": [
    "i = 0\n",
    "while i < 8:\n",
    "    mylist.append(2*i)\n",
    "    i = i + 1\n",
    "print mylist"
   ]
  },
  {
   "cell_type": "markdown",
   "metadata": {},
   "source": [
    "The del keyword removes the element of the list at the index specified. For example, this code deletes the last element of scores."
   ]
  },
  {
   "cell_type": "code",
   "execution_count": 22,
   "metadata": {
    "collapsed": false
   },
   "outputs": [
    {
     "name": "stdout",
     "output_type": "stream",
     "text": [
      "[94, 82, 84, 100, 93, 85]\n",
      "[94, 82, 84, 100, 93]\n"
     ]
    }
   ],
   "source": [
    "print scores\n",
    "del scores[-1]\n",
    "print scores"
   ]
  },
  {
   "cell_type": "markdown",
   "metadata": {},
   "source": [
    "## Slicing"
   ]
  },
  {
   "cell_type": "markdown",
   "metadata": {},
   "source": [
    "Let's recall what's inside scores right now."
   ]
  },
  {
   "cell_type": "code",
   "execution_count": 23,
   "metadata": {
    "collapsed": false
   },
   "outputs": [
    {
     "name": "stdout",
     "output_type": "stream",
     "text": [
      "[94, 82, 84, 100, 93]\n"
     ]
    }
   ],
   "source": [
    "print scores"
   ]
  },
  {
   "cell_type": "markdown",
   "metadata": {},
   "source": [
    "The last technique we'll talk about is slicing. If you want more than one element of a list, but not the entire list, you can use this. Slicing will return only the section of the list that you specify. For example:"
   ]
  },
  {
   "cell_type": "code",
   "execution_count": 24,
   "metadata": {
    "collapsed": false
   },
   "outputs": [
    {
     "name": "stdout",
     "output_type": "stream",
     "text": [
      "[84, 100]\n"
     ]
    }
   ],
   "source": [
    "print scores[2:4]"
   ]
  },
  {
   "cell_type": "markdown",
   "metadata": {},
   "source": [
    "The colon inside the square brackets [ ] is how we indicate that we are slicing. The first number is the index of the first element that we want to include, and the second number of the index is the first element that is NOT included. Therefore the code above printed the values with index 2 and 3. If we leave the left-hand side of the colon blank, the slice will start at the beginning of the list. If we leave the right-hand side of the colon blank, the slice will end with the final element of the list. When slicing, what you get out will be another list."
   ]
  },
  {
   "cell_type": "code",
   "execution_count": 25,
   "metadata": {
    "collapsed": false
   },
   "outputs": [
    {
     "name": "stdout",
     "output_type": "stream",
     "text": [
      "[94, 82, 84, 100]\n"
     ]
    }
   ],
   "source": [
    "print scores[:4] #a list of the first 4 elements of scores"
   ]
  },
  {
   "cell_type": "code",
   "execution_count": 26,
   "metadata": {
    "collapsed": false
   },
   "outputs": [
    {
     "name": "stdout",
     "output_type": "stream",
     "text": [
      "[84, 100, 93]\n"
     ]
    }
   ],
   "source": [
    "print scores[2:] #a list omitting the first 2 elements of scores"
   ]
  },
  {
   "cell_type": "markdown",
   "metadata": {
    "collapsed": true
   },
   "source": [
    "## Practice Problems"
   ]
  },
  {
   "cell_type": "markdown",
   "metadata": {},
   "source": [
    "Write a cell that creates a list that contains 5 seperate entries with value 1. (That is, the list has length 5 and every entry has value 1.)"
   ]
  },
  {
   "cell_type": "code",
   "execution_count": 1,
   "metadata": {
    "collapsed": true
   },
   "outputs": [],
   "source": [
    "my_list = [1,1,1,1,1]"
   ]
  },
  {
   "cell_type": "markdown",
   "metadata": {},
   "source": [
    "Write a cell that creates a list containing the first 17 odd numbers."
   ]
  },
  {
   "cell_type": "code",
   "execution_count": 3,
   "metadata": {
    "collapsed": false
   },
   "outputs": [
    {
     "name": "stdout",
     "output_type": "stream",
     "text": [
      "[1, 3, 5, 7, 9, 11, 13, 15, 17, 19, 21, 23, 25, 27, 29, 31, 33]\n"
     ]
    }
   ],
   "source": [
    "# Create an empty list\n",
    "odd_list = []\n",
    "\n",
    "# Dummy variable\n",
    "i = 1\n",
    "\n",
    "# Loop 17 times\n",
    "while i <= 17:\n",
    "    # Do what we need to do\n",
    "    # by appending to the list\n",
    "    odd_list.append(2*i-1)\n",
    "    \n",
    "    # Increment i\n",
    "    i = i + 1\n",
    "    \n",
    "# Print our answer\n",
    "print odd_list"
   ]
  },
  {
   "cell_type": "markdown",
   "metadata": {},
   "source": [
    "Write a cell that creates a list of all multiples of 5 less than 100."
   ]
  },
  {
   "cell_type": "code",
   "execution_count": 1,
   "metadata": {
    "collapsed": false
   },
   "outputs": [
    {
     "name": "stdout",
     "output_type": "stream",
     "text": [
      "[5, 10, 15, 20, 25, 30, 35, 40, 45, 50, 55, 60, 65, 70, 75, 80, 85, 90, 95]\n"
     ]
    }
   ],
   "source": [
    "# Create an empty list\n",
    "multiples = []\n",
    "\n",
    "# Dummy variable (for indexing)\n",
    "i = 5\n",
    "\n",
    "# I want to loop while i < 100\n",
    "while i < 100:\n",
    "    # add multiple of 5 to the list\n",
    "    multiples.append(i)\n",
    "    # need to increment by 5\n",
    "    i = i + 5\n",
    "\n",
    "print multiples"
   ]
  },
  {
   "cell_type": "markdown",
   "metadata": {},
   "source": [
    "Write a cell that sums all the entries of a list."
   ]
  },
  {
   "cell_type": "code",
   "execution_count": 3,
   "metadata": {
    "collapsed": false
   },
   "outputs": [
    {
     "name": "stdout",
     "output_type": "stream",
     "text": [
      "55\n"
     ]
    }
   ],
   "source": [
    "# create a list of numbers for testing\n",
    "alist = [1,2,3,4,5,6,7,8,9,10]\n",
    "\n",
    "# Create a variable that holds the sum, initialize to zero\n",
    "mysum = 0\n",
    "\n",
    "# We are going to need the length of the list\n",
    "size = len(alist)\n",
    "\n",
    "# Dummy variable for indexing the list\n",
    "i = 0\n",
    "\n",
    "while i < size:\n",
    "    # add current value to mysum\n",
    "    mysum = mysum + alist[i]\n",
    "    # increment i\n",
    "    i = i + 1\n",
    "\n",
    "# Now print ... should be 55\n",
    "print mysum"
   ]
  },
  {
   "cell_type": "markdown",
   "metadata": {},
   "source": [
    "Write a cell that calculates the average of a list of numbers."
   ]
  },
  {
   "cell_type": "code",
   "execution_count": 5,
   "metadata": {
    "collapsed": false
   },
   "outputs": [
    {
     "name": "stdout",
     "output_type": "stream",
     "text": [
      "5.5\n"
     ]
    }
   ],
   "source": [
    "# create a list of numbers for testing\n",
    "alist = [1,2,3,4,5,6,7,8,9,10]\n",
    "\n",
    "# Create a variable that holds the sum, initialize to zero\n",
    "mysum = 0\n",
    "\n",
    "# We are going to need the length of the list\n",
    "size = len(alist)\n",
    "\n",
    "# Dummy variable for indexing the list\n",
    "i = 0\n",
    "\n",
    "while i < size:\n",
    "    # add current value to mysum\n",
    "    mysum = mysum + alist[i]\n",
    "    # increment i\n",
    "    i = i + 1\n",
    "\n",
    "# I need to convert size from an integer to a float\n",
    "# so that the result can be a fractional number\n",
    "avg = mysum / float(size);\n",
    "\n",
    "# Now print ... should be 5.5\n",
    "print avg"
   ]
  },
  {
   "cell_type": "markdown",
   "metadata": {},
   "source": [
    "Write a cell that copies all numbers from the given list below that are not multiples of 2 and puts them in a new list. (hint: This can be done using a loop with a conditional)."
   ]
  },
  {
   "cell_type": "code",
   "execution_count": 8,
   "metadata": {
    "collapsed": false
   },
   "outputs": [
    {
     "name": "stdout",
     "output_type": "stream",
     "text": [
      "[1, 9, 25, 49, 81]\n"
     ]
    }
   ],
   "source": [
    "first_list = [ 1, 4, 9, 16, 25, 36, 49, 64, 81, 100]\n",
    "\n",
    "# Get size of list\n",
    "size = len(first_list)\n",
    "\n",
    "# Dummy variable \n",
    "i = 0\n",
    "\n",
    "# Create empty second list\n",
    "second_list = []\n",
    "\n",
    "while i < size:\n",
    "    # if even add to the list\n",
    "    if first_list[i] % 2 == 1:\n",
    "        second_list.append(first_list[i])\n",
    "    # Increment index\n",
    "    i = i + 1\n",
    "        \n",
    "# Print result\n",
    "print second_list"
   ]
  },
  {
   "cell_type": "markdown",
   "metadata": {},
   "source": [
    "## Advanced Problems"
   ]
  },
  {
   "cell_type": "markdown",
   "metadata": {},
   "source": [
    "*Standard Deviation*: Write a cell that calculates the standard deviation of a list of numbers. The formula for the standard deviation is  \n",
    "  \n",
    "$$ \\sigma = \\sqrt{\\frac{1}{N-1} \\sum_{i = 1}^N(x_i - \\bar{x})^2}$$  \n",
    "  \n",
    "where $N$ is the number of elements in the list, $x_i$ is a particular element of the list, and $\\bar{x}$ is the average of the list of numbers. (hint: you will need to calculate the average first).\n",
    "\n",
    "Test your code on the given list. The answer is approximately 31.23."
   ]
  },
  {
   "cell_type": "code",
   "execution_count": 11,
   "metadata": {
    "collapsed": false
   },
   "outputs": [
    {
     "name": "stdout",
     "output_type": "stream",
     "text": [
      "31.2340508751\n"
     ]
    }
   ],
   "source": [
    "import math\n",
    "test_list = [7, 39, 2, 56, 98, 74, 34, 17, 56, 88, 66, 0, 56, 34]\n",
    "\n",
    "# We need to compute the average first (I just copied the code from above \n",
    "# and made the appropriate changes)\n",
    "\n",
    "# Create a variable that holds the sum, initialize to zero\n",
    "mysum = 0\n",
    "\n",
    "# We are going to need the length of the list\n",
    "size = len(test_list)\n",
    "\n",
    "# Dummy variable for indexing the list\n",
    "i = 0\n",
    "\n",
    "while i < size:\n",
    "    # add current value to mysum\n",
    "    mysum = mysum + test_list[i]\n",
    "    # increment i\n",
    "    i = i + 1\n",
    "\n",
    "# I need to convert size from an integer to a float\n",
    "# so that the result can be a fractional number\n",
    "avg = mysum / float(size);\n",
    "\n",
    "# Set my dummy variable back to zero\n",
    "i = 0\n",
    "\n",
    "# Create a variable that holds the sum for the standard deviation\n",
    "mysum2 = 0\n",
    "\n",
    "while i < size:\n",
    "    # add current value to mysum\n",
    "    mysum2 = mysum2 + (test_list[i]-avg)**2\n",
    "    # increment i\n",
    "    i = i + 1\n",
    "\n",
    "stddev = math.sqrt((1./(size-1))*mysum2)\n",
    "\n",
    "print stddev"
   ]
  },
  {
   "cell_type": "markdown",
   "metadata": {},
   "source": [
    "*Median*: Write a cell that calculates the median of a list of numbers. The answer for test_list is 47.5."
   ]
  },
  {
   "cell_type": "code",
   "execution_count": null,
   "metadata": {
    "collapsed": true
   },
   "outputs": [],
   "source": [
    "test_list = [7, 39, 2, 56, 98, 74, 34, 17, 56, 88, 66, 0, 56, 34]\n",
    "\n",
    "# First we need to use the function sorted to sort the list\n",
    "test_sorted = sorted(test_list)"
   ]
  },
  {
   "cell_type": "markdown",
   "metadata": {},
   "source": [
    "*Mode*: Write a cell that calculates the mode of a list of numbers. The answer for test_list is 56."
   ]
  },
  {
   "cell_type": "code",
   "execution_count": 21,
   "metadata": {
    "collapsed": false
   },
   "outputs": [
    {
     "name": "stdout",
     "output_type": "stream",
     "text": [
      "{0: 1, 2: 1, 34: 2, 66: 1, 39: 1, 74: 1, 7: 1, 98: 1, 17: 1, 56: 3, 88: 1}\n",
      "56\n"
     ]
    }
   ],
   "source": [
    "test_list = [7, 39, 2, 56, 98, 74, 34, 17, 56, 88, 66, 0, 56, 34]\n",
    "\n",
    "# Get size of list\n",
    "size = len(test_list)\n",
    "\n",
    "# Create a dictionary to hold the number of times\n",
    "# an integer appears in the list\n",
    "d = {}\n",
    "\n",
    "# Index variable\n",
    "i = 0\n",
    "while i < size:\n",
    "    # Get current value in list\n",
    "    value = test_list[i]\n",
    "    # Check to see if the current value is in the dictionary\n",
    "    result = d.get(value)\n",
    "    # If the result is None, then this means the value is a new entry \n",
    "    # in the dictionary\n",
    "    if result == None:\n",
    "        d[value] = 1\n",
    "    else:\n",
    "        d[value] = result+1\n",
    "    i = i + 1\n",
    "\n",
    "mode = -1\n",
    "max_value = -1\n",
    "for k, v in d.items():\n",
    "    if (v > max_value):\n",
    "        max_value = v\n",
    "        mode = k\n",
    "\n",
    "print mode\n",
    "    \n",
    "    \n",
    "        "
   ]
  },
  {
   "cell_type": "code",
   "execution_count": null,
   "metadata": {
    "collapsed": true
   },
   "outputs": [],
   "source": []
  }
 ],
 "metadata": {
  "anaconda-cloud": {},
  "kernelspec": {
   "display_name": "Python [Root]",
   "language": "python",
   "name": "Python [Root]"
  },
  "language_info": {
   "codemirror_mode": {
    "name": "ipython",
    "version": 2
   },
   "file_extension": ".py",
   "mimetype": "text/x-python",
   "name": "python",
   "nbconvert_exporter": "python",
   "pygments_lexer": "ipython2",
   "version": "2.7.12"
  }
 },
 "nbformat": 4,
 "nbformat_minor": 0
}
