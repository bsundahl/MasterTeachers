{
 "cells": [
  {
   "cell_type": "markdown",
   "metadata": {},
   "source": [
    "# Exploring Molecular Motions"
   ]
  },
  {
   "cell_type": "markdown",
   "metadata": {},
   "source": [
    "Molecules twist, bend, rotate and move and how they do it is vital for their functionality. In this notebook we will learn how to use a package called prody to explore how molecules might move given their structure.\n",
    "\n",
    "We'll start up with simple molecules ($CO_{2}$, cyclohexane, fullerene) and go to the more relevant ones like DNA and proteins.\n",
    "\n",
    "A big part of this project is being able to visualize what you are doing, so we'll use the python notebook to handle molecules and another application (VMD) to visualize the structures and their movements.\n"
   ]
  },
  {
   "cell_type": "code",
   "execution_count": 1,
   "metadata": {
    "collapsed": false
   },
   "outputs": [],
   "source": [
    "%matplotlib notebook\n",
    "'''\n",
    "    Load the prody module that has all the functionality.\n",
    "    You can install prody by doing:\n",
    "    pip install -U prody\n",
    "    More information at http://prody.csb.pitt.edu\n",
    "'''\n",
    "import prody"
   ]
  },
  {
   "cell_type": "markdown",
   "metadata": {},
   "source": [
    "We need to work with molecules. In the git repository you should have a few files named \"*.pdb\" which contain the atomic coordinates of your molecules. This is a standard format heavily used to study biomolecules. In the advanced module you will see how you can also use it to automatically download and use any of the close to 100,000 proteins and nucleic acids for which we know the structure.\n",
    "\n",
    "We will start by a simple molecule, carbon dioxide."
   ]
  },
  {
   "cell_type": "code",
   "execution_count": 2,
   "metadata": {
    "collapsed": false
   },
   "outputs": [
    {
     "name": "stderr",
     "output_type": "stream",
     "text": [
      "@> 3 atoms and 1 coordinate set(s) were parsed in 0.00s.\n"
     ]
    }
   ],
   "source": [
    "pdb = prody.parsePDB('co2.pdb')"
   ]
  },
  {
   "cell_type": "markdown",
   "metadata": {},
   "source": [
    "Want to know how it looks like? Start the VMD application and let''s find out. You have two screens, the first one saying VMD in big letters is where your molecules will show up. The second one you will use it to load molecules and change their appearance. Go to File, new molecule. In the new window \"Browse\" to your directory where the co2.pdb file is at and click on load.\n",
    "\n",
    "Let's customize how this molecule looks: Graphics-->representations\n",
    "From the new menu choose CPK from thr Drawing Method drop down menu. Now it should look more like a molecule. You can see the individual atoms and identify the carbon and the oxygens.\n",
    "\n",
    "With prody you can get all the information on the system. Just look at different functions that pop up when you look write pdb. and hit tab. Same with prody. Let's see some of them in action."
   ]
  },
  {
   "cell_type": "code",
   "execution_count": 3,
   "metadata": {
    "collapsed": false
   },
   "outputs": [
    {
     "data": {
      "text/plain": [
       "<AtomGroup: co2 (3 atoms)>"
      ]
     },
     "execution_count": 3,
     "metadata": {},
     "output_type": "execute_result"
    }
   ],
   "source": [
    "# The object contains information about the name of \n",
    "# the file we loaded and the number of atoms on it.\n",
    "pdb"
   ]
  },
  {
   "cell_type": "code",
   "execution_count": 4,
   "metadata": {
    "collapsed": false
   },
   "outputs": [
    {
     "data": {
      "text/plain": [
       "array(['C', 'O1', 'O2'], \n",
       "      dtype='|S6')"
      ]
     },
     "execution_count": 4,
     "metadata": {},
     "output_type": "execute_result"
    }
   ],
   "source": [
    "# Often getting residue numbers, indices, atoms names and coordinates comes in handy \n",
    "# for checking your molecule, modifying it, ...\n",
    "pdb.getNames()"
   ]
  },
  {
   "cell_type": "code",
   "execution_count": 5,
   "metadata": {
    "collapsed": false
   },
   "outputs": [
    {
     "data": {
      "text/plain": [
       "array([1, 1, 1])"
      ]
     },
     "execution_count": 5,
     "metadata": {},
     "output_type": "execute_result"
    }
   ],
   "source": [
    "pdb.getResnums()"
   ]
  },
  {
   "cell_type": "code",
   "execution_count": 6,
   "metadata": {
    "collapsed": false
   },
   "outputs": [
    {
     "data": {
      "text/plain": [
       "array([[ 0. ,  0. ,  0. ],\n",
       "       [ 1.3,  0. ,  0. ],\n",
       "       [-1.3,  0. ,  0. ]])"
      ]
     },
     "execution_count": 6,
     "metadata": {},
     "output_type": "execute_result"
    }
   ],
   "source": [
    "pdb.getCoords()"
   ]
  },
  {
   "cell_type": "code",
   "execution_count": 7,
   "metadata": {
    "collapsed": false
   },
   "outputs": [],
   "source": [
    "# Translating the coordinates is easy\n",
    "pdb.setCoords(pdb.getCoords()+3.0)"
   ]
  },
  {
   "cell_type": "code",
   "execution_count": 8,
   "metadata": {
    "collapsed": false
   },
   "outputs": [
    {
     "data": {
      "text/plain": [
       "array([[ 3. ,  3. ,  3. ],\n",
       "       [ 4.3,  3. ,  3. ],\n",
       "       [ 1.7,  3. ,  3. ]])"
      ]
     },
     "execution_count": 8,
     "metadata": {},
     "output_type": "execute_result"
    }
   ],
   "source": [
    "pdb.getCoords()"
   ]
  },
  {
   "cell_type": "code",
   "execution_count": 9,
   "metadata": {
    "collapsed": true
   },
   "outputs": [],
   "source": [
    "# select individual atoms or more complex selections by residue, molecule, ...\n",
    "carbon = pdb.select('name C')"
   ]
  },
  {
   "cell_type": "code",
   "execution_count": 10,
   "metadata": {
    "collapsed": false
   },
   "outputs": [
    {
     "data": {
      "text/plain": [
       "<Selection: 'name C' from co2 (1 atoms)>"
      ]
     },
     "execution_count": 10,
     "metadata": {},
     "output_type": "execute_result"
    }
   ],
   "source": [
    "carbon"
   ]
  },
  {
   "cell_type": "code",
   "execution_count": 11,
   "metadata": {
    "collapsed": false
   },
   "outputs": [
    {
     "data": {
      "text/plain": [
       "array([[ 3.,  3.,  3.]])"
      ]
     },
     "execution_count": 11,
     "metadata": {},
     "output_type": "execute_result"
    }
   ],
   "source": [
    "carbon.getCoords()"
   ]
  },
  {
   "cell_type": "code",
   "execution_count": 12,
   "metadata": {
    "collapsed": false
   },
   "outputs": [
    {
     "data": {
      "text/plain": [
       "array([ 2.6])"
      ]
     },
     "execution_count": 12,
     "metadata": {},
     "output_type": "execute_result"
    }
   ],
   "source": [
    "prody.calcDistance(pdb.select('name O1'),pdb.select('name O2'))"
   ]
  },
  {
   "cell_type": "code",
   "execution_count": 13,
   "metadata": {
    "collapsed": false
   },
   "outputs": [
    {
     "data": {
      "text/plain": [
       "array([[ 0. ,  1.3,  1.3],\n",
       "       [ 1.3,  0. ,  2.6],\n",
       "       [ 1.3,  2.6,  0. ]])"
      ]
     },
     "execution_count": 13,
     "metadata": {},
     "output_type": "execute_result"
    }
   ],
   "source": [
    "# Or even better get a matrix of distances between atoms\n",
    "dist = prody.buildDistMatrix(pdb)\n",
    "dist"
   ]
  },
  {
   "cell_type": "code",
   "execution_count": 14,
   "metadata": {
    "collapsed": false
   },
   "outputs": [
    {
     "data": {
      "application/javascript": [
       "/* Put everything inside the global mpl namespace */\n",
       "window.mpl = {};\n",
       "\n",
       "mpl.get_websocket_type = function() {\n",
       "    if (typeof(WebSocket) !== 'undefined') {\n",
       "        return WebSocket;\n",
       "    } else if (typeof(MozWebSocket) !== 'undefined') {\n",
       "        return MozWebSocket;\n",
       "    } else {\n",
       "        alert('Your browser does not have WebSocket support.' +\n",
       "              'Please try Chrome, Safari or Firefox ≥ 6. ' +\n",
       "              'Firefox 4 and 5 are also supported but you ' +\n",
       "              'have to enable WebSockets in about:config.');\n",
       "    };\n",
       "}\n",
       "\n",
       "mpl.figure = function(figure_id, websocket, ondownload, parent_element) {\n",
       "    this.id = figure_id;\n",
       "\n",
       "    this.ws = websocket;\n",
       "\n",
       "    this.supports_binary = (this.ws.binaryType != undefined);\n",
       "\n",
       "    if (!this.supports_binary) {\n",
       "        var warnings = document.getElementById(\"mpl-warnings\");\n",
       "        if (warnings) {\n",
       "            warnings.style.display = 'block';\n",
       "            warnings.textContent = (\n",
       "                \"This browser does not support binary websocket messages. \" +\n",
       "                    \"Performance may be slow.\");\n",
       "        }\n",
       "    }\n",
       "\n",
       "    this.imageObj = new Image();\n",
       "\n",
       "    this.context = undefined;\n",
       "    this.message = undefined;\n",
       "    this.canvas = undefined;\n",
       "    this.rubberband_canvas = undefined;\n",
       "    this.rubberband_context = undefined;\n",
       "    this.format_dropdown = undefined;\n",
       "\n",
       "    this.image_mode = 'full';\n",
       "\n",
       "    this.root = $('<div/>');\n",
       "    this._root_extra_style(this.root)\n",
       "    this.root.attr('style', 'display: inline-block');\n",
       "\n",
       "    $(parent_element).append(this.root);\n",
       "\n",
       "    this._init_header(this);\n",
       "    this._init_canvas(this);\n",
       "    this._init_toolbar(this);\n",
       "\n",
       "    var fig = this;\n",
       "\n",
       "    this.waiting = false;\n",
       "\n",
       "    this.ws.onopen =  function () {\n",
       "            fig.send_message(\"supports_binary\", {value: fig.supports_binary});\n",
       "            fig.send_message(\"send_image_mode\", {});\n",
       "            fig.send_message(\"refresh\", {});\n",
       "        }\n",
       "\n",
       "    this.imageObj.onload = function() {\n",
       "            if (fig.image_mode == 'full') {\n",
       "                // Full images could contain transparency (where diff images\n",
       "                // almost always do), so we need to clear the canvas so that\n",
       "                // there is no ghosting.\n",
       "                fig.context.clearRect(0, 0, fig.canvas.width, fig.canvas.height);\n",
       "            }\n",
       "            fig.context.drawImage(fig.imageObj, 0, 0);\n",
       "        };\n",
       "\n",
       "    this.imageObj.onunload = function() {\n",
       "        this.ws.close();\n",
       "    }\n",
       "\n",
       "    this.ws.onmessage = this._make_on_message_function(this);\n",
       "\n",
       "    this.ondownload = ondownload;\n",
       "}\n",
       "\n",
       "mpl.figure.prototype._init_header = function() {\n",
       "    var titlebar = $(\n",
       "        '<div class=\"ui-dialog-titlebar ui-widget-header ui-corner-all ' +\n",
       "        'ui-helper-clearfix\"/>');\n",
       "    var titletext = $(\n",
       "        '<div class=\"ui-dialog-title\" style=\"width: 100%; ' +\n",
       "        'text-align: center; padding: 3px;\"/>');\n",
       "    titlebar.append(titletext)\n",
       "    this.root.append(titlebar);\n",
       "    this.header = titletext[0];\n",
       "}\n",
       "\n",
       "\n",
       "\n",
       "mpl.figure.prototype._canvas_extra_style = function(canvas_div) {\n",
       "\n",
       "}\n",
       "\n",
       "\n",
       "mpl.figure.prototype._root_extra_style = function(canvas_div) {\n",
       "\n",
       "}\n",
       "\n",
       "mpl.figure.prototype._init_canvas = function() {\n",
       "    var fig = this;\n",
       "\n",
       "    var canvas_div = $('<div/>');\n",
       "\n",
       "    canvas_div.attr('style', 'position: relative; clear: both; outline: 0');\n",
       "\n",
       "    function canvas_keyboard_event(event) {\n",
       "        return fig.key_event(event, event['data']);\n",
       "    }\n",
       "\n",
       "    canvas_div.keydown('key_press', canvas_keyboard_event);\n",
       "    canvas_div.keyup('key_release', canvas_keyboard_event);\n",
       "    this.canvas_div = canvas_div\n",
       "    this._canvas_extra_style(canvas_div)\n",
       "    this.root.append(canvas_div);\n",
       "\n",
       "    var canvas = $('<canvas/>');\n",
       "    canvas.addClass('mpl-canvas');\n",
       "    canvas.attr('style', \"left: 0; top: 0; z-index: 0; outline: 0\")\n",
       "\n",
       "    this.canvas = canvas[0];\n",
       "    this.context = canvas[0].getContext(\"2d\");\n",
       "\n",
       "    var rubberband = $('<canvas/>');\n",
       "    rubberband.attr('style', \"position: absolute; left: 0; top: 0; z-index: 1;\")\n",
       "\n",
       "    var pass_mouse_events = true;\n",
       "\n",
       "    canvas_div.resizable({\n",
       "        start: function(event, ui) {\n",
       "            pass_mouse_events = false;\n",
       "        },\n",
       "        resize: function(event, ui) {\n",
       "            fig.request_resize(ui.size.width, ui.size.height);\n",
       "        },\n",
       "        stop: function(event, ui) {\n",
       "            pass_mouse_events = true;\n",
       "            fig.request_resize(ui.size.width, ui.size.height);\n",
       "        },\n",
       "    });\n",
       "\n",
       "    function mouse_event_fn(event) {\n",
       "        if (pass_mouse_events)\n",
       "            return fig.mouse_event(event, event['data']);\n",
       "    }\n",
       "\n",
       "    rubberband.mousedown('button_press', mouse_event_fn);\n",
       "    rubberband.mouseup('button_release', mouse_event_fn);\n",
       "    // Throttle sequential mouse events to 1 every 20ms.\n",
       "    rubberband.mousemove('motion_notify', mouse_event_fn);\n",
       "\n",
       "    rubberband.mouseenter('figure_enter', mouse_event_fn);\n",
       "    rubberband.mouseleave('figure_leave', mouse_event_fn);\n",
       "\n",
       "    canvas_div.on(\"wheel\", function (event) {\n",
       "        event = event.originalEvent;\n",
       "        event['data'] = 'scroll'\n",
       "        if (event.deltaY < 0) {\n",
       "            event.step = 1;\n",
       "        } else {\n",
       "            event.step = -1;\n",
       "        }\n",
       "        mouse_event_fn(event);\n",
       "    });\n",
       "\n",
       "    canvas_div.append(canvas);\n",
       "    canvas_div.append(rubberband);\n",
       "\n",
       "    this.rubberband = rubberband;\n",
       "    this.rubberband_canvas = rubberband[0];\n",
       "    this.rubberband_context = rubberband[0].getContext(\"2d\");\n",
       "    this.rubberband_context.strokeStyle = \"#000000\";\n",
       "\n",
       "    this._resize_canvas = function(width, height) {\n",
       "        // Keep the size of the canvas, canvas container, and rubber band\n",
       "        // canvas in synch.\n",
       "        canvas_div.css('width', width)\n",
       "        canvas_div.css('height', height)\n",
       "\n",
       "        canvas.attr('width', width);\n",
       "        canvas.attr('height', height);\n",
       "\n",
       "        rubberband.attr('width', width);\n",
       "        rubberband.attr('height', height);\n",
       "    }\n",
       "\n",
       "    // Set the figure to an initial 600x600px, this will subsequently be updated\n",
       "    // upon first draw.\n",
       "    this._resize_canvas(600, 600);\n",
       "\n",
       "    // Disable right mouse context menu.\n",
       "    $(this.rubberband_canvas).bind(\"contextmenu\",function(e){\n",
       "        return false;\n",
       "    });\n",
       "\n",
       "    function set_focus () {\n",
       "        canvas.focus();\n",
       "        canvas_div.focus();\n",
       "    }\n",
       "\n",
       "    window.setTimeout(set_focus, 100);\n",
       "}\n",
       "\n",
       "mpl.figure.prototype._init_toolbar = function() {\n",
       "    var fig = this;\n",
       "\n",
       "    var nav_element = $('<div/>')\n",
       "    nav_element.attr('style', 'width: 100%');\n",
       "    this.root.append(nav_element);\n",
       "\n",
       "    // Define a callback function for later on.\n",
       "    function toolbar_event(event) {\n",
       "        return fig.toolbar_button_onclick(event['data']);\n",
       "    }\n",
       "    function toolbar_mouse_event(event) {\n",
       "        return fig.toolbar_button_onmouseover(event['data']);\n",
       "    }\n",
       "\n",
       "    for(var toolbar_ind in mpl.toolbar_items) {\n",
       "        var name = mpl.toolbar_items[toolbar_ind][0];\n",
       "        var tooltip = mpl.toolbar_items[toolbar_ind][1];\n",
       "        var image = mpl.toolbar_items[toolbar_ind][2];\n",
       "        var method_name = mpl.toolbar_items[toolbar_ind][3];\n",
       "\n",
       "        if (!name) {\n",
       "            // put a spacer in here.\n",
       "            continue;\n",
       "        }\n",
       "        var button = $('<button/>');\n",
       "        button.addClass('ui-button ui-widget ui-state-default ui-corner-all ' +\n",
       "                        'ui-button-icon-only');\n",
       "        button.attr('role', 'button');\n",
       "        button.attr('aria-disabled', 'false');\n",
       "        button.click(method_name, toolbar_event);\n",
       "        button.mouseover(tooltip, toolbar_mouse_event);\n",
       "\n",
       "        var icon_img = $('<span/>');\n",
       "        icon_img.addClass('ui-button-icon-primary ui-icon');\n",
       "        icon_img.addClass(image);\n",
       "        icon_img.addClass('ui-corner-all');\n",
       "\n",
       "        var tooltip_span = $('<span/>');\n",
       "        tooltip_span.addClass('ui-button-text');\n",
       "        tooltip_span.html(tooltip);\n",
       "\n",
       "        button.append(icon_img);\n",
       "        button.append(tooltip_span);\n",
       "\n",
       "        nav_element.append(button);\n",
       "    }\n",
       "\n",
       "    var fmt_picker_span = $('<span/>');\n",
       "\n",
       "    var fmt_picker = $('<select/>');\n",
       "    fmt_picker.addClass('mpl-toolbar-option ui-widget ui-widget-content');\n",
       "    fmt_picker_span.append(fmt_picker);\n",
       "    nav_element.append(fmt_picker_span);\n",
       "    this.format_dropdown = fmt_picker[0];\n",
       "\n",
       "    for (var ind in mpl.extensions) {\n",
       "        var fmt = mpl.extensions[ind];\n",
       "        var option = $(\n",
       "            '<option/>', {selected: fmt === mpl.default_extension}).html(fmt);\n",
       "        fmt_picker.append(option)\n",
       "    }\n",
       "\n",
       "    // Add hover states to the ui-buttons\n",
       "    $( \".ui-button\" ).hover(\n",
       "        function() { $(this).addClass(\"ui-state-hover\");},\n",
       "        function() { $(this).removeClass(\"ui-state-hover\");}\n",
       "    );\n",
       "\n",
       "    var status_bar = $('<span class=\"mpl-message\"/>');\n",
       "    nav_element.append(status_bar);\n",
       "    this.message = status_bar[0];\n",
       "}\n",
       "\n",
       "mpl.figure.prototype.request_resize = function(x_pixels, y_pixels) {\n",
       "    // Request matplotlib to resize the figure. Matplotlib will then trigger a resize in the client,\n",
       "    // which will in turn request a refresh of the image.\n",
       "    this.send_message('resize', {'width': x_pixels, 'height': y_pixels});\n",
       "}\n",
       "\n",
       "mpl.figure.prototype.send_message = function(type, properties) {\n",
       "    properties['type'] = type;\n",
       "    properties['figure_id'] = this.id;\n",
       "    this.ws.send(JSON.stringify(properties));\n",
       "}\n",
       "\n",
       "mpl.figure.prototype.send_draw_message = function() {\n",
       "    if (!this.waiting) {\n",
       "        this.waiting = true;\n",
       "        this.ws.send(JSON.stringify({type: \"draw\", figure_id: this.id}));\n",
       "    }\n",
       "}\n",
       "\n",
       "\n",
       "mpl.figure.prototype.handle_save = function(fig, msg) {\n",
       "    var format_dropdown = fig.format_dropdown;\n",
       "    var format = format_dropdown.options[format_dropdown.selectedIndex].value;\n",
       "    fig.ondownload(fig, format);\n",
       "}\n",
       "\n",
       "\n",
       "mpl.figure.prototype.handle_resize = function(fig, msg) {\n",
       "    var size = msg['size'];\n",
       "    if (size[0] != fig.canvas.width || size[1] != fig.canvas.height) {\n",
       "        fig._resize_canvas(size[0], size[1]);\n",
       "        fig.send_message(\"refresh\", {});\n",
       "    };\n",
       "}\n",
       "\n",
       "mpl.figure.prototype.handle_rubberband = function(fig, msg) {\n",
       "    var x0 = msg['x0'];\n",
       "    var y0 = fig.canvas.height - msg['y0'];\n",
       "    var x1 = msg['x1'];\n",
       "    var y1 = fig.canvas.height - msg['y1'];\n",
       "    x0 = Math.floor(x0) + 0.5;\n",
       "    y0 = Math.floor(y0) + 0.5;\n",
       "    x1 = Math.floor(x1) + 0.5;\n",
       "    y1 = Math.floor(y1) + 0.5;\n",
       "    var min_x = Math.min(x0, x1);\n",
       "    var min_y = Math.min(y0, y1);\n",
       "    var width = Math.abs(x1 - x0);\n",
       "    var height = Math.abs(y1 - y0);\n",
       "\n",
       "    fig.rubberband_context.clearRect(\n",
       "        0, 0, fig.canvas.width, fig.canvas.height);\n",
       "\n",
       "    fig.rubberband_context.strokeRect(min_x, min_y, width, height);\n",
       "}\n",
       "\n",
       "mpl.figure.prototype.handle_figure_label = function(fig, msg) {\n",
       "    // Updates the figure title.\n",
       "    fig.header.textContent = msg['label'];\n",
       "}\n",
       "\n",
       "mpl.figure.prototype.handle_cursor = function(fig, msg) {\n",
       "    var cursor = msg['cursor'];\n",
       "    switch(cursor)\n",
       "    {\n",
       "    case 0:\n",
       "        cursor = 'pointer';\n",
       "        break;\n",
       "    case 1:\n",
       "        cursor = 'default';\n",
       "        break;\n",
       "    case 2:\n",
       "        cursor = 'crosshair';\n",
       "        break;\n",
       "    case 3:\n",
       "        cursor = 'move';\n",
       "        break;\n",
       "    }\n",
       "    fig.rubberband_canvas.style.cursor = cursor;\n",
       "}\n",
       "\n",
       "mpl.figure.prototype.handle_message = function(fig, msg) {\n",
       "    fig.message.textContent = msg['message'];\n",
       "}\n",
       "\n",
       "mpl.figure.prototype.handle_draw = function(fig, msg) {\n",
       "    // Request the server to send over a new figure.\n",
       "    fig.send_draw_message();\n",
       "}\n",
       "\n",
       "mpl.figure.prototype.handle_image_mode = function(fig, msg) {\n",
       "    fig.image_mode = msg['mode'];\n",
       "}\n",
       "\n",
       "mpl.figure.prototype.updated_canvas_event = function() {\n",
       "    // Called whenever the canvas gets updated.\n",
       "    this.send_message(\"ack\", {});\n",
       "}\n",
       "\n",
       "// A function to construct a web socket function for onmessage handling.\n",
       "// Called in the figure constructor.\n",
       "mpl.figure.prototype._make_on_message_function = function(fig) {\n",
       "    return function socket_on_message(evt) {\n",
       "        if (evt.data instanceof Blob) {\n",
       "            /* FIXME: We get \"Resource interpreted as Image but\n",
       "             * transferred with MIME type text/plain:\" errors on\n",
       "             * Chrome.  But how to set the MIME type?  It doesn't seem\n",
       "             * to be part of the websocket stream */\n",
       "            evt.data.type = \"image/png\";\n",
       "\n",
       "            /* Free the memory for the previous frames */\n",
       "            if (fig.imageObj.src) {\n",
       "                (window.URL || window.webkitURL).revokeObjectURL(\n",
       "                    fig.imageObj.src);\n",
       "            }\n",
       "\n",
       "            fig.imageObj.src = (window.URL || window.webkitURL).createObjectURL(\n",
       "                evt.data);\n",
       "            fig.updated_canvas_event();\n",
       "            fig.waiting = false;\n",
       "            return;\n",
       "        }\n",
       "        else if (typeof evt.data === 'string' && evt.data.slice(0, 21) == \"data:image/png;base64\") {\n",
       "            fig.imageObj.src = evt.data;\n",
       "            fig.updated_canvas_event();\n",
       "            fig.waiting = false;\n",
       "            return;\n",
       "        }\n",
       "\n",
       "        var msg = JSON.parse(evt.data);\n",
       "        var msg_type = msg['type'];\n",
       "\n",
       "        // Call the  \"handle_{type}\" callback, which takes\n",
       "        // the figure and JSON message as its only arguments.\n",
       "        try {\n",
       "            var callback = fig[\"handle_\" + msg_type];\n",
       "        } catch (e) {\n",
       "            console.log(\"No handler for the '\" + msg_type + \"' message type: \", msg);\n",
       "            return;\n",
       "        }\n",
       "\n",
       "        if (callback) {\n",
       "            try {\n",
       "                // console.log(\"Handling '\" + msg_type + \"' message: \", msg);\n",
       "                callback(fig, msg);\n",
       "            } catch (e) {\n",
       "                console.log(\"Exception inside the 'handler_\" + msg_type + \"' callback:\", e, e.stack, msg);\n",
       "            }\n",
       "        }\n",
       "    };\n",
       "}\n",
       "\n",
       "// from http://stackoverflow.com/questions/1114465/getting-mouse-location-in-canvas\n",
       "mpl.findpos = function(e) {\n",
       "    //this section is from http://www.quirksmode.org/js/events_properties.html\n",
       "    var targ;\n",
       "    if (!e)\n",
       "        e = window.event;\n",
       "    if (e.target)\n",
       "        targ = e.target;\n",
       "    else if (e.srcElement)\n",
       "        targ = e.srcElement;\n",
       "    if (targ.nodeType == 3) // defeat Safari bug\n",
       "        targ = targ.parentNode;\n",
       "\n",
       "    // jQuery normalizes the pageX and pageY\n",
       "    // pageX,Y are the mouse positions relative to the document\n",
       "    // offset() returns the position of the element relative to the document\n",
       "    var x = e.pageX - $(targ).offset().left;\n",
       "    var y = e.pageY - $(targ).offset().top;\n",
       "\n",
       "    return {\"x\": x, \"y\": y};\n",
       "};\n",
       "\n",
       "/*\n",
       " * return a copy of an object with only non-object keys\n",
       " * we need this to avoid circular references\n",
       " * http://stackoverflow.com/a/24161582/3208463\n",
       " */\n",
       "function simpleKeys (original) {\n",
       "  return Object.keys(original).reduce(function (obj, key) {\n",
       "    if (typeof original[key] !== 'object')\n",
       "        obj[key] = original[key]\n",
       "    return obj;\n",
       "  }, {});\n",
       "}\n",
       "\n",
       "mpl.figure.prototype.mouse_event = function(event, name) {\n",
       "    var canvas_pos = mpl.findpos(event)\n",
       "\n",
       "    if (name === 'button_press')\n",
       "    {\n",
       "        this.canvas.focus();\n",
       "        this.canvas_div.focus();\n",
       "    }\n",
       "\n",
       "    var x = canvas_pos.x;\n",
       "    var y = canvas_pos.y;\n",
       "\n",
       "    this.send_message(name, {x: x, y: y, button: event.button,\n",
       "                             step: event.step,\n",
       "                             guiEvent: simpleKeys(event)});\n",
       "\n",
       "    /* This prevents the web browser from automatically changing to\n",
       "     * the text insertion cursor when the button is pressed.  We want\n",
       "     * to control all of the cursor setting manually through the\n",
       "     * 'cursor' event from matplotlib */\n",
       "    event.preventDefault();\n",
       "    return false;\n",
       "}\n",
       "\n",
       "mpl.figure.prototype._key_event_extra = function(event, name) {\n",
       "    // Handle any extra behaviour associated with a key event\n",
       "}\n",
       "\n",
       "mpl.figure.prototype.key_event = function(event, name) {\n",
       "\n",
       "    // Prevent repeat events\n",
       "    if (name == 'key_press')\n",
       "    {\n",
       "        if (event.which === this._key)\n",
       "            return;\n",
       "        else\n",
       "            this._key = event.which;\n",
       "    }\n",
       "    if (name == 'key_release')\n",
       "        this._key = null;\n",
       "\n",
       "    var value = '';\n",
       "    if (event.ctrlKey && event.which != 17)\n",
       "        value += \"ctrl+\";\n",
       "    if (event.altKey && event.which != 18)\n",
       "        value += \"alt+\";\n",
       "    if (event.shiftKey && event.which != 16)\n",
       "        value += \"shift+\";\n",
       "\n",
       "    value += 'k';\n",
       "    value += event.which.toString();\n",
       "\n",
       "    this._key_event_extra(event, name);\n",
       "\n",
       "    this.send_message(name, {key: value,\n",
       "                             guiEvent: simpleKeys(event)});\n",
       "    return false;\n",
       "}\n",
       "\n",
       "mpl.figure.prototype.toolbar_button_onclick = function(name) {\n",
       "    if (name == 'download') {\n",
       "        this.handle_save(this, null);\n",
       "    } else {\n",
       "        this.send_message(\"toolbar_button\", {name: name});\n",
       "    }\n",
       "};\n",
       "\n",
       "mpl.figure.prototype.toolbar_button_onmouseover = function(tooltip) {\n",
       "    this.message.textContent = tooltip;\n",
       "};\n",
       "mpl.toolbar_items = [[\"Home\", \"Reset original view\", \"fa fa-home icon-home\", \"home\"], [\"Back\", \"Back to  previous view\", \"fa fa-arrow-left icon-arrow-left\", \"back\"], [\"Forward\", \"Forward to next view\", \"fa fa-arrow-right icon-arrow-right\", \"forward\"], [\"\", \"\", \"\", \"\"], [\"Pan\", \"Pan axes with left mouse, zoom with right\", \"fa fa-arrows icon-move\", \"pan\"], [\"Zoom\", \"Zoom to rectangle\", \"fa fa-square-o icon-check-empty\", \"zoom\"], [\"\", \"\", \"\", \"\"], [\"Download\", \"Download plot\", \"fa fa-floppy-o icon-save\", \"download\"]];\n",
       "\n",
       "mpl.extensions = [\"eps\", \"jpeg\", \"pdf\", \"png\", \"ps\", \"raw\", \"svg\", \"tif\"];\n",
       "\n",
       "mpl.default_extension = \"png\";var comm_websocket_adapter = function(comm) {\n",
       "    // Create a \"websocket\"-like object which calls the given IPython comm\n",
       "    // object with the appropriate methods. Currently this is a non binary\n",
       "    // socket, so there is still some room for performance tuning.\n",
       "    var ws = {};\n",
       "\n",
       "    ws.close = function() {\n",
       "        comm.close()\n",
       "    };\n",
       "    ws.send = function(m) {\n",
       "        //console.log('sending', m);\n",
       "        comm.send(m);\n",
       "    };\n",
       "    // Register the callback with on_msg.\n",
       "    comm.on_msg(function(msg) {\n",
       "        //console.log('receiving', msg['content']['data'], msg);\n",
       "        // Pass the mpl event to the overriden (by mpl) onmessage function.\n",
       "        ws.onmessage(msg['content']['data'])\n",
       "    });\n",
       "    return ws;\n",
       "}\n",
       "\n",
       "mpl.mpl_figure_comm = function(comm, msg) {\n",
       "    // This is the function which gets called when the mpl process\n",
       "    // starts-up an IPython Comm through the \"matplotlib\" channel.\n",
       "\n",
       "    var id = msg.content.data.id;\n",
       "    // Get hold of the div created by the display call when the Comm\n",
       "    // socket was opened in Python.\n",
       "    var element = $(\"#\" + id);\n",
       "    var ws_proxy = comm_websocket_adapter(comm)\n",
       "\n",
       "    function ondownload(figure, format) {\n",
       "        window.open(figure.imageObj.src);\n",
       "    }\n",
       "\n",
       "    var fig = new mpl.figure(id, ws_proxy,\n",
       "                           ondownload,\n",
       "                           element.get(0));\n",
       "\n",
       "    // Call onopen now - mpl needs it, as it is assuming we've passed it a real\n",
       "    // web socket which is closed, not our websocket->open comm proxy.\n",
       "    ws_proxy.onopen();\n",
       "\n",
       "    fig.parent_element = element.get(0);\n",
       "    fig.cell_info = mpl.find_output_cell(\"<div id='\" + id + \"'></div>\");\n",
       "    if (!fig.cell_info) {\n",
       "        console.error(\"Failed to find cell for figure\", id, fig);\n",
       "        return;\n",
       "    }\n",
       "\n",
       "    var output_index = fig.cell_info[2]\n",
       "    var cell = fig.cell_info[0];\n",
       "\n",
       "};\n",
       "\n",
       "mpl.figure.prototype.handle_close = function(fig, msg) {\n",
       "    fig.root.unbind('remove')\n",
       "\n",
       "    // Update the output cell to use the data from the current canvas.\n",
       "    fig.push_to_output();\n",
       "    var dataURL = fig.canvas.toDataURL();\n",
       "    // Re-enable the keyboard manager in IPython - without this line, in FF,\n",
       "    // the notebook keyboard shortcuts fail.\n",
       "    IPython.keyboard_manager.enable()\n",
       "    $(fig.parent_element).html('<img src=\"' + dataURL + '\">');\n",
       "    fig.close_ws(fig, msg);\n",
       "}\n",
       "\n",
       "mpl.figure.prototype.close_ws = function(fig, msg){\n",
       "    fig.send_message('closing', msg);\n",
       "    // fig.ws.close()\n",
       "}\n",
       "\n",
       "mpl.figure.prototype.push_to_output = function(remove_interactive) {\n",
       "    // Turn the data on the canvas into data in the output cell.\n",
       "    var dataURL = this.canvas.toDataURL();\n",
       "    this.cell_info[1]['text/html'] = '<img src=\"' + dataURL + '\">';\n",
       "}\n",
       "\n",
       "mpl.figure.prototype.updated_canvas_event = function() {\n",
       "    // Tell IPython that the notebook contents must change.\n",
       "    IPython.notebook.set_dirty(true);\n",
       "    this.send_message(\"ack\", {});\n",
       "    var fig = this;\n",
       "    // Wait a second, then push the new image to the DOM so\n",
       "    // that it is saved nicely (might be nice to debounce this).\n",
       "    setTimeout(function () { fig.push_to_output() }, 1000);\n",
       "}\n",
       "\n",
       "mpl.figure.prototype._init_toolbar = function() {\n",
       "    var fig = this;\n",
       "\n",
       "    var nav_element = $('<div/>')\n",
       "    nav_element.attr('style', 'width: 100%');\n",
       "    this.root.append(nav_element);\n",
       "\n",
       "    // Define a callback function for later on.\n",
       "    function toolbar_event(event) {\n",
       "        return fig.toolbar_button_onclick(event['data']);\n",
       "    }\n",
       "    function toolbar_mouse_event(event) {\n",
       "        return fig.toolbar_button_onmouseover(event['data']);\n",
       "    }\n",
       "\n",
       "    for(var toolbar_ind in mpl.toolbar_items){\n",
       "        var name = mpl.toolbar_items[toolbar_ind][0];\n",
       "        var tooltip = mpl.toolbar_items[toolbar_ind][1];\n",
       "        var image = mpl.toolbar_items[toolbar_ind][2];\n",
       "        var method_name = mpl.toolbar_items[toolbar_ind][3];\n",
       "\n",
       "        if (!name) { continue; };\n",
       "\n",
       "        var button = $('<button class=\"btn btn-default\" href=\"#\" title=\"' + name + '\"><i class=\"fa ' + image + ' fa-lg\"></i></button>');\n",
       "        button.click(method_name, toolbar_event);\n",
       "        button.mouseover(tooltip, toolbar_mouse_event);\n",
       "        nav_element.append(button);\n",
       "    }\n",
       "\n",
       "    // Add the status bar.\n",
       "    var status_bar = $('<span class=\"mpl-message\" style=\"text-align:right; float: right;\"/>');\n",
       "    nav_element.append(status_bar);\n",
       "    this.message = status_bar[0];\n",
       "\n",
       "    // Add the close button to the window.\n",
       "    var buttongrp = $('<div class=\"btn-group inline pull-right\"></div>');\n",
       "    var button = $('<button class=\"btn btn-mini btn-primary\" href=\"#\" title=\"Stop Interaction\"><i class=\"fa fa-power-off icon-remove icon-large\"></i></button>');\n",
       "    button.click(function (evt) { fig.handle_close(fig, {}); } );\n",
       "    button.mouseover('Stop Interaction', toolbar_mouse_event);\n",
       "    buttongrp.append(button);\n",
       "    var titlebar = this.root.find($('.ui-dialog-titlebar'));\n",
       "    titlebar.prepend(buttongrp);\n",
       "}\n",
       "\n",
       "mpl.figure.prototype._root_extra_style = function(el){\n",
       "    var fig = this\n",
       "    el.on(\"remove\", function(){\n",
       "\tfig.close_ws(fig, {});\n",
       "    });\n",
       "}\n",
       "\n",
       "mpl.figure.prototype._canvas_extra_style = function(el){\n",
       "    // this is important to make the div 'focusable\n",
       "    el.attr('tabindex', 0)\n",
       "    // reach out to IPython and tell the keyboard manager to turn it's self\n",
       "    // off when our div gets focus\n",
       "\n",
       "    // location in version 3\n",
       "    if (IPython.notebook.keyboard_manager) {\n",
       "        IPython.notebook.keyboard_manager.register_events(el);\n",
       "    }\n",
       "    else {\n",
       "        // location in version 2\n",
       "        IPython.keyboard_manager.register_events(el);\n",
       "    }\n",
       "\n",
       "}\n",
       "\n",
       "mpl.figure.prototype._key_event_extra = function(event, name) {\n",
       "    var manager = IPython.notebook.keyboard_manager;\n",
       "    if (!manager)\n",
       "        manager = IPython.keyboard_manager;\n",
       "\n",
       "    // Check for shift+enter\n",
       "    if (event.shiftKey && event.which == 13) {\n",
       "        this.canvas_div.blur();\n",
       "        event.shiftKey = false;\n",
       "        // Send a \"J\" for go to next cell\n",
       "        event.which = 74;\n",
       "        event.keyCode = 74;\n",
       "        manager.command_mode();\n",
       "        manager.handle_keydown(event);\n",
       "    }\n",
       "}\n",
       "\n",
       "mpl.figure.prototype.handle_save = function(fig, msg) {\n",
       "    fig.ondownload(fig, null);\n",
       "}\n",
       "\n",
       "\n",
       "mpl.find_output_cell = function(html_output) {\n",
       "    // Return the cell and output element which can be found *uniquely* in the notebook.\n",
       "    // Note - this is a bit hacky, but it is done because the \"notebook_saving.Notebook\"\n",
       "    // IPython event is triggered only after the cells have been serialised, which for\n",
       "    // our purposes (turning an active figure into a static one), is too late.\n",
       "    var cells = IPython.notebook.get_cells();\n",
       "    var ncells = cells.length;\n",
       "    for (var i=0; i<ncells; i++) {\n",
       "        var cell = cells[i];\n",
       "        if (cell.cell_type === 'code'){\n",
       "            for (var j=0; j<cell.output_area.outputs.length; j++) {\n",
       "                var data = cell.output_area.outputs[j];\n",
       "                if (data.data) {\n",
       "                    // IPython >= 3 moved mimebundle to data attribute of output\n",
       "                    data = data.data;\n",
       "                }\n",
       "                if (data['text/html'] == html_output) {\n",
       "                    return [cell, data, j];\n",
       "                }\n",
       "            }\n",
       "        }\n",
       "    }\n",
       "}\n",
       "\n",
       "// Register the function which deals with the matplotlib target/channel.\n",
       "// The kernel may be null if the page has been refreshed.\n",
       "if (IPython.notebook.kernel != null) {\n",
       "    IPython.notebook.kernel.comm_manager.register_target('matplotlib', mpl.mpl_figure_comm);\n",
       "}\n"
      ],
      "text/plain": [
       "<IPython.core.display.Javascript object>"
      ]
     },
     "metadata": {},
     "output_type": "display_data"
    },
    {
     "data": {
      "text/html": [
       "<img src=\"data:image/png;base64,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\">"
      ],
      "text/plain": [
       "<IPython.core.display.HTML object>"
      ]
     },
     "metadata": {},
     "output_type": "display_data"
    },
    {
     "data": {
      "text/plain": [
       "(<matplotlib.image.AxesImage at 0x10ddbd350>,\n",
       " <matplotlib.colorbar.Colorbar at 0x10de53490>)"
      ]
     },
     "execution_count": 14,
     "metadata": {},
     "output_type": "execute_result"
    }
   ],
   "source": [
    "# you can visualize this matrix\n",
    "prody.showHeatmap(dist)"
   ]
  },
  {
   "cell_type": "markdown",
   "metadata": {},
   "source": [
    "Let's start looking at how this molecule might behave. To do that we are going to use the ANM fucntionality (anisotropic normal modes). Based on the geometry of the molecule they give an approximation to how the individual atoms in the molecule might move."
   ]
  },
  {
   "cell_type": "code",
   "execution_count": 15,
   "metadata": {
    "collapsed": true
   },
   "outputs": [],
   "source": [
    "# First create an ANM object with a name.\n",
    "anm = prody.ANM('CarbonDioxide')"
   ]
  },
  {
   "cell_type": "code",
   "execution_count": 16,
   "metadata": {
    "collapsed": false
   },
   "outputs": [
    {
     "name": "stderr",
     "output_type": "stream",
     "text": [
      "@> Hessian was built in 0.00s.\n"
     ]
    }
   ],
   "source": [
    "# Use the molecules'coordinates to construct a Hessian, which dictates how the atoms \n",
    "# will move\n",
    "anm.buildHessian(pdb)"
   ]
  },
  {
   "cell_type": "code",
   "execution_count": 17,
   "metadata": {
    "collapsed": false
   },
   "outputs": [
    {
     "name": "stderr",
     "output_type": "stream",
     "text": [
      "@> WARNING More than 6 zero eigenvalues are calculated.\n",
      "@> 2 modes were calculated in 0.01s.\n"
     ]
    }
   ],
   "source": [
    "# Once you have that you calculate the directions in which each atom moves\n",
    "anm.calcModes()"
   ]
  },
  {
   "cell_type": "code",
   "execution_count": 18,
   "metadata": {
    "collapsed": false
   },
   "outputs": [
    {
     "data": {
      "text/plain": [
       "'CO2.nmd'"
      ]
     },
     "execution_count": 18,
     "metadata": {},
     "output_type": "execute_result"
    }
   ],
   "source": [
    "# Those directions can be saved into a format that VMD can read\n",
    "prody.writeNMD('CO2.nmd',anm[:2],pdb)"
   ]
  },
  {
   "cell_type": "markdown",
   "metadata": {},
   "source": [
    "You can now go ahead and load this file into VMD. To do so:\n",
    "Go to Extensions-->Analysis-->Normal Mode Wizard\n",
    "This will create a small menu, from which you will choose to \"Load NMD file\" and proceed to load the file name CO2.nmd.\n",
    "\n",
    "You will instally see some arrows appearing on the screen on top of your atoms and a new menu. The arrows indicate directions of motion. The default setup is for large molecules such as proteins, so let's modify this a bit. In the menu, set the RMSD to 0.1. Now it's easier to see what's going on: the two oxygens move in one direction and the carbon in opposite direction. \n",
    "\n",
    "Let's animate this. In the menu, go down to where it says Actions. First line saying mode represents the arrows. Hit on the hide button. You are going to hit \"Make\" in the next row \"animation\". You just need to do one extra thing: go to the \"Graphical Representations\" menu, and choose Drawing Method: \"CPK\".\n",
    "\n",
    "Can you do the same for the second mode? What does it look like?"
   ]
  },
  {
   "cell_type": "code",
   "execution_count": 19,
   "metadata": {
    "collapsed": false
   },
   "outputs": [
    {
     "data": {
      "text/plain": [
       "array([[ 2.,  0.,  0., -1., -0., -0., -1.,  0.,  0.],\n",
       "       [ 0.,  0.,  0., -0., -0., -0.,  0., -0., -0.],\n",
       "       [ 0.,  0.,  0., -0., -0., -0.,  0., -0., -0.],\n",
       "       [-1., -0., -0.,  2.,  0.,  0., -1.,  0.,  0.],\n",
       "       [-0., -0., -0.,  0.,  0.,  0.,  0., -0., -0.],\n",
       "       [-0., -0., -0.,  0.,  0.,  0.,  0., -0., -0.],\n",
       "       [-1.,  0.,  0., -1.,  0.,  0.,  2.,  0.,  0.],\n",
       "       [ 0., -0., -0.,  0., -0., -0.,  0.,  0.,  0.],\n",
       "       [ 0., -0., -0.,  0., -0., -0.,  0.,  0.,  0.]])"
      ]
     },
     "execution_count": 19,
     "metadata": {},
     "output_type": "execute_result"
    }
   ],
   "source": [
    "# Of course, with the anm method you can get a bunch of properties as well, \n",
    "# feel free to explore\n",
    "anm.getHessian()"
   ]
  },
  {
   "cell_type": "code",
   "execution_count": 20,
   "metadata": {
    "collapsed": false
   },
   "outputs": [
    {
     "data": {
      "text/plain": [
       "0.66666666666666663"
      ]
     },
     "execution_count": 20,
     "metadata": {},
     "output_type": "execute_result"
    }
   ],
   "source": [
    "prody.calcCollectivity(anm[0])"
   ]
  },
  {
   "cell_type": "code",
   "execution_count": 21,
   "metadata": {
    "collapsed": false
   },
   "outputs": [
    {
     "data": {
      "text/plain": [
       "0.79370052598410001"
      ]
     },
     "execution_count": 21,
     "metadata": {},
     "output_type": "execute_result"
    }
   ],
   "source": [
    "prody.calcCollectivity(anm[1])"
   ]
  },
  {
   "cell_type": "markdown",
   "metadata": {
    "collapsed": true
   },
   "source": [
    "# Water"
   ]
  },
  {
   "cell_type": "markdown",
   "metadata": {},
   "source": [
    "Let's look at another important molecule: water. You will follow the same steps as before to find out what are the most likely direction of deformation. Take a look at the first three directions, what do they look like?\n",
    "Use wat.pdb"
   ]
  },
  {
   "cell_type": "markdown",
   "metadata": {},
   "source": [
    "# Cyclohexane"
   ]
  },
  {
   "cell_type": "markdown",
   "metadata": {},
   "source": [
    "A little more complex. Can you identify movements that will create the boat or chair conformations? Start off from the cyclohexane.pdb. Are all the neighboring carbons equidistant? "
   ]
  },
  {
   "cell_type": "markdown",
   "metadata": {},
   "source": [
    "# Fullerene"
   ]
  },
  {
   "cell_type": "markdown",
   "metadata": {},
   "source": [
    "Here is the molecule that's got all the buzz in nanomaterials. It is made of 60 Carbons, and it looks like a soccer ball. How does it deform? Start from fullerene.pdb"
   ]
  }
 ],
 "metadata": {
  "kernelspec": {
   "display_name": "Python 2",
   "language": "python",
   "name": "python2"
  },
  "language_info": {
   "codemirror_mode": {
    "name": "ipython",
    "version": 2
   },
   "file_extension": ".py",
   "mimetype": "text/x-python",
   "name": "python",
   "nbconvert_exporter": "python",
   "pygments_lexer": "ipython2",
   "version": "2.7.11"
  }
 },
 "nbformat": 4,
 "nbformat_minor": 0
}
