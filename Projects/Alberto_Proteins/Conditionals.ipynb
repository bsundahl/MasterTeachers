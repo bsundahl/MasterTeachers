{
 "cells": [
  {
   "cell_type": "markdown",
   "metadata": {},
   "source": [
    "# Conditionals"
   ]
  },
  {
   "cell_type": "markdown",
   "metadata": {},
   "source": [
    "## If Statements"
   ]
  },
  {
   "cell_type": "markdown",
   "metadata": {},
   "source": [
    "Up until now, we've directly told what the computer to do, and it executes those commands every time. What if we only want the computer to run code *some* of the time? This is where conditionals come in.\n",
    "\n",
    "Let's start by defining a variable a."
   ]
  },
  {
   "cell_type": "code",
   "execution_count": 2,
   "metadata": {
    "collapsed": false
   },
   "outputs": [
    {
     "name": "stdout",
     "output_type": "stream",
     "text": [
      "1\n"
     ]
    }
   ],
   "source": [
    "a=1\n",
    "print a"
   ]
  },
  {
   "cell_type": "markdown",
   "metadata": {},
   "source": [
    "Now that that cell is executed, let's look at the following piece of trivial code:"
   ]
  },
  {
   "cell_type": "code",
   "execution_count": 3,
   "metadata": {
    "collapsed": false
   },
   "outputs": [
    {
     "name": "stdout",
     "output_type": "stream",
     "text": [
      "2\n"
     ]
    }
   ],
   "source": [
    "if a < 5 :\n",
    "    a = a + 1\n",
    "    print a"
   ]
  },
  {
   "cell_type": "markdown",
   "metadata": {},
   "source": [
    "The first time you run the above code, you should see the number 2 printed. This code does pretty much what you would expected. First, the computer checks to see if a is less than 5. If it is, then it adds 1 to a, then stores the result in a. Next, it prints a. Since a was 1, it met the condition, so the computer added 1 to a and printed it. a is now 2. If you select the cell above and hit shift enter, it will run again. What do you think will happen? Try it out!"
   ]
  },
  {
   "cell_type": "markdown",
   "metadata": {},
   "source": [
    "Let's look more closely at that last piece of code. The if statement looks for a boolean. If that boolean is True, then the indented code below will be executed. If that boolean is False, then the indented code will be skipped. In our code, we used a < 5. Luckily, this evaluates to a boolean! Since that boolean is True, the next two lines are run. If you experiment by continuing to execute the cell, eventually a will equal 5, and executing the cell will effectively do nothing. This is because a < 5 now evaluates to False."
   ]
  },
  {
   "cell_type": "markdown",
   "metadata": {},
   "source": [
    "With this knowledge, we can see why stuff like this works:"
   ]
  },
  {
   "cell_type": "code",
   "execution_count": 5,
   "metadata": {
    "collapsed": false
   },
   "outputs": [
    {
     "name": "stdout",
     "output_type": "stream",
     "text": [
      "6\n"
     ]
    }
   ],
   "source": [
    "if True :\n",
    "    a = a*3\n",
    "    print a"
   ]
  },
  {
   "cell_type": "markdown",
   "metadata": {},
   "source": [
    "Since the if statement expects a boolean, we could just put a boolean in there! Of course, this particular example is the same as not using an if statement at all, because this code will always run! So while you'll never see this actually used, it does demonstrate what is going on behind the scenes and some similar tricks with different keywords might be useful later."
   ]
  },
  {
   "cell_type": "markdown",
   "metadata": {},
   "source": [
    "## The Else and Elif Keywords"
   ]
  },
  {
   "cell_type": "markdown",
   "metadata": {},
   "source": [
    "If you want the computer to execute a different piece of code should the if condition fail, you use an else statement. Here's an example:"
   ]
  },
  {
   "cell_type": "code",
   "execution_count": 15,
   "metadata": {
    "collapsed": false
   },
   "outputs": [
    {
     "name": "stdout",
     "output_type": "stream",
     "text": [
      "1\n"
     ]
    }
   ],
   "source": [
    "if a < 5:\n",
    "    a = a + 1\n",
    "    print a\n",
    "else:\n",
    "    a = a - 4\n",
    "    print a"
   ]
  },
  {
   "cell_type": "markdown",
   "metadata": {},
   "source": [
    "The else statement is partnered with the preceding if statement. In the case that the if statement fails to execute, the else statement will be executed instead. Note that else statements are optional, but can be very useful."
   ]
  },
  {
   "cell_type": "markdown",
   "metadata": {},
   "source": [
    "What if we have a long list of conditions? We can use the elif statement, which is short for \"else if\""
   ]
  },
  {
   "cell_type": "code",
   "execution_count": 24,
   "metadata": {
    "collapsed": false
   },
   "outputs": [
    {
     "name": "stdout",
     "output_type": "stream",
     "text": [
      "2\n"
     ]
    }
   ],
   "source": [
    "if a < 5:\n",
    "    a = a + 1\n",
    "    print a\n",
    "elif a < 10:\n",
    "    a = a + 2\n",
    "    print a\n",
    "else:\n",
    "    a = a - 10\n",
    "    print a"
   ]
  },
  {
   "cell_type": "markdown",
   "metadata": {},
   "source": [
    "Play with the above cell and think about how the computer goes about printing the appropriate result."
   ]
  },
  {
   "cell_type": "code",
   "execution_count": null,
   "metadata": {
    "collapsed": true
   },
   "outputs": [],
   "source": []
  }
 ],
 "metadata": {
  "kernelspec": {
   "display_name": "Python 2",
   "language": "python",
   "name": "python2"
  },
  "language_info": {
   "codemirror_mode": {
    "name": "ipython",
    "version": 2
   },
   "file_extension": ".py",
   "mimetype": "text/x-python",
   "name": "python",
   "nbconvert_exporter": "python",
   "pygments_lexer": "ipython2",
   "version": "2.7.9"
  }
 },
 "nbformat": 4,
 "nbformat_minor": 0
}
