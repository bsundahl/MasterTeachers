{
 "cells": [
  {
   "cell_type": "code",
   "execution_count": 20,
   "metadata": {
    "collapsed": true
   },
   "outputs": [],
   "source": [
    "%matplotlib notebook\n",
    "import prody"
   ]
  },
  {
   "cell_type": "code",
   "execution_count": 21,
   "metadata": {
    "collapsed": false
   },
   "outputs": [],
   "source": [
    "pdb = prody.parsePDB('wat.pdb')"
   ]
  },
  {
   "cell_type": "code",
   "execution_count": 22,
   "metadata": {
    "collapsed": false
   },
   "outputs": [
    {
     "data": {
      "text/plain": [
       "<AtomGroup: wat (3 atoms)>"
      ]
     },
     "execution_count": 22,
     "metadata": {},
     "output_type": "execute_result"
    }
   ],
   "source": [
    "pdb"
   ]
  },
  {
   "cell_type": "code",
   "execution_count": 23,
   "metadata": {
    "collapsed": true
   },
   "outputs": [],
   "source": [
    "pdb.getMasses()"
   ]
  },
  {
   "cell_type": "code",
   "execution_count": 24,
   "metadata": {
    "collapsed": false
   },
   "outputs": [
    {
     "data": {
      "text/plain": [
       "array(['O', 'H1', 'H2'], \n",
       "      dtype='|S6')"
      ]
     },
     "execution_count": 24,
     "metadata": {},
     "output_type": "execute_result"
    }
   ],
   "source": [
    "pdb.getNames()"
   ]
  },
  {
   "cell_type": "code",
   "execution_count": 9,
   "metadata": {
    "collapsed": true
   },
   "outputs": [],
   "source": [
    "pdb.setMasses([16,1,1])"
   ]
  },
  {
   "cell_type": "code",
   "execution_count": 10,
   "metadata": {
    "collapsed": false
   },
   "outputs": [
    {
     "data": {
      "text/plain": [
       "array([ 16.,   1.,   1.])"
      ]
     },
     "execution_count": 10,
     "metadata": {},
     "output_type": "execute_result"
    }
   ],
   "source": [
    "pdb.getMasses()"
   ]
  },
  {
   "cell_type": "code",
   "execution_count": 25,
   "metadata": {
    "collapsed": false
   },
   "outputs": [
    {
     "data": {
      "text/plain": [
       "array([4, 4, 4])"
      ]
     },
     "execution_count": 25,
     "metadata": {},
     "output_type": "execute_result"
    }
   ],
   "source": [
    "pdb.getResnums()"
   ]
  },
  {
   "cell_type": "code",
   "execution_count": 26,
   "metadata": {
    "collapsed": true
   },
   "outputs": [],
   "source": [
    "anm = prody.ANM('Water')"
   ]
  },
  {
   "cell_type": "code",
   "execution_count": 27,
   "metadata": {
    "collapsed": true
   },
   "outputs": [],
   "source": [
    "anm.buildHessian(pdb)"
   ]
  },
  {
   "cell_type": "code",
   "execution_count": 28,
   "metadata": {
    "collapsed": false
   },
   "outputs": [],
   "source": [
    "anm.calcModes()"
   ]
  },
  {
   "cell_type": "code",
   "execution_count": 29,
   "metadata": {
    "collapsed": false
   },
   "outputs": [
    {
     "data": {
      "text/plain": [
       "'Water.nmd'"
      ]
     },
     "execution_count": 29,
     "metadata": {},
     "output_type": "execute_result"
    }
   ],
   "source": [
    "prody.writeNMD('Water.nmd',anm[:3],pdb)"
   ]
  },
  {
   "cell_type": "code",
   "execution_count": 30,
   "metadata": {
    "collapsed": false
   },
   "outputs": [
    {
     "data": {
      "text/plain": [
       "array([[  2.53650676e-01,  -1.87545739e-01,   1.97406257e-01,\n",
       "         -9.25652886e-02,   6.45717890e-02,  -2.01580606e-01,\n",
       "         -1.61085388e-01,   1.22973950e-01,   4.17434808e-03],\n",
       "       [ -1.87545739e-01,   1.39095764e-01,  -1.31662381e-01,\n",
       "          7.19527399e-02,  -5.06111393e-02,   1.42690364e-01,\n",
       "          1.15592999e-01,  -8.84846251e-02,  -1.10279829e-02],\n",
       "       [  1.97406257e-01,  -1.31662381e-01,   6.32237884e-01,\n",
       "          4.55026422e-02,  -4.57438121e-02,  -3.69637574e-01,\n",
       "         -2.42908900e-01,   1.77406193e-01,  -2.62600310e-01],\n",
       "       [ -9.25652886e-02,   7.19527399e-02,   4.55026422e-02,\n",
       "          1.48082283e-01,  -1.14291900e-01,  -4.55023947e-02,\n",
       "         -5.55169944e-02,   4.23391604e-02,  -2.47525361e-07],\n",
       "       [  6.45717890e-02,  -5.06111393e-02,  -4.57438121e-02,\n",
       "         -1.14291900e-01,   8.84735296e-02,   4.38733430e-02,\n",
       "          4.97201113e-02,  -3.78623903e-02,   1.87046905e-03],\n",
       "       [ -2.01580606e-01,   1.42690364e-01,  -3.69637574e-01,\n",
       "         -4.55023947e-02,   4.38733430e-02,   3.07028442e-01,\n",
       "          2.47083000e-01,  -1.86563707e-01,   6.26091319e-02],\n",
       "       [ -1.61085388e-01,   1.15592999e-01,  -2.42908900e-01,\n",
       "         -5.55169944e-02,   4.97201113e-02,   2.47083000e-01,\n",
       "          2.16602382e-01,  -1.65313110e-01,  -4.17410056e-03],\n",
       "       [  1.22973950e-01,  -8.84846251e-02,   1.77406193e-01,\n",
       "          4.23391604e-02,  -3.78623903e-02,  -1.86563707e-01,\n",
       "         -1.65313110e-01,   1.26347015e-01,   9.15751381e-03],\n",
       "       [  4.17434808e-03,  -1.10279829e-02,  -2.62600310e-01,\n",
       "         -2.47525361e-07,   1.87046905e-03,   6.26091319e-02,\n",
       "         -4.17410056e-03,   9.15751381e-03,   1.99991178e-01]])"
      ]
     },
     "execution_count": 30,
     "metadata": {},
     "output_type": "execute_result"
    }
   ],
   "source": [
    "anm.getCovariance()"
   ]
  },
  {
   "cell_type": "code",
   "execution_count": 31,
   "metadata": {
    "collapsed": false
   },
   "outputs": [
    {
     "data": {
      "text/plain": [
       "0.90155783811376988"
      ]
     },
     "execution_count": 31,
     "metadata": {},
     "output_type": "execute_result"
    }
   ],
   "source": [
    "prody.calcCollectivity(anm[0])"
   ]
  },
  {
   "cell_type": "code",
   "execution_count": 32,
   "metadata": {
    "collapsed": false
   },
   "outputs": [
    {
     "data": {
      "text/plain": [
       "0.90155783811376999"
      ]
     },
     "execution_count": 32,
     "metadata": {},
     "output_type": "execute_result"
    }
   ],
   "source": [
    "prody.calcCollectivity(anm[1])"
   ]
  },
  {
   "cell_type": "code",
   "execution_count": 33,
   "metadata": {
    "collapsed": false
   },
   "outputs": [
    {
     "data": {
      "text/plain": [
       "0.87483637484880683"
      ]
     },
     "execution_count": 33,
     "metadata": {},
     "output_type": "execute_result"
    }
   ],
   "source": [
    "prody.calcCollectivity(anm[2])"
   ]
  },
  {
   "cell_type": "code",
   "execution_count": 34,
   "metadata": {
    "collapsed": false
   },
   "outputs": [
    {
     "data": {
      "text/plain": [
       "array([[ 0.        ,  0.95697335,  0.95793319],\n",
       "       [ 0.95697335,  0.        ,  1.51401915],\n",
       "       [ 0.95793319,  1.51401915,  0.        ]])"
      ]
     },
     "execution_count": 34,
     "metadata": {},
     "output_type": "execute_result"
    }
   ],
   "source": [
    "prody.buildDistMatrix(pdb)"
   ]
  },
  {
   "cell_type": "code",
   "execution_count": null,
   "metadata": {
    "collapsed": true
   },
   "outputs": [],
   "source": []
  }
 ],
 "metadata": {
  "kernelspec": {
   "display_name": "Python 2",
   "language": "python",
   "name": "python2"
  },
  "language_info": {
   "codemirror_mode": {
    "name": "ipython",
    "version": 2
   },
   "file_extension": ".py",
   "mimetype": "text/x-python",
   "name": "python",
   "nbconvert_exporter": "python",
   "pygments_lexer": "ipython2",
   "version": "2.7.11"
  }
 },
 "nbformat": 4,
 "nbformat_minor": 0
}
