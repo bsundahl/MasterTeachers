{
 "cells": [
  {
   "cell_type": "code",
   "execution_count": 9,
   "metadata": {
    "collapsed": true
   },
   "outputs": [],
   "source": [
    "%matplotlib notebook\n",
    "import prody"
   ]
  },
  {
   "cell_type": "code",
   "execution_count": 10,
   "metadata": {
    "collapsed": true
   },
   "outputs": [],
   "source": [
    "pdb = prody.parsePDB('4rvx')"
   ]
  },
  {
   "cell_type": "code",
   "execution_count": 11,
   "metadata": {
    "collapsed": true
   },
   "outputs": [],
   "source": [
    "chain_B = pdb.select('chain B and protein')"
   ]
  },
  {
   "cell_type": "code",
   "execution_count": 12,
   "metadata": {
    "collapsed": false
   },
   "outputs": [
    {
     "data": {
      "text/plain": [
       "<Selection: 'chain B and protein' from 4rvx (761 atoms)>"
      ]
     },
     "execution_count": 12,
     "metadata": {},
     "output_type": "execute_result"
    }
   ],
   "source": [
    "chain_B"
   ]
  },
  {
   "cell_type": "code",
   "execution_count": 13,
   "metadata": {
    "collapsed": true
   },
   "outputs": [],
   "source": [
    "chain_A = pdb.select('chain A and protein')"
   ]
  },
  {
   "cell_type": "code",
   "execution_count": 28,
   "metadata": {
    "collapsed": true
   },
   "outputs": [],
   "source": [
    "ligand = pdb.select('chain A and not protein and not water')"
   ]
  },
  {
   "cell_type": "code",
   "execution_count": 15,
   "metadata": {
    "collapsed": false
   },
   "outputs": [
    {
     "data": {
      "text/plain": [
       "<Selection: 'chain A and not protein' from 4rvx (89 atoms)>"
      ]
     },
     "execution_count": 15,
     "metadata": {},
     "output_type": "execute_result"
    }
   ],
   "source": [
    "ligand"
   ]
  },
  {
   "cell_type": "raw",
   "metadata": {},
   "source": []
  },
  {
   "cell_type": "code",
   "execution_count": 17,
   "metadata": {
    "collapsed": false
   },
   "outputs": [
    {
     "data": {
      "application/javascript": [
       "/* Put everything inside the global mpl namespace */\n",
       "window.mpl = {};\n",
       "\n",
       "mpl.get_websocket_type = function() {\n",
       "    if (typeof(WebSocket) !== 'undefined') {\n",
       "        return WebSocket;\n",
       "    } else if (typeof(MozWebSocket) !== 'undefined') {\n",
       "        return MozWebSocket;\n",
       "    } else {\n",
       "        alert('Your browser does not have WebSocket support.' +\n",
       "              'Please try Chrome, Safari or Firefox ≥ 6. ' +\n",
       "              'Firefox 4 and 5 are also supported but you ' +\n",
       "              'have to enable WebSockets in about:config.');\n",
       "    };\n",
       "}\n",
       "\n",
       "mpl.figure = function(figure_id, websocket, ondownload, parent_element) {\n",
       "    this.id = figure_id;\n",
       "\n",
       "    this.ws = websocket;\n",
       "\n",
       "    this.supports_binary = (this.ws.binaryType != undefined);\n",
       "\n",
       "    if (!this.supports_binary) {\n",
       "        var warnings = document.getElementById(\"mpl-warnings\");\n",
       "        if (warnings) {\n",
       "            warnings.style.display = 'block';\n",
       "            warnings.textContent = (\n",
       "                \"This browser does not support binary websocket messages. \" +\n",
       "                    \"Performance may be slow.\");\n",
       "        }\n",
       "    }\n",
       "\n",
       "    this.imageObj = new Image();\n",
       "\n",
       "    this.context = undefined;\n",
       "    this.message = undefined;\n",
       "    this.canvas = undefined;\n",
       "    this.rubberband_canvas = undefined;\n",
       "    this.rubberband_context = undefined;\n",
       "    this.format_dropdown = undefined;\n",
       "\n",
       "    this.image_mode = 'full';\n",
       "\n",
       "    this.root = $('<div/>');\n",
       "    this._root_extra_style(this.root)\n",
       "    this.root.attr('style', 'display: inline-block');\n",
       "\n",
       "    $(parent_element).append(this.root);\n",
       "\n",
       "    this._init_header(this);\n",
       "    this._init_canvas(this);\n",
       "    this._init_toolbar(this);\n",
       "\n",
       "    var fig = this;\n",
       "\n",
       "    this.waiting = false;\n",
       "\n",
       "    this.ws.onopen =  function () {\n",
       "            fig.send_message(\"supports_binary\", {value: fig.supports_binary});\n",
       "            fig.send_message(\"send_image_mode\", {});\n",
       "            fig.send_message(\"refresh\", {});\n",
       "        }\n",
       "\n",
       "    this.imageObj.onload = function() {\n",
       "            if (fig.image_mode == 'full') {\n",
       "                // Full images could contain transparency (where diff images\n",
       "                // almost always do), so we need to clear the canvas so that\n",
       "                // there is no ghosting.\n",
       "                fig.context.clearRect(0, 0, fig.canvas.width, fig.canvas.height);\n",
       "            }\n",
       "            fig.context.drawImage(fig.imageObj, 0, 0);\n",
       "        };\n",
       "\n",
       "    this.imageObj.onunload = function() {\n",
       "        this.ws.close();\n",
       "    }\n",
       "\n",
       "    this.ws.onmessage = this._make_on_message_function(this);\n",
       "\n",
       "    this.ondownload = ondownload;\n",
       "}\n",
       "\n",
       "mpl.figure.prototype._init_header = function() {\n",
       "    var titlebar = $(\n",
       "        '<div class=\"ui-dialog-titlebar ui-widget-header ui-corner-all ' +\n",
       "        'ui-helper-clearfix\"/>');\n",
       "    var titletext = $(\n",
       "        '<div class=\"ui-dialog-title\" style=\"width: 100%; ' +\n",
       "        'text-align: center; padding: 3px;\"/>');\n",
       "    titlebar.append(titletext)\n",
       "    this.root.append(titlebar);\n",
       "    this.header = titletext[0];\n",
       "}\n",
       "\n",
       "\n",
       "\n",
       "mpl.figure.prototype._canvas_extra_style = function(canvas_div) {\n",
       "\n",
       "}\n",
       "\n",
       "\n",
       "mpl.figure.prototype._root_extra_style = function(canvas_div) {\n",
       "\n",
       "}\n",
       "\n",
       "mpl.figure.prototype._init_canvas = function() {\n",
       "    var fig = this;\n",
       "\n",
       "    var canvas_div = $('<div/>');\n",
       "\n",
       "    canvas_div.attr('style', 'position: relative; clear: both; outline: 0');\n",
       "\n",
       "    function canvas_keyboard_event(event) {\n",
       "        return fig.key_event(event, event['data']);\n",
       "    }\n",
       "\n",
       "    canvas_div.keydown('key_press', canvas_keyboard_event);\n",
       "    canvas_div.keyup('key_release', canvas_keyboard_event);\n",
       "    this.canvas_div = canvas_div\n",
       "    this._canvas_extra_style(canvas_div)\n",
       "    this.root.append(canvas_div);\n",
       "\n",
       "    var canvas = $('<canvas/>');\n",
       "    canvas.addClass('mpl-canvas');\n",
       "    canvas.attr('style', \"left: 0; top: 0; z-index: 0; outline: 0\")\n",
       "\n",
       "    this.canvas = canvas[0];\n",
       "    this.context = canvas[0].getContext(\"2d\");\n",
       "\n",
       "    var rubberband = $('<canvas/>');\n",
       "    rubberband.attr('style', \"position: absolute; left: 0; top: 0; z-index: 1;\")\n",
       "\n",
       "    var pass_mouse_events = true;\n",
       "\n",
       "    canvas_div.resizable({\n",
       "        start: function(event, ui) {\n",
       "            pass_mouse_events = false;\n",
       "        },\n",
       "        resize: function(event, ui) {\n",
       "            fig.request_resize(ui.size.width, ui.size.height);\n",
       "        },\n",
       "        stop: function(event, ui) {\n",
       "            pass_mouse_events = true;\n",
       "            fig.request_resize(ui.size.width, ui.size.height);\n",
       "        },\n",
       "    });\n",
       "\n",
       "    function mouse_event_fn(event) {\n",
       "        if (pass_mouse_events)\n",
       "            return fig.mouse_event(event, event['data']);\n",
       "    }\n",
       "\n",
       "    rubberband.mousedown('button_press', mouse_event_fn);\n",
       "    rubberband.mouseup('button_release', mouse_event_fn);\n",
       "    // Throttle sequential mouse events to 1 every 20ms.\n",
       "    rubberband.mousemove('motion_notify', mouse_event_fn);\n",
       "\n",
       "    rubberband.mouseenter('figure_enter', mouse_event_fn);\n",
       "    rubberband.mouseleave('figure_leave', mouse_event_fn);\n",
       "\n",
       "    canvas_div.on(\"wheel\", function (event) {\n",
       "        event = event.originalEvent;\n",
       "        event['data'] = 'scroll'\n",
       "        if (event.deltaY < 0) {\n",
       "            event.step = 1;\n",
       "        } else {\n",
       "            event.step = -1;\n",
       "        }\n",
       "        mouse_event_fn(event);\n",
       "    });\n",
       "\n",
       "    canvas_div.append(canvas);\n",
       "    canvas_div.append(rubberband);\n",
       "\n",
       "    this.rubberband = rubberband;\n",
       "    this.rubberband_canvas = rubberband[0];\n",
       "    this.rubberband_context = rubberband[0].getContext(\"2d\");\n",
       "    this.rubberband_context.strokeStyle = \"#000000\";\n",
       "\n",
       "    this._resize_canvas = function(width, height) {\n",
       "        // Keep the size of the canvas, canvas container, and rubber band\n",
       "        // canvas in synch.\n",
       "        canvas_div.css('width', width)\n",
       "        canvas_div.css('height', height)\n",
       "\n",
       "        canvas.attr('width', width);\n",
       "        canvas.attr('height', height);\n",
       "\n",
       "        rubberband.attr('width', width);\n",
       "        rubberband.attr('height', height);\n",
       "    }\n",
       "\n",
       "    // Set the figure to an initial 600x600px, this will subsequently be updated\n",
       "    // upon first draw.\n",
       "    this._resize_canvas(600, 600);\n",
       "\n",
       "    // Disable right mouse context menu.\n",
       "    $(this.rubberband_canvas).bind(\"contextmenu\",function(e){\n",
       "        return false;\n",
       "    });\n",
       "\n",
       "    function set_focus () {\n",
       "        canvas.focus();\n",
       "        canvas_div.focus();\n",
       "    }\n",
       "\n",
       "    window.setTimeout(set_focus, 100);\n",
       "}\n",
       "\n",
       "mpl.figure.prototype._init_toolbar = function() {\n",
       "    var fig = this;\n",
       "\n",
       "    var nav_element = $('<div/>')\n",
       "    nav_element.attr('style', 'width: 100%');\n",
       "    this.root.append(nav_element);\n",
       "\n",
       "    // Define a callback function for later on.\n",
       "    function toolbar_event(event) {\n",
       "        return fig.toolbar_button_onclick(event['data']);\n",
       "    }\n",
       "    function toolbar_mouse_event(event) {\n",
       "        return fig.toolbar_button_onmouseover(event['data']);\n",
       "    }\n",
       "\n",
       "    for(var toolbar_ind in mpl.toolbar_items) {\n",
       "        var name = mpl.toolbar_items[toolbar_ind][0];\n",
       "        var tooltip = mpl.toolbar_items[toolbar_ind][1];\n",
       "        var image = mpl.toolbar_items[toolbar_ind][2];\n",
       "        var method_name = mpl.toolbar_items[toolbar_ind][3];\n",
       "\n",
       "        if (!name) {\n",
       "            // put a spacer in here.\n",
       "            continue;\n",
       "        }\n",
       "        var button = $('<button/>');\n",
       "        button.addClass('ui-button ui-widget ui-state-default ui-corner-all ' +\n",
       "                        'ui-button-icon-only');\n",
       "        button.attr('role', 'button');\n",
       "        button.attr('aria-disabled', 'false');\n",
       "        button.click(method_name, toolbar_event);\n",
       "        button.mouseover(tooltip, toolbar_mouse_event);\n",
       "\n",
       "        var icon_img = $('<span/>');\n",
       "        icon_img.addClass('ui-button-icon-primary ui-icon');\n",
       "        icon_img.addClass(image);\n",
       "        icon_img.addClass('ui-corner-all');\n",
       "\n",
       "        var tooltip_span = $('<span/>');\n",
       "        tooltip_span.addClass('ui-button-text');\n",
       "        tooltip_span.html(tooltip);\n",
       "\n",
       "        button.append(icon_img);\n",
       "        button.append(tooltip_span);\n",
       "\n",
       "        nav_element.append(button);\n",
       "    }\n",
       "\n",
       "    var fmt_picker_span = $('<span/>');\n",
       "\n",
       "    var fmt_picker = $('<select/>');\n",
       "    fmt_picker.addClass('mpl-toolbar-option ui-widget ui-widget-content');\n",
       "    fmt_picker_span.append(fmt_picker);\n",
       "    nav_element.append(fmt_picker_span);\n",
       "    this.format_dropdown = fmt_picker[0];\n",
       "\n",
       "    for (var ind in mpl.extensions) {\n",
       "        var fmt = mpl.extensions[ind];\n",
       "        var option = $(\n",
       "            '<option/>', {selected: fmt === mpl.default_extension}).html(fmt);\n",
       "        fmt_picker.append(option)\n",
       "    }\n",
       "\n",
       "    // Add hover states to the ui-buttons\n",
       "    $( \".ui-button\" ).hover(\n",
       "        function() { $(this).addClass(\"ui-state-hover\");},\n",
       "        function() { $(this).removeClass(\"ui-state-hover\");}\n",
       "    );\n",
       "\n",
       "    var status_bar = $('<span class=\"mpl-message\"/>');\n",
       "    nav_element.append(status_bar);\n",
       "    this.message = status_bar[0];\n",
       "}\n",
       "\n",
       "mpl.figure.prototype.request_resize = function(x_pixels, y_pixels) {\n",
       "    // Request matplotlib to resize the figure. Matplotlib will then trigger a resize in the client,\n",
       "    // which will in turn request a refresh of the image.\n",
       "    this.send_message('resize', {'width': x_pixels, 'height': y_pixels});\n",
       "}\n",
       "\n",
       "mpl.figure.prototype.send_message = function(type, properties) {\n",
       "    properties['type'] = type;\n",
       "    properties['figure_id'] = this.id;\n",
       "    this.ws.send(JSON.stringify(properties));\n",
       "}\n",
       "\n",
       "mpl.figure.prototype.send_draw_message = function() {\n",
       "    if (!this.waiting) {\n",
       "        this.waiting = true;\n",
       "        this.ws.send(JSON.stringify({type: \"draw\", figure_id: this.id}));\n",
       "    }\n",
       "}\n",
       "\n",
       "\n",
       "mpl.figure.prototype.handle_save = function(fig, msg) {\n",
       "    var format_dropdown = fig.format_dropdown;\n",
       "    var format = format_dropdown.options[format_dropdown.selectedIndex].value;\n",
       "    fig.ondownload(fig, format);\n",
       "}\n",
       "\n",
       "\n",
       "mpl.figure.prototype.handle_resize = function(fig, msg) {\n",
       "    var size = msg['size'];\n",
       "    if (size[0] != fig.canvas.width || size[1] != fig.canvas.height) {\n",
       "        fig._resize_canvas(size[0], size[1]);\n",
       "        fig.send_message(\"refresh\", {});\n",
       "    };\n",
       "}\n",
       "\n",
       "mpl.figure.prototype.handle_rubberband = function(fig, msg) {\n",
       "    var x0 = msg['x0'];\n",
       "    var y0 = fig.canvas.height - msg['y0'];\n",
       "    var x1 = msg['x1'];\n",
       "    var y1 = fig.canvas.height - msg['y1'];\n",
       "    x0 = Math.floor(x0) + 0.5;\n",
       "    y0 = Math.floor(y0) + 0.5;\n",
       "    x1 = Math.floor(x1) + 0.5;\n",
       "    y1 = Math.floor(y1) + 0.5;\n",
       "    var min_x = Math.min(x0, x1);\n",
       "    var min_y = Math.min(y0, y1);\n",
       "    var width = Math.abs(x1 - x0);\n",
       "    var height = Math.abs(y1 - y0);\n",
       "\n",
       "    fig.rubberband_context.clearRect(\n",
       "        0, 0, fig.canvas.width, fig.canvas.height);\n",
       "\n",
       "    fig.rubberband_context.strokeRect(min_x, min_y, width, height);\n",
       "}\n",
       "\n",
       "mpl.figure.prototype.handle_figure_label = function(fig, msg) {\n",
       "    // Updates the figure title.\n",
       "    fig.header.textContent = msg['label'];\n",
       "}\n",
       "\n",
       "mpl.figure.prototype.handle_cursor = function(fig, msg) {\n",
       "    var cursor = msg['cursor'];\n",
       "    switch(cursor)\n",
       "    {\n",
       "    case 0:\n",
       "        cursor = 'pointer';\n",
       "        break;\n",
       "    case 1:\n",
       "        cursor = 'default';\n",
       "        break;\n",
       "    case 2:\n",
       "        cursor = 'crosshair';\n",
       "        break;\n",
       "    case 3:\n",
       "        cursor = 'move';\n",
       "        break;\n",
       "    }\n",
       "    fig.rubberband_canvas.style.cursor = cursor;\n",
       "}\n",
       "\n",
       "mpl.figure.prototype.handle_message = function(fig, msg) {\n",
       "    fig.message.textContent = msg['message'];\n",
       "}\n",
       "\n",
       "mpl.figure.prototype.handle_draw = function(fig, msg) {\n",
       "    // Request the server to send over a new figure.\n",
       "    fig.send_draw_message();\n",
       "}\n",
       "\n",
       "mpl.figure.prototype.handle_image_mode = function(fig, msg) {\n",
       "    fig.image_mode = msg['mode'];\n",
       "}\n",
       "\n",
       "mpl.figure.prototype.updated_canvas_event = function() {\n",
       "    // Called whenever the canvas gets updated.\n",
       "    this.send_message(\"ack\", {});\n",
       "}\n",
       "\n",
       "// A function to construct a web socket function for onmessage handling.\n",
       "// Called in the figure constructor.\n",
       "mpl.figure.prototype._make_on_message_function = function(fig) {\n",
       "    return function socket_on_message(evt) {\n",
       "        if (evt.data instanceof Blob) {\n",
       "            /* FIXME: We get \"Resource interpreted as Image but\n",
       "             * transferred with MIME type text/plain:\" errors on\n",
       "             * Chrome.  But how to set the MIME type?  It doesn't seem\n",
       "             * to be part of the websocket stream */\n",
       "            evt.data.type = \"image/png\";\n",
       "\n",
       "            /* Free the memory for the previous frames */\n",
       "            if (fig.imageObj.src) {\n",
       "                (window.URL || window.webkitURL).revokeObjectURL(\n",
       "                    fig.imageObj.src);\n",
       "            }\n",
       "\n",
       "            fig.imageObj.src = (window.URL || window.webkitURL).createObjectURL(\n",
       "                evt.data);\n",
       "            fig.updated_canvas_event();\n",
       "            fig.waiting = false;\n",
       "            return;\n",
       "        }\n",
       "        else if (typeof evt.data === 'string' && evt.data.slice(0, 21) == \"data:image/png;base64\") {\n",
       "            fig.imageObj.src = evt.data;\n",
       "            fig.updated_canvas_event();\n",
       "            fig.waiting = false;\n",
       "            return;\n",
       "        }\n",
       "\n",
       "        var msg = JSON.parse(evt.data);\n",
       "        var msg_type = msg['type'];\n",
       "\n",
       "        // Call the  \"handle_{type}\" callback, which takes\n",
       "        // the figure and JSON message as its only arguments.\n",
       "        try {\n",
       "            var callback = fig[\"handle_\" + msg_type];\n",
       "        } catch (e) {\n",
       "            console.log(\"No handler for the '\" + msg_type + \"' message type: \", msg);\n",
       "            return;\n",
       "        }\n",
       "\n",
       "        if (callback) {\n",
       "            try {\n",
       "                // console.log(\"Handling '\" + msg_type + \"' message: \", msg);\n",
       "                callback(fig, msg);\n",
       "            } catch (e) {\n",
       "                console.log(\"Exception inside the 'handler_\" + msg_type + \"' callback:\", e, e.stack, msg);\n",
       "            }\n",
       "        }\n",
       "    };\n",
       "}\n",
       "\n",
       "// from http://stackoverflow.com/questions/1114465/getting-mouse-location-in-canvas\n",
       "mpl.findpos = function(e) {\n",
       "    //this section is from http://www.quirksmode.org/js/events_properties.html\n",
       "    var targ;\n",
       "    if (!e)\n",
       "        e = window.event;\n",
       "    if (e.target)\n",
       "        targ = e.target;\n",
       "    else if (e.srcElement)\n",
       "        targ = e.srcElement;\n",
       "    if (targ.nodeType == 3) // defeat Safari bug\n",
       "        targ = targ.parentNode;\n",
       "\n",
       "    // jQuery normalizes the pageX and pageY\n",
       "    // pageX,Y are the mouse positions relative to the document\n",
       "    // offset() returns the position of the element relative to the document\n",
       "    var x = e.pageX - $(targ).offset().left;\n",
       "    var y = e.pageY - $(targ).offset().top;\n",
       "\n",
       "    return {\"x\": x, \"y\": y};\n",
       "};\n",
       "\n",
       "/*\n",
       " * return a copy of an object with only non-object keys\n",
       " * we need this to avoid circular references\n",
       " * http://stackoverflow.com/a/24161582/3208463\n",
       " */\n",
       "function simpleKeys (original) {\n",
       "  return Object.keys(original).reduce(function (obj, key) {\n",
       "    if (typeof original[key] !== 'object')\n",
       "        obj[key] = original[key]\n",
       "    return obj;\n",
       "  }, {});\n",
       "}\n",
       "\n",
       "mpl.figure.prototype.mouse_event = function(event, name) {\n",
       "    var canvas_pos = mpl.findpos(event)\n",
       "\n",
       "    if (name === 'button_press')\n",
       "    {\n",
       "        this.canvas.focus();\n",
       "        this.canvas_div.focus();\n",
       "    }\n",
       "\n",
       "    var x = canvas_pos.x;\n",
       "    var y = canvas_pos.y;\n",
       "\n",
       "    this.send_message(name, {x: x, y: y, button: event.button,\n",
       "                             step: event.step,\n",
       "                             guiEvent: simpleKeys(event)});\n",
       "\n",
       "    /* This prevents the web browser from automatically changing to\n",
       "     * the text insertion cursor when the button is pressed.  We want\n",
       "     * to control all of the cursor setting manually through the\n",
       "     * 'cursor' event from matplotlib */\n",
       "    event.preventDefault();\n",
       "    return false;\n",
       "}\n",
       "\n",
       "mpl.figure.prototype._key_event_extra = function(event, name) {\n",
       "    // Handle any extra behaviour associated with a key event\n",
       "}\n",
       "\n",
       "mpl.figure.prototype.key_event = function(event, name) {\n",
       "\n",
       "    // Prevent repeat events\n",
       "    if (name == 'key_press')\n",
       "    {\n",
       "        if (event.which === this._key)\n",
       "            return;\n",
       "        else\n",
       "            this._key = event.which;\n",
       "    }\n",
       "    if (name == 'key_release')\n",
       "        this._key = null;\n",
       "\n",
       "    var value = '';\n",
       "    if (event.ctrlKey && event.which != 17)\n",
       "        value += \"ctrl+\";\n",
       "    if (event.altKey && event.which != 18)\n",
       "        value += \"alt+\";\n",
       "    if (event.shiftKey && event.which != 16)\n",
       "        value += \"shift+\";\n",
       "\n",
       "    value += 'k';\n",
       "    value += event.which.toString();\n",
       "\n",
       "    this._key_event_extra(event, name);\n",
       "\n",
       "    this.send_message(name, {key: value,\n",
       "                             guiEvent: simpleKeys(event)});\n",
       "    return false;\n",
       "}\n",
       "\n",
       "mpl.figure.prototype.toolbar_button_onclick = function(name) {\n",
       "    if (name == 'download') {\n",
       "        this.handle_save(this, null);\n",
       "    } else {\n",
       "        this.send_message(\"toolbar_button\", {name: name});\n",
       "    }\n",
       "};\n",
       "\n",
       "mpl.figure.prototype.toolbar_button_onmouseover = function(tooltip) {\n",
       "    this.message.textContent = tooltip;\n",
       "};\n",
       "mpl.toolbar_items = [[\"Home\", \"Reset original view\", \"fa fa-home icon-home\", \"home\"], [\"Back\", \"Back to  previous view\", \"fa fa-arrow-left icon-arrow-left\", \"back\"], [\"Forward\", \"Forward to next view\", \"fa fa-arrow-right icon-arrow-right\", \"forward\"], [\"\", \"\", \"\", \"\"], [\"Pan\", \"Pan axes with left mouse, zoom with right\", \"fa fa-arrows icon-move\", \"pan\"], [\"Zoom\", \"Zoom to rectangle\", \"fa fa-square-o icon-check-empty\", \"zoom\"], [\"\", \"\", \"\", \"\"], [\"Download\", \"Download plot\", \"fa fa-floppy-o icon-save\", \"download\"]];\n",
       "\n",
       "mpl.extensions = [\"eps\", \"pdf\", \"png\", \"ps\", \"raw\", \"svg\"];\n",
       "\n",
       "mpl.default_extension = \"png\";var comm_websocket_adapter = function(comm) {\n",
       "    // Create a \"websocket\"-like object which calls the given IPython comm\n",
       "    // object with the appropriate methods. Currently this is a non binary\n",
       "    // socket, so there is still some room for performance tuning.\n",
       "    var ws = {};\n",
       "\n",
       "    ws.close = function() {\n",
       "        comm.close()\n",
       "    };\n",
       "    ws.send = function(m) {\n",
       "        //console.log('sending', m);\n",
       "        comm.send(m);\n",
       "    };\n",
       "    // Register the callback with on_msg.\n",
       "    comm.on_msg(function(msg) {\n",
       "        //console.log('receiving', msg['content']['data'], msg);\n",
       "        // Pass the mpl event to the overriden (by mpl) onmessage function.\n",
       "        ws.onmessage(msg['content']['data'])\n",
       "    });\n",
       "    return ws;\n",
       "}\n",
       "\n",
       "mpl.mpl_figure_comm = function(comm, msg) {\n",
       "    // This is the function which gets called when the mpl process\n",
       "    // starts-up an IPython Comm through the \"matplotlib\" channel.\n",
       "\n",
       "    var id = msg.content.data.id;\n",
       "    // Get hold of the div created by the display call when the Comm\n",
       "    // socket was opened in Python.\n",
       "    var element = $(\"#\" + id);\n",
       "    var ws_proxy = comm_websocket_adapter(comm)\n",
       "\n",
       "    function ondownload(figure, format) {\n",
       "        window.open(figure.imageObj.src);\n",
       "    }\n",
       "\n",
       "    var fig = new mpl.figure(id, ws_proxy,\n",
       "                           ondownload,\n",
       "                           element.get(0));\n",
       "\n",
       "    // Call onopen now - mpl needs it, as it is assuming we've passed it a real\n",
       "    // web socket which is closed, not our websocket->open comm proxy.\n",
       "    ws_proxy.onopen();\n",
       "\n",
       "    fig.parent_element = element.get(0);\n",
       "    fig.cell_info = mpl.find_output_cell(\"<div id='\" + id + \"'></div>\");\n",
       "    if (!fig.cell_info) {\n",
       "        console.error(\"Failed to find cell for figure\", id, fig);\n",
       "        return;\n",
       "    }\n",
       "\n",
       "    var output_index = fig.cell_info[2]\n",
       "    var cell = fig.cell_info[0];\n",
       "\n",
       "};\n",
       "\n",
       "mpl.figure.prototype.handle_close = function(fig, msg) {\n",
       "    fig.root.unbind('remove')\n",
       "\n",
       "    // Update the output cell to use the data from the current canvas.\n",
       "    fig.push_to_output();\n",
       "    var dataURL = fig.canvas.toDataURL();\n",
       "    // Re-enable the keyboard manager in IPython - without this line, in FF,\n",
       "    // the notebook keyboard shortcuts fail.\n",
       "    IPython.keyboard_manager.enable()\n",
       "    $(fig.parent_element).html('<img src=\"' + dataURL + '\">');\n",
       "    fig.close_ws(fig, msg);\n",
       "}\n",
       "\n",
       "mpl.figure.prototype.close_ws = function(fig, msg){\n",
       "    fig.send_message('closing', msg);\n",
       "    // fig.ws.close()\n",
       "}\n",
       "\n",
       "mpl.figure.prototype.push_to_output = function(remove_interactive) {\n",
       "    // Turn the data on the canvas into data in the output cell.\n",
       "    var dataURL = this.canvas.toDataURL();\n",
       "    this.cell_info[1]['text/html'] = '<img src=\"' + dataURL + '\">';\n",
       "}\n",
       "\n",
       "mpl.figure.prototype.updated_canvas_event = function() {\n",
       "    // Tell IPython that the notebook contents must change.\n",
       "    IPython.notebook.set_dirty(true);\n",
       "    this.send_message(\"ack\", {});\n",
       "    var fig = this;\n",
       "    // Wait a second, then push the new image to the DOM so\n",
       "    // that it is saved nicely (might be nice to debounce this).\n",
       "    setTimeout(function () { fig.push_to_output() }, 1000);\n",
       "}\n",
       "\n",
       "mpl.figure.prototype._init_toolbar = function() {\n",
       "    var fig = this;\n",
       "\n",
       "    var nav_element = $('<div/>')\n",
       "    nav_element.attr('style', 'width: 100%');\n",
       "    this.root.append(nav_element);\n",
       "\n",
       "    // Define a callback function for later on.\n",
       "    function toolbar_event(event) {\n",
       "        return fig.toolbar_button_onclick(event['data']);\n",
       "    }\n",
       "    function toolbar_mouse_event(event) {\n",
       "        return fig.toolbar_button_onmouseover(event['data']);\n",
       "    }\n",
       "\n",
       "    for(var toolbar_ind in mpl.toolbar_items){\n",
       "        var name = mpl.toolbar_items[toolbar_ind][0];\n",
       "        var tooltip = mpl.toolbar_items[toolbar_ind][1];\n",
       "        var image = mpl.toolbar_items[toolbar_ind][2];\n",
       "        var method_name = mpl.toolbar_items[toolbar_ind][3];\n",
       "\n",
       "        if (!name) { continue; };\n",
       "\n",
       "        var button = $('<button class=\"btn btn-default\" href=\"#\" title=\"' + name + '\"><i class=\"fa ' + image + ' fa-lg\"></i></button>');\n",
       "        button.click(method_name, toolbar_event);\n",
       "        button.mouseover(tooltip, toolbar_mouse_event);\n",
       "        nav_element.append(button);\n",
       "    }\n",
       "\n",
       "    // Add the status bar.\n",
       "    var status_bar = $('<span class=\"mpl-message\" style=\"text-align:right; float: right;\"/>');\n",
       "    nav_element.append(status_bar);\n",
       "    this.message = status_bar[0];\n",
       "\n",
       "    // Add the close button to the window.\n",
       "    var buttongrp = $('<div class=\"btn-group inline pull-right\"></div>');\n",
       "    var button = $('<button class=\"btn btn-mini btn-primary\" href=\"#\" title=\"Stop Interaction\"><i class=\"fa fa-power-off icon-remove icon-large\"></i></button>');\n",
       "    button.click(function (evt) { fig.handle_close(fig, {}); } );\n",
       "    button.mouseover('Stop Interaction', toolbar_mouse_event);\n",
       "    buttongrp.append(button);\n",
       "    var titlebar = this.root.find($('.ui-dialog-titlebar'));\n",
       "    titlebar.prepend(buttongrp);\n",
       "}\n",
       "\n",
       "mpl.figure.prototype._root_extra_style = function(el){\n",
       "    var fig = this\n",
       "    el.on(\"remove\", function(){\n",
       "\tfig.close_ws(fig, {});\n",
       "    });\n",
       "}\n",
       "\n",
       "mpl.figure.prototype._canvas_extra_style = function(el){\n",
       "    // this is important to make the div 'focusable\n",
       "    el.attr('tabindex', 0)\n",
       "    // reach out to IPython and tell the keyboard manager to turn it's self\n",
       "    // off when our div gets focus\n",
       "\n",
       "    // location in version 3\n",
       "    if (IPython.notebook.keyboard_manager) {\n",
       "        IPython.notebook.keyboard_manager.register_events(el);\n",
       "    }\n",
       "    else {\n",
       "        // location in version 2\n",
       "        IPython.keyboard_manager.register_events(el);\n",
       "    }\n",
       "\n",
       "}\n",
       "\n",
       "mpl.figure.prototype._key_event_extra = function(event, name) {\n",
       "    var manager = IPython.notebook.keyboard_manager;\n",
       "    if (!manager)\n",
       "        manager = IPython.keyboard_manager;\n",
       "\n",
       "    // Check for shift+enter\n",
       "    if (event.shiftKey && event.which == 13) {\n",
       "        this.canvas_div.blur();\n",
       "        event.shiftKey = false;\n",
       "        // Send a \"J\" for go to next cell\n",
       "        event.which = 74;\n",
       "        event.keyCode = 74;\n",
       "        manager.command_mode();\n",
       "        manager.handle_keydown(event);\n",
       "    }\n",
       "}\n",
       "\n",
       "mpl.figure.prototype.handle_save = function(fig, msg) {\n",
       "    fig.ondownload(fig, null);\n",
       "}\n",
       "\n",
       "\n",
       "mpl.find_output_cell = function(html_output) {\n",
       "    // Return the cell and output element which can be found *uniquely* in the notebook.\n",
       "    // Note - this is a bit hacky, but it is done because the \"notebook_saving.Notebook\"\n",
       "    // IPython event is triggered only after the cells have been serialised, which for\n",
       "    // our purposes (turning an active figure into a static one), is too late.\n",
       "    var cells = IPython.notebook.get_cells();\n",
       "    var ncells = cells.length;\n",
       "    for (var i=0; i<ncells; i++) {\n",
       "        var cell = cells[i];\n",
       "        if (cell.cell_type === 'code'){\n",
       "            for (var j=0; j<cell.output_area.outputs.length; j++) {\n",
       "                var data = cell.output_area.outputs[j];\n",
       "                if (data.data) {\n",
       "                    // IPython >= 3 moved mimebundle to data attribute of output\n",
       "                    data = data.data;\n",
       "                }\n",
       "                if (data['text/html'] == html_output) {\n",
       "                    return [cell, data, j];\n",
       "                }\n",
       "            }\n",
       "        }\n",
       "    }\n",
       "}\n",
       "\n",
       "// Register the function which deals with the matplotlib target/channel.\n",
       "// The kernel may be null if the page has been refreshed.\n",
       "if (IPython.notebook.kernel != null) {\n",
       "    IPython.notebook.kernel.comm_manager.register_target('matplotlib', mpl.mpl_figure_comm);\n",
       "}\n"
      ],
      "text/plain": [
       "<IPython.core.display.Javascript object>"
      ]
     },
     "metadata": {},
     "output_type": "display_data"
    },
    {
     "data": {
      "text/html": [
       "<img src=\"data:image/png;base64,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\">"
      ],
      "text/plain": [
       "<IPython.core.display.HTML object>"
      ]
     },
     "metadata": {},
     "output_type": "display_data"
    },
    {
     "data": {
      "text/plain": [
       "<mpl_toolkits.mplot3d.axes3d.Axes3D at 0x10b1e38d0>"
      ]
     },
     "execution_count": 17,
     "metadata": {},
     "output_type": "execute_result"
    }
   ],
   "source": [
    "prody.showProtein(ligand)"
   ]
  },
  {
   "cell_type": "code",
   "execution_count": 18,
   "metadata": {
    "collapsed": true
   },
   "outputs": [],
   "source": [
    "chain_A_CA = chain_A.select('calpha')"
   ]
  },
  {
   "cell_type": "code",
   "execution_count": 19,
   "metadata": {
    "collapsed": true
   },
   "outputs": [],
   "source": [
    "chain_B_CA = chain_B.select('calpha')"
   ]
  },
  {
   "cell_type": "code",
   "execution_count": 21,
   "metadata": {
    "collapsed": false
   },
   "outputs": [],
   "source": [
    "anm_A = prody.ANM('chain A')"
   ]
  },
  {
   "cell_type": "code",
   "execution_count": 22,
   "metadata": {
    "collapsed": true
   },
   "outputs": [],
   "source": [
    "anm_B = prody.ANM('chain B')"
   ]
  },
  {
   "cell_type": "code",
   "execution_count": 59,
   "metadata": {
    "collapsed": true
   },
   "outputs": [],
   "source": [
    "anm_AB = prody.ANM('chain AB')"
   ]
  },
  {
   "cell_type": "code",
   "execution_count": 60,
   "metadata": {
    "collapsed": true
   },
   "outputs": [],
   "source": [
    "anm_ABL = prody.ANM('chain AB ligand')"
   ]
  },
  {
   "cell_type": "code",
   "execution_count": 61,
   "metadata": {
    "collapsed": true
   },
   "outputs": [],
   "source": [
    "chain_AB = pdb.select('chain A B and protein')"
   ]
  },
  {
   "cell_type": "code",
   "execution_count": 62,
   "metadata": {
    "collapsed": true
   },
   "outputs": [],
   "source": [
    "chain_ABL = pdb.select('chain A B and not water')"
   ]
  },
  {
   "cell_type": "code",
   "execution_count": 63,
   "metadata": {
    "collapsed": false
   },
   "outputs": [],
   "source": [
    "anm_A.buildHessian(chain_A_CA)"
   ]
  },
  {
   "cell_type": "code",
   "execution_count": 64,
   "metadata": {
    "collapsed": false
   },
   "outputs": [
    {
     "data": {
      "text/plain": [
       "array([[ 9.892, -1.235, -0.296, ...,  0.   ,  0.   ,  0.   ],\n",
       "       [-1.235,  7.35 , -1.132, ...,  0.   ,  0.   ,  0.   ],\n",
       "       [-0.296, -1.132,  5.758, ...,  0.   ,  0.   ,  0.   ],\n",
       "       ..., \n",
       "       [ 0.   ,  0.   ,  0.   , ...,  2.704,  1.118, -1.828],\n",
       "       [ 0.   ,  0.   ,  0.   , ...,  1.118,  1.67 , -0.267],\n",
       "       [ 0.   ,  0.   ,  0.   , ..., -1.828, -0.267,  5.627]])"
      ]
     },
     "execution_count": 64,
     "metadata": {},
     "output_type": "execute_result"
    }
   ],
   "source": [
    "anm_A.getHessian().round(3)"
   ]
  },
  {
   "cell_type": "code",
   "execution_count": 65,
   "metadata": {
    "collapsed": false
   },
   "outputs": [
    {
     "data": {
      "text/plain": [
       "15.0"
      ]
     },
     "execution_count": 65,
     "metadata": {},
     "output_type": "execute_result"
    }
   ],
   "source": [
    "anm_A.getCutoff()"
   ]
  },
  {
   "cell_type": "code",
   "execution_count": 66,
   "metadata": {
    "collapsed": false
   },
   "outputs": [
    {
     "data": {
      "text/plain": [
       "1.0"
      ]
     },
     "execution_count": 66,
     "metadata": {},
     "output_type": "execute_result"
    }
   ],
   "source": [
    "anm_A.getGamma()"
   ]
  },
  {
   "cell_type": "code",
   "execution_count": 67,
   "metadata": {
    "collapsed": true
   },
   "outputs": [],
   "source": [
    "anm_A.calcModes()"
   ]
  },
  {
   "cell_type": "code",
   "execution_count": 68,
   "metadata": {
    "collapsed": false
   },
   "outputs": [
    {
     "data": {
      "text/plain": [
       "array([ 0.656,  0.717,  1.059,  1.19 ,  1.579,  1.872,  1.989,  2.252,\n",
       "        2.343,  2.647,  3.077,  3.21 ,  3.28 ,  3.456,  3.62 ,  3.766,\n",
       "        3.879,  3.9  ,  3.92 ,  4.051])"
      ]
     },
     "execution_count": 68,
     "metadata": {},
     "output_type": "execute_result"
    }
   ],
   "source": [
    "anm_A.getEigvals().round(3)"
   ]
  },
  {
   "cell_type": "code",
   "execution_count": 69,
   "metadata": {
    "collapsed": false
   },
   "outputs": [
    {
     "data": {
      "text/plain": [
       "array([[ 0.009,  0.03 , -0.006, ..., -0.034,  0.018,  0.012],\n",
       "       [ 0.011,  0.088, -0.03 , ..., -0.034,  0.035, -0.057],\n",
       "       [-0.016,  0.021, -0.018, ..., -0.023,  0.058, -0.057],\n",
       "       ..., \n",
       "       [-0.56 , -0.076, -0.228, ...,  0.005,  0.103, -0.055],\n",
       "       [ 0.712, -0.111, -0.16 , ...,  0.075,  0.066, -0.05 ],\n",
       "       [-0.174, -0.085, -0.208, ...,  0.182, -0.023, -0.007]])"
      ]
     },
     "execution_count": 69,
     "metadata": {},
     "output_type": "execute_result"
    }
   ],
   "source": [
    "anm_A.getEigvecs().round(3)"
   ]
  },
  {
   "cell_type": "code",
   "execution_count": 70,
   "metadata": {
    "collapsed": false
   },
   "outputs": [
    {
     "data": {
      "text/plain": [
       "'modes_A.nmd'"
      ]
     },
     "execution_count": 70,
     "metadata": {},
     "output_type": "execute_result"
    }
   ],
   "source": [
    "prody.writeNMD('modes_A.nmd',anm_A[:3],chain_A_CA)"
   ]
  },
  {
   "cell_type": "code",
   "execution_count": 71,
   "metadata": {
    "collapsed": false
   },
   "outputs": [],
   "source": [
    "prody.setVMDpath('/Applications/VMD 1.9.2.app/Contents/Resources/VMD.app/Contents/MacOS/VMD')"
   ]
  },
  {
   "cell_type": "code",
   "execution_count": 72,
   "metadata": {
    "collapsed": false
   },
   "outputs": [
    {
     "data": {
      "text/plain": [
       "'/Applications/VMD 1.9.2.app/Contents/Resources/VMD.app/Contents/MacOS/VMD'"
      ]
     },
     "execution_count": 72,
     "metadata": {},
     "output_type": "execute_result"
    }
   ],
   "source": [
    "prody.pathVMD()"
   ]
  },
  {
   "cell_type": "code",
   "execution_count": 73,
   "metadata": {
    "collapsed": true
   },
   "outputs": [],
   "source": [
    "prody.viewNMDinVMD('modes_A.nmd')"
   ]
  },
  {
   "cell_type": "code",
   "execution_count": 74,
   "metadata": {
    "collapsed": true
   },
   "outputs": [],
   "source": [
    "anm_B.buildHessian(chain_B_CA)"
   ]
  },
  {
   "cell_type": "code",
   "execution_count": 75,
   "metadata": {
    "collapsed": true
   },
   "outputs": [],
   "source": [
    "anm_B.calcModes()"
   ]
  },
  {
   "cell_type": "code",
   "execution_count": 76,
   "metadata": {
    "collapsed": false
   },
   "outputs": [
    {
     "data": {
      "text/plain": [
       "'modes_B.nmd'"
      ]
     },
     "execution_count": 76,
     "metadata": {},
     "output_type": "execute_result"
    }
   ],
   "source": [
    "prody.writeNMD('modes_B.nmd',anm_B[:3],chain_B_CA)"
   ]
  },
  {
   "cell_type": "code",
   "execution_count": 77,
   "metadata": {
    "collapsed": true
   },
   "outputs": [],
   "source": [
    "chain_AB_CA = chain_AB.select('calpha')"
   ]
  },
  {
   "cell_type": "code",
   "execution_count": 78,
   "metadata": {
    "collapsed": true
   },
   "outputs": [],
   "source": [
    "anm_AB.buildHessian(chain_AB_CA)"
   ]
  },
  {
   "cell_type": "code",
   "execution_count": 79,
   "metadata": {
    "collapsed": false
   },
   "outputs": [],
   "source": [
    "anm_AB.calcModes()"
   ]
  },
  {
   "cell_type": "code",
   "execution_count": 80,
   "metadata": {
    "collapsed": false
   },
   "outputs": [
    {
     "data": {
      "text/plain": [
       "'modes_AB.nmd'"
      ]
     },
     "execution_count": 80,
     "metadata": {},
     "output_type": "execute_result"
    }
   ],
   "source": [
    "prody.writeNMD('modes_AB.nmd',anm_AB[:3],chain_AB_CA)"
   ]
  },
  {
   "cell_type": "code",
   "execution_count": 85,
   "metadata": {
    "collapsed": true
   },
   "outputs": [],
   "source": [
    "chain_ABL_back = chain_ABL.select('calpha or not protein')"
   ]
  },
  {
   "cell_type": "code",
   "execution_count": 86,
   "metadata": {
    "collapsed": true
   },
   "outputs": [],
   "source": [
    "anm_ABL.buildHessian(chain_ABL_back)"
   ]
  },
  {
   "cell_type": "code",
   "execution_count": 87,
   "metadata": {
    "collapsed": true
   },
   "outputs": [],
   "source": [
    "anm_ABL.calcModes()"
   ]
  },
  {
   "cell_type": "code",
   "execution_count": 88,
   "metadata": {
    "collapsed": false
   },
   "outputs": [
    {
     "data": {
      "text/plain": [
       "'modes_ABL.nmd'"
      ]
     },
     "execution_count": 88,
     "metadata": {},
     "output_type": "execute_result"
    }
   ],
   "source": [
    "prody.writeNMD('modes_ABL.nmd',anm_ABL[:3],chain_ABL_back)"
   ]
  },
  {
   "cell_type": "code",
   "execution_count": 89,
   "metadata": {
    "collapsed": true
   },
   "outputs": [],
   "source": [
    "ens = prody.sampleModes(anm_ABL,atoms=chain_ABL_back,n_confs=40,rmsd=2.0)"
   ]
  },
  {
   "cell_type": "code",
   "execution_count": 91,
   "metadata": {
    "collapsed": false
   },
   "outputs": [
    {
     "data": {
      "text/plain": [
       "'ABL.dcd'"
      ]
     },
     "execution_count": 91,
     "metadata": {},
     "output_type": "execute_result"
    }
   ],
   "source": [
    "prody.writeDCD('ABL.dcd',ens)"
   ]
  },
  {
   "cell_type": "code",
   "execution_count": null,
   "metadata": {
    "collapsed": true
   },
   "outputs": [],
   "source": []
  }
 ],
 "metadata": {
  "kernelspec": {
   "display_name": "Python 2",
   "language": "python",
   "name": "python2"
  },
  "language_info": {
   "codemirror_mode": {
    "name": "ipython",
    "version": 2
   },
   "file_extension": ".py",
   "mimetype": "text/x-python",
   "name": "python",
   "nbconvert_exporter": "python",
   "pygments_lexer": "ipython2",
   "version": "2.7.11"
  }
 },
 "nbformat": 4,
 "nbformat_minor": 0
}
