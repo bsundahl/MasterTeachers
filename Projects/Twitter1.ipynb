{
 "cells": [
  {
   "cell_type": "markdown",
   "metadata": {},
   "source": [
    "# Twitter"
   ]
  },
  {
   "cell_type": "markdown",
   "metadata": {},
   "source": [
    "This notebook outlines the basics of the twython library."
   ]
  },
  {
   "cell_type": "code",
   "execution_count": 1,
   "metadata": {
    "collapsed": true
   },
   "outputs": [],
   "source": [
    "import twython"
   ]
  },
  {
   "cell_type": "code",
   "execution_count": 2,
   "metadata": {
    "collapsed": true
   },
   "outputs": [],
   "source": [
    "APP_KEY = \"cItiM8pXU6vrLnWDKrIS8Wjmp\"\n",
    "APP_SECRET = \"WIxfZjt7sDPSUBZvAjtgZJHLMMRfBEoSCp9bERgWkqSQRo0alv\"\n",
    "OAUTH_TOKEN = \"755398086705446912-0FNULvo1xU7yUDPvQ7VVZiPEIMS0p7L\"\n",
    "OAUTH_SECRET = \"nhgFbmeX5o2t2o2i7XEVZbbS2akwExEnYztgpAAXLedxg\"\n",
    "twitter = twython.Twython(APP_KEY, APP_SECRET, OAUTH_TOKEN, OAUTH_SECRET)"
   ]
  },
  {
   "cell_type": "code",
   "execution_count": 3,
   "metadata": {
    "collapsed": true
   },
   "outputs": [],
   "source": [
    "tweets = twitter.search(q = \"stonybrook\", count = 100)"
   ]
  },
  {
   "cell_type": "code",
   "execution_count": 4,
   "metadata": {
    "collapsed": false
   },
   "outputs": [
    {
     "data": {
      "text/plain": [
       "dict"
      ]
     },
     "execution_count": 4,
     "metadata": {},
     "output_type": "execute_result"
    }
   ],
   "source": [
    "type(tweets)"
   ]
  },
  {
   "cell_type": "code",
   "execution_count": 5,
   "metadata": {
    "collapsed": false
   },
   "outputs": [
    {
     "data": {
      "text/plain": [
       "[u'search_metadata', u'statuses']"
      ]
     },
     "execution_count": 5,
     "metadata": {},
     "output_type": "execute_result"
    }
   ],
   "source": [
    "tweets.keys()"
   ]
  },
  {
   "cell_type": "code",
   "execution_count": 6,
   "metadata": {
    "collapsed": true
   },
   "outputs": [],
   "source": [
    "tweets = tweets[\"statuses\"]"
   ]
  },
  {
   "cell_type": "code",
   "execution_count": 7,
   "metadata": {
    "collapsed": false
   },
   "outputs": [
    {
     "data": {
      "text/plain": [
       "list"
      ]
     },
     "execution_count": 7,
     "metadata": {},
     "output_type": "execute_result"
    }
   ],
   "source": [
    "type(tweets)"
   ]
  },
  {
   "cell_type": "code",
   "execution_count": 8,
   "metadata": {
    "collapsed": false
   },
   "outputs": [
    {
     "data": {
      "text/plain": [
       "100"
      ]
     },
     "execution_count": 8,
     "metadata": {},
     "output_type": "execute_result"
    }
   ],
   "source": [
    "len(tweets)"
   ]
  },
  {
   "cell_type": "code",
   "execution_count": 9,
   "metadata": {
    "collapsed": false
   },
   "outputs": [
    {
     "data": {
      "text/plain": [
       "dict"
      ]
     },
     "execution_count": 9,
     "metadata": {},
     "output_type": "execute_result"
    }
   ],
   "source": [
    "type(tweets[0])"
   ]
  },
  {
   "cell_type": "code",
   "execution_count": 10,
   "metadata": {
    "collapsed": false
   },
   "outputs": [
    {
     "data": {
      "text/plain": [
       "[u'contributors',\n",
       " u'truncated',\n",
       " u'text',\n",
       " u'is_quote_status',\n",
       " u'in_reply_to_status_id',\n",
       " u'id',\n",
       " u'favorite_count',\n",
       " u'entities',\n",
       " u'retweeted',\n",
       " u'coordinates',\n",
       " u'source',\n",
       " u'in_reply_to_screen_name',\n",
       " u'in_reply_to_user_id',\n",
       " u'retweet_count',\n",
       " u'id_str',\n",
       " u'favorited',\n",
       " u'retweeted_status',\n",
       " u'user',\n",
       " u'geo',\n",
       " u'in_reply_to_user_id_str',\n",
       " u'possibly_sensitive',\n",
       " u'lang',\n",
       " u'created_at',\n",
       " u'in_reply_to_status_id_str',\n",
       " u'place',\n",
       " u'metadata']"
      ]
     },
     "execution_count": 10,
     "metadata": {},
     "output_type": "execute_result"
    }
   ],
   "source": [
    "tweets[0].keys()"
   ]
  },
  {
   "cell_type": "code",
   "execution_count": 11,
   "metadata": {
    "collapsed": false
   },
   "outputs": [
    {
     "data": {
      "text/plain": [
       "u'Tue Jul 19 13:59:18 +0000 2016'"
      ]
     },
     "execution_count": 11,
     "metadata": {},
     "output_type": "execute_result"
    }
   ],
   "source": [
    "tweets[0][\"created_at\"]"
   ]
  },
  {
   "cell_type": "code",
   "execution_count": 12,
   "metadata": {
    "collapsed": false
   },
   "outputs": [
    {
     "data": {
      "text/plain": [
       "u'RT @Got2Bespoke: Proud that my degrees bear the #StonyBrookUniversity name - @stonybrooku \"Listed as Fiske \\u201cBest Buy\\u201d School\"\\nhttps://t.co/\\u2026'"
      ]
     },
     "execution_count": 12,
     "metadata": {},
     "output_type": "execute_result"
    }
   ],
   "source": [
    "tweets[0][\"text\"]"
   ]
  },
  {
   "cell_type": "code",
   "execution_count": 13,
   "metadata": {
    "collapsed": false
   },
   "outputs": [
    {
     "data": {
      "text/plain": [
       "dict"
      ]
     },
     "execution_count": 13,
     "metadata": {},
     "output_type": "execute_result"
    }
   ],
   "source": [
    "user_0 = tweets[0][\"user\"]\n",
    "type(user_0)"
   ]
  },
  {
   "cell_type": "code",
   "execution_count": 14,
   "metadata": {
    "collapsed": false,
    "scrolled": false
   },
   "outputs": [
    {
     "data": {
      "text/plain": [
       "[u'follow_request_sent',\n",
       " u'has_extended_profile',\n",
       " u'profile_use_background_image',\n",
       " u'default_profile_image',\n",
       " u'id',\n",
       " u'profile_background_image_url_https',\n",
       " u'verified',\n",
       " u'profile_text_color',\n",
       " u'profile_image_url_https',\n",
       " u'profile_sidebar_fill_color',\n",
       " u'entities',\n",
       " u'followers_count',\n",
       " u'profile_sidebar_border_color',\n",
       " u'id_str',\n",
       " u'profile_background_color',\n",
       " u'listed_count',\n",
       " u'is_translation_enabled',\n",
       " u'utc_offset',\n",
       " u'statuses_count',\n",
       " u'description',\n",
       " u'friends_count',\n",
       " u'location',\n",
       " u'profile_link_color',\n",
       " u'profile_image_url',\n",
       " u'following',\n",
       " u'geo_enabled',\n",
       " u'profile_banner_url',\n",
       " u'profile_background_image_url',\n",
       " u'screen_name',\n",
       " u'lang',\n",
       " u'profile_background_tile',\n",
       " u'favourites_count',\n",
       " u'name',\n",
       " u'notifications',\n",
       " u'url',\n",
       " u'created_at',\n",
       " u'contributors_enabled',\n",
       " u'time_zone',\n",
       " u'protected',\n",
       " u'default_profile',\n",
       " u'is_translator']"
      ]
     },
     "execution_count": 14,
     "metadata": {},
     "output_type": "execute_result"
    }
   ],
   "source": [
    "user_0.keys()"
   ]
  },
  {
   "cell_type": "code",
   "execution_count": 15,
   "metadata": {
    "collapsed": false
   },
   "outputs": [
    {
     "data": {
      "text/plain": [
       "u'stonybrooku'"
      ]
     },
     "execution_count": 15,
     "metadata": {},
     "output_type": "execute_result"
    }
   ],
   "source": [
    "user_0[\"screen_name\"]"
   ]
  },
  {
   "cell_type": "code",
   "execution_count": 16,
   "metadata": {
    "collapsed": false
   },
   "outputs": [
    {
     "ename": "TwythonError",
     "evalue": "('Connection aborted.', error(10054, 'An existing connection was forcibly closed by the remote host'))",
     "output_type": "error",
     "traceback": [
      "\u001b[1;31m---------------------------------------------------------------------------\u001b[0m",
      "\u001b[1;31mTwythonError\u001b[0m                              Traceback (most recent call last)",
      "\u001b[1;32m<ipython-input-16-740d2c0f1987>\u001b[0m in \u001b[0;36m<module>\u001b[1;34m()\u001b[0m\n\u001b[1;32m----> 1\u001b[1;33m \u001b[0mtweets\u001b[0m \u001b[1;33m=\u001b[0m \u001b[0mtwitter\u001b[0m\u001b[1;33m.\u001b[0m\u001b[0msearch\u001b[0m\u001b[1;33m(\u001b[0m\u001b[0mq\u001b[0m \u001b[1;33m=\u001b[0m \u001b[1;34m\"stonybrook -filter:retweets -filter:replies\"\u001b[0m\u001b[1;33m,\u001b[0m \u001b[0mcount\u001b[0m \u001b[1;33m=\u001b[0m \u001b[1;36m100\u001b[0m\u001b[1;33m)\u001b[0m\u001b[1;33m\u001b[0m\u001b[0m\n\u001b[0m",
      "\u001b[1;32mC:\\Users\\Fred\\Anaconda2\\lib\\site-packages\\twython\\endpoints.pyc\u001b[0m in \u001b[0;36msearch\u001b[1;34m(self, **params)\u001b[0m\n\u001b[0;32m    228\u001b[0m \u001b[1;33m\u001b[0m\u001b[0m\n\u001b[0;32m    229\u001b[0m         \"\"\"\n\u001b[1;32m--> 230\u001b[1;33m         \u001b[1;32mreturn\u001b[0m \u001b[0mself\u001b[0m\u001b[1;33m.\u001b[0m\u001b[0mget\u001b[0m\u001b[1;33m(\u001b[0m\u001b[1;34m'search/tweets'\u001b[0m\u001b[1;33m,\u001b[0m \u001b[0mparams\u001b[0m\u001b[1;33m=\u001b[0m\u001b[0mparams\u001b[0m\u001b[1;33m)\u001b[0m\u001b[1;33m\u001b[0m\u001b[0m\n\u001b[0m\u001b[0;32m    231\u001b[0m     \u001b[0msearch\u001b[0m\u001b[1;33m.\u001b[0m\u001b[0miter_mode\u001b[0m \u001b[1;33m=\u001b[0m \u001b[1;34m'id'\u001b[0m\u001b[1;33m\u001b[0m\u001b[0m\n\u001b[0;32m    232\u001b[0m     \u001b[0msearch\u001b[0m\u001b[1;33m.\u001b[0m\u001b[0miter_key\u001b[0m \u001b[1;33m=\u001b[0m \u001b[1;34m'statuses'\u001b[0m\u001b[1;33m\u001b[0m\u001b[0m\n",
      "\u001b[1;32mC:\\Users\\Fred\\Anaconda2\\lib\\site-packages\\twython\\api.pyc\u001b[0m in \u001b[0;36mget\u001b[1;34m(self, endpoint, params, version)\u001b[0m\n\u001b[0;32m    262\u001b[0m     \u001b[1;32mdef\u001b[0m \u001b[0mget\u001b[0m\u001b[1;33m(\u001b[0m\u001b[0mself\u001b[0m\u001b[1;33m,\u001b[0m \u001b[0mendpoint\u001b[0m\u001b[1;33m,\u001b[0m \u001b[0mparams\u001b[0m\u001b[1;33m=\u001b[0m\u001b[0mNone\u001b[0m\u001b[1;33m,\u001b[0m \u001b[0mversion\u001b[0m\u001b[1;33m=\u001b[0m\u001b[1;34m'1.1'\u001b[0m\u001b[1;33m)\u001b[0m\u001b[1;33m:\u001b[0m\u001b[1;33m\u001b[0m\u001b[0m\n\u001b[0;32m    263\u001b[0m         \u001b[1;34m\"\"\"Shortcut for GET requests via :class:`request`\"\"\"\u001b[0m\u001b[1;33m\u001b[0m\u001b[0m\n\u001b[1;32m--> 264\u001b[1;33m         \u001b[1;32mreturn\u001b[0m \u001b[0mself\u001b[0m\u001b[1;33m.\u001b[0m\u001b[0mrequest\u001b[0m\u001b[1;33m(\u001b[0m\u001b[0mendpoint\u001b[0m\u001b[1;33m,\u001b[0m \u001b[0mparams\u001b[0m\u001b[1;33m=\u001b[0m\u001b[0mparams\u001b[0m\u001b[1;33m,\u001b[0m \u001b[0mversion\u001b[0m\u001b[1;33m=\u001b[0m\u001b[0mversion\u001b[0m\u001b[1;33m)\u001b[0m\u001b[1;33m\u001b[0m\u001b[0m\n\u001b[0m\u001b[0;32m    265\u001b[0m \u001b[1;33m\u001b[0m\u001b[0m\n\u001b[0;32m    266\u001b[0m     \u001b[1;32mdef\u001b[0m \u001b[0mpost\u001b[0m\u001b[1;33m(\u001b[0m\u001b[0mself\u001b[0m\u001b[1;33m,\u001b[0m \u001b[0mendpoint\u001b[0m\u001b[1;33m,\u001b[0m \u001b[0mparams\u001b[0m\u001b[1;33m=\u001b[0m\u001b[0mNone\u001b[0m\u001b[1;33m,\u001b[0m \u001b[0mversion\u001b[0m\u001b[1;33m=\u001b[0m\u001b[1;34m'1.1'\u001b[0m\u001b[1;33m)\u001b[0m\u001b[1;33m:\u001b[0m\u001b[1;33m\u001b[0m\u001b[0m\n",
      "\u001b[1;32mC:\\Users\\Fred\\Anaconda2\\lib\\site-packages\\twython\\api.pyc\u001b[0m in \u001b[0;36mrequest\u001b[1;34m(self, endpoint, method, params, version)\u001b[0m\n\u001b[0;32m    256\u001b[0m \u001b[1;33m\u001b[0m\u001b[0m\n\u001b[0;32m    257\u001b[0m         content = self._request(url, method=method, params=params,\n\u001b[1;32m--> 258\u001b[1;33m                                 api_call=url)\n\u001b[0m\u001b[0;32m    259\u001b[0m \u001b[1;33m\u001b[0m\u001b[0m\n\u001b[0;32m    260\u001b[0m         \u001b[1;32mreturn\u001b[0m \u001b[0mcontent\u001b[0m\u001b[1;33m\u001b[0m\u001b[0m\n",
      "\u001b[1;32mC:\\Users\\Fred\\Anaconda2\\lib\\site-packages\\twython\\api.pyc\u001b[0m in \u001b[0;36m_request\u001b[1;34m(self, url, method, params, api_call)\u001b[0m\n\u001b[0;32m    159\u001b[0m             \u001b[0mresponse\u001b[0m \u001b[1;33m=\u001b[0m \u001b[0mfunc\u001b[0m\u001b[1;33m(\u001b[0m\u001b[0murl\u001b[0m\u001b[1;33m,\u001b[0m \u001b[1;33m**\u001b[0m\u001b[0mrequests_args\u001b[0m\u001b[1;33m)\u001b[0m\u001b[1;33m\u001b[0m\u001b[0m\n\u001b[0;32m    160\u001b[0m         \u001b[1;32mexcept\u001b[0m \u001b[0mrequests\u001b[0m\u001b[1;33m.\u001b[0m\u001b[0mRequestException\u001b[0m \u001b[1;32mas\u001b[0m \u001b[0me\u001b[0m\u001b[1;33m:\u001b[0m\u001b[1;33m\u001b[0m\u001b[0m\n\u001b[1;32m--> 161\u001b[1;33m             \u001b[1;32mraise\u001b[0m \u001b[0mTwythonError\u001b[0m\u001b[1;33m(\u001b[0m\u001b[0mstr\u001b[0m\u001b[1;33m(\u001b[0m\u001b[0me\u001b[0m\u001b[1;33m)\u001b[0m\u001b[1;33m)\u001b[0m\u001b[1;33m\u001b[0m\u001b[0m\n\u001b[0m\u001b[0;32m    162\u001b[0m \u001b[1;33m\u001b[0m\u001b[0m\n\u001b[0;32m    163\u001b[0m         \u001b[1;31m# create stash for last function intel\u001b[0m\u001b[1;33m\u001b[0m\u001b[1;33m\u001b[0m\u001b[0m\n",
      "\u001b[1;31mTwythonError\u001b[0m: ('Connection aborted.', error(10054, 'An existing connection was forcibly closed by the remote host'))"
     ]
    }
   ],
   "source": [
    "tweets = twitter.search(q = \"stonybrook -filter:retweets -filter:replies\", count = 100)"
   ]
  },
  {
   "cell_type": "code",
   "execution_count": 17,
   "metadata": {
    "collapsed": true
   },
   "outputs": [],
   "source": [
    "twitter = twython.Twython(APP_KEY, APP_SECRET, OAUTH_TOKEN, OAUTH_SECRET)"
   ]
  },
  {
   "cell_type": "code",
   "execution_count": 18,
   "metadata": {
    "collapsed": true
   },
   "outputs": [],
   "source": [
    "tweets = twitter.search(q = \"stonybrook -filter:retweets -filter:replies\", count = 100)"
   ]
  },
  {
   "cell_type": "code",
   "execution_count": 19,
   "metadata": {
    "collapsed": false
   },
   "outputs": [
    {
     "data": {
      "text/plain": [
       "u\".@SBUSouthampton's Magdalene Brandeis invited to White House for @MoWFilmFest. https://t.co/xFSu3DVylP https://t.co/XzbFbliE9g\""
      ]
     },
     "execution_count": 19,
     "metadata": {},
     "output_type": "execute_result"
    }
   ],
   "source": [
    "tweets = tweets[\"statuses\"]\n",
    "tweets[0][\"text\"]"
   ]
  },
  {
   "cell_type": "code",
   "execution_count": 20,
   "metadata": {
    "collapsed": true
   },
   "outputs": [],
   "source": [
    "user_0 = tweets[0][\"user\"]"
   ]
  },
  {
   "cell_type": "code",
   "execution_count": 21,
   "metadata": {
    "collapsed": false
   },
   "outputs": [
    {
     "data": {
      "text/plain": [
       "u'SBUBuzz'"
      ]
     },
     "execution_count": 21,
     "metadata": {},
     "output_type": "execute_result"
    }
   ],
   "source": [
    "user_0[\"screen_name\"]"
   ]
  },
  {
   "cell_type": "code",
   "execution_count": 22,
   "metadata": {
    "collapsed": false
   },
   "outputs": [
    {
     "data": {
      "text/plain": [
       "u'Thu Jul 01 16:59:50 +0000 2010'"
      ]
     },
     "execution_count": 22,
     "metadata": {},
     "output_type": "execute_result"
    }
   ],
   "source": [
    "user_0[\"created_at\"]"
   ]
  },
  {
   "cell_type": "code",
   "execution_count": 23,
   "metadata": {
    "collapsed": false
   },
   "outputs": [
    {
     "data": {
      "text/plain": [
       "['__class__',\n",
       " '__delattr__',\n",
       " '__dict__',\n",
       " '__doc__',\n",
       " '__format__',\n",
       " '__getattribute__',\n",
       " '__hash__',\n",
       " '__init__',\n",
       " '__module__',\n",
       " '__new__',\n",
       " '__reduce__',\n",
       " '__reduce_ex__',\n",
       " '__repr__',\n",
       " '__setattr__',\n",
       " '__sizeof__',\n",
       " '__str__',\n",
       " '__subclasshook__',\n",
       " '__weakref__',\n",
       " '_get_error_message',\n",
       " '_last_call',\n",
       " '_request',\n",
       " 'access_token',\n",
       " 'access_token_url',\n",
       " 'add_list_member',\n",
       " 'api_url',\n",
       " 'api_version',\n",
       " 'app_key',\n",
       " 'app_secret',\n",
       " 'authenticate_url',\n",
       " 'client',\n",
       " 'client_args',\n",
       " 'construct_api_url',\n",
       " 'create_block',\n",
       " 'create_favorite',\n",
       " 'create_friendship',\n",
       " 'create_list',\n",
       " 'create_list_members',\n",
       " 'create_mute',\n",
       " 'create_place',\n",
       " 'create_saved_search',\n",
       " 'cursor',\n",
       " 'delete_list',\n",
       " 'delete_list_member',\n",
       " 'delete_list_members',\n",
       " 'destroy_block',\n",
       " 'destroy_direct_message',\n",
       " 'destroy_favorite',\n",
       " 'destroy_friendship',\n",
       " 'destroy_mute',\n",
       " 'destroy_saved_search',\n",
       " 'destroy_status',\n",
       " 'encode',\n",
       " 'get',\n",
       " 'get_account_settings',\n",
       " 'get_application_rate_limit_status',\n",
       " 'get_authentication_tokens',\n",
       " 'get_authorized_tokens',\n",
       " 'get_available_trends',\n",
       " 'get_closest_trends',\n",
       " 'get_contributees',\n",
       " 'get_contributors',\n",
       " 'get_direct_message',\n",
       " 'get_direct_messages',\n",
       " 'get_favorites',\n",
       " 'get_followers_ids',\n",
       " 'get_followers_list',\n",
       " 'get_friends_ids',\n",
       " 'get_friends_list',\n",
       " 'get_geo_info',\n",
       " 'get_home_timeline',\n",
       " 'get_incoming_friendship_ids',\n",
       " 'get_lastfunction_header',\n",
       " 'get_list_members',\n",
       " 'get_list_memberships',\n",
       " 'get_list_statuses',\n",
       " 'get_list_subscribers',\n",
       " 'get_list_subscriptions',\n",
       " 'get_mentions_timeline',\n",
       " 'get_oembed_tweet',\n",
       " 'get_outgoing_friendship_ids',\n",
       " 'get_place_trends',\n",
       " 'get_privacy_policy',\n",
       " 'get_profile_banner_sizes',\n",
       " 'get_retweeters_ids',\n",
       " 'get_retweets',\n",
       " 'get_saved_searches',\n",
       " 'get_sent_messages',\n",
       " 'get_similar_places',\n",
       " 'get_specific_list',\n",
       " 'get_supported_languages',\n",
       " 'get_tos',\n",
       " 'get_twitter_configuration',\n",
       " 'get_user_ids_of_blocked_retweets',\n",
       " 'get_user_suggestions',\n",
       " 'get_user_suggestions_by_slug',\n",
       " 'get_user_suggestions_statuses_by_slug',\n",
       " 'get_user_timeline',\n",
       " 'html_for_tweet',\n",
       " 'invalidate_token',\n",
       " 'is_list_member',\n",
       " 'is_list_subscriber',\n",
       " 'list_block_ids',\n",
       " 'list_blocks',\n",
       " 'list_mute_ids',\n",
       " 'list_mutes',\n",
       " 'lookup_friendships',\n",
       " 'lookup_status',\n",
       " 'lookup_user',\n",
       " 'oauth_token',\n",
       " 'oauth_token_secret',\n",
       " 'oauth_version',\n",
       " 'obtain_access_token',\n",
       " 'post',\n",
       " 'remove_profile_banner',\n",
       " 'report_spam',\n",
       " 'request',\n",
       " 'request_token_url',\n",
       " 'retweet',\n",
       " 'retweeted_of_me',\n",
       " 'reverse_geocode',\n",
       " 'search',\n",
       " 'search_gen',\n",
       " 'search_geo',\n",
       " 'search_users',\n",
       " 'send_direct_message',\n",
       " 'show_friendship',\n",
       " 'show_lists',\n",
       " 'show_owned_lists',\n",
       " 'show_saved_search',\n",
       " 'show_status',\n",
       " 'show_user',\n",
       " 'subscribe_to_list',\n",
       " 'unicode2utf8',\n",
       " 'unsubscribe_from_list',\n",
       " 'update_account_settings',\n",
       " 'update_delivery_service',\n",
       " 'update_friendship',\n",
       " 'update_list',\n",
       " 'update_profile',\n",
       " 'update_profile_background_image',\n",
       " 'update_profile_banner_image',\n",
       " 'update_profile_colors',\n",
       " 'update_profile_image',\n",
       " 'update_status',\n",
       " 'update_status_with_media',\n",
       " 'upload_media',\n",
       " 'upload_video',\n",
       " 'verify_credentials']"
      ]
     },
     "execution_count": 23,
     "metadata": {},
     "output_type": "execute_result"
    }
   ],
   "source": [
    "dir(twitter)"
   ]
  },
  {
   "cell_type": "code",
   "execution_count": 24,
   "metadata": {
    "collapsed": true
   },
   "outputs": [],
   "source": [
    "timeline = twitter.get_user_timeline(screen_name = \"SBUBuzz\")"
   ]
  },
  {
   "cell_type": "code",
   "execution_count": 25,
   "metadata": {
    "collapsed": false
   },
   "outputs": [
    {
     "data": {
      "text/plain": [
       "list"
      ]
     },
     "execution_count": 25,
     "metadata": {},
     "output_type": "execute_result"
    }
   ],
   "source": [
    "type(timeline)"
   ]
  },
  {
   "cell_type": "code",
   "execution_count": 26,
   "metadata": {
    "collapsed": false
   },
   "outputs": [
    {
     "data": {
      "text/plain": [
       "[u'contributors',\n",
       " u'truncated',\n",
       " u'text',\n",
       " u'is_quote_status',\n",
       " u'in_reply_to_status_id',\n",
       " u'id',\n",
       " u'favorite_count',\n",
       " u'source',\n",
       " u'retweeted',\n",
       " u'coordinates',\n",
       " u'entities',\n",
       " u'in_reply_to_screen_name',\n",
       " u'in_reply_to_user_id',\n",
       " u'retweet_count',\n",
       " u'id_str',\n",
       " u'favorited',\n",
       " u'user',\n",
       " u'geo',\n",
       " u'in_reply_to_user_id_str',\n",
       " u'possibly_sensitive',\n",
       " u'lang',\n",
       " u'created_at',\n",
       " u'in_reply_to_status_id_str',\n",
       " u'place',\n",
       " u'extended_entities']"
      ]
     },
     "execution_count": 26,
     "metadata": {},
     "output_type": "execute_result"
    }
   ],
   "source": [
    "timeline[0].keys()"
   ]
  },
  {
   "cell_type": "code",
   "execution_count": 27,
   "metadata": {
    "collapsed": false
   },
   "outputs": [
    {
     "data": {
      "text/plain": [
       "u\".@SBUSouthampton's Magdalene Brandeis invited to White House for @MoWFilmFest. https://t.co/xFSu3DVylP https://t.co/XzbFbliE9g\""
      ]
     },
     "execution_count": 27,
     "metadata": {},
     "output_type": "execute_result"
    }
   ],
   "source": [
    "timeline[0][\"text\"]"
   ]
  },
  {
   "cell_type": "code",
   "execution_count": 28,
   "metadata": {
    "collapsed": false
   },
   "outputs": [
    {
     "data": {
      "text/plain": [
       "u'RT @StonyBrookXCTF: ICYMI: @LucyVanDalen will be going to #Rio2016 with @nzolympics! https://t.co/Ozz06elJG9 #AETF https://t.co/r3DodukSZZ'"
      ]
     },
     "execution_count": 28,
     "metadata": {},
     "output_type": "execute_result"
    }
   ],
   "source": [
    "timeline[3][\"text\"]"
   ]
  },
  {
   "cell_type": "code",
   "execution_count": 29,
   "metadata": {
    "collapsed": true
   },
   "outputs": [],
   "source": [
    "tweets = twitter.search(q = \"olympics\", until = \"2016-07-10\")"
   ]
  },
  {
   "cell_type": "code",
   "execution_count": 30,
   "metadata": {
    "collapsed": false
   },
   "outputs": [
    {
     "data": {
      "text/plain": [
       "0"
      ]
     },
     "execution_count": 30,
     "metadata": {},
     "output_type": "execute_result"
    }
   ],
   "source": [
    "len(tweets[\"statuses\"])"
   ]
  },
  {
   "cell_type": "code",
   "execution_count": null,
   "metadata": {
    "collapsed": true
   },
   "outputs": [],
   "source": []
  }
 ],
 "metadata": {
  "kernelspec": {
   "display_name": "Python 2",
   "language": "python",
   "name": "python2"
  },
  "language_info": {
   "codemirror_mode": {
    "name": "ipython",
    "version": 2
   },
   "file_extension": ".py",
   "mimetype": "text/x-python",
   "name": "python",
   "nbconvert_exporter": "python",
   "pygments_lexer": "ipython2",
   "version": "2.7.11"
  }
 },
 "nbformat": 4,
 "nbformat_minor": 0
}
